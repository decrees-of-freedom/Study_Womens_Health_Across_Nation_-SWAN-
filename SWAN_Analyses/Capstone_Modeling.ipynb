{
 "cells": [
  {
   "cell_type": "code",
   "execution_count": 1,
   "id": "492dcef6-5383-4068-97ed-aa54430c949a",
   "metadata": {},
   "outputs": [],
   "source": [
    "# Laod misc Libraries\n",
    "import numpy as np\n",
    "import pandas as pd\n",
    "\n",
    "# EDA Visuals\n",
    "import sweetviz as sv"
   ]
  },
  {
   "cell_type": "code",
   "execution_count": 2,
   "id": "edf0a173-39b2-4704-bd6b-20eaf34a7990",
   "metadata": {},
   "outputs": [],
   "source": [
    "# Load data\n",
    "data = pd.read_csv(r'C:\\Users\\e647371\\Desktop\\My Folder\\School\\Capstone\\full_data_long.csv', low_memory = False)"
   ]
  },
  {
   "cell_type": "code",
   "execution_count": 3,
   "id": "7fc8d06f-87a6-4860-93db-cd4eb470b7e6",
   "metadata": {},
   "outputs": [],
   "source": [
    "# data.head()"
   ]
  },
  {
   "cell_type": "code",
   "execution_count": 4,
   "id": "c233f538-2f70-4501-819c-f1e648ea567b",
   "metadata": {},
   "outputs": [],
   "source": [
    "# Remove columns with >75% null values\n",
    "data = data.loc[:, data.isnull().mean() < .75]"
   ]
  },
  {
   "cell_type": "code",
   "execution_count": null,
   "id": "41564322-47d3-46f5-b5cd-275729d9353f",
   "metadata": {},
   "outputs": [],
   "source": [
    "# data.head()"
   ]
  },
  {
   "cell_type": "code",
   "execution_count": 5,
   "id": "e00ee730-1ed3-48cc-aef2-e2611157442a",
   "metadata": {},
   "outputs": [],
   "source": [
    "# Remove columns with >50% null values\n",
    "data = data.loc[:, data.isnull().mean() < .5]"
   ]
  },
  {
   "cell_type": "code",
   "execution_count": 6,
   "id": "98015c53-b45d-4397-beae-a13aedae3618",
   "metadata": {},
   "outputs": [],
   "source": [
    "# data.head()"
   ]
  },
  {
   "cell_type": "code",
   "execution_count": 7,
   "id": "0d08f3df-da46-47c6-a0d5-8e1c2238cda9",
   "metadata": {},
   "outputs": [],
   "source": [
    "#analyze_report = sv.analyze(data, pairwise_analysis='on')\n",
    "#analyze_report.show_html()"
   ]
  },
  {
   "cell_type": "raw",
   "id": "1aaa5114-555a-4a9f-b3b5-1eba39d76243",
   "metadata": {},
   "source": [
    "# Sleeping variables are messy... Begin with creating binary variables - did they have problems or not.  Can review extent of problems downline.\n",
    "\n",
    "Focusing on the below:\n",
    "NITESWE\n",
    "TRBLSLE\n",
    "WAKEUP\n",
    "WAKEARL\n",
    "\n",
    "# 09/01 Update\n",
    "# Remove NITESWE and add SLEEPQL\n"
   ]
  },
  {
   "cell_type": "code",
   "execution_count": 8,
   "id": "e687b65a-cbf4-4679-8507-e81e61e9d5ea",
   "metadata": {},
   "outputs": [
    {
     "data": {
      "text/plain": [
       "Not at all       8198\n",
       "Not At All       5514\n",
       "1: Not At All    2825\n",
       "1-5 Days         2562\n",
       "1-5 days         1868\n",
       "1: Not at all    1367\n",
       "2: 1-5 Days      1164\n",
       "1-5 day           623\n",
       "2: 1-5 days       620\n",
       "Every day         573\n",
       "6-8 Days          442\n",
       "5: Every Day      334\n",
       "6-8 days          322\n",
       "Every Day         256\n",
       "9-13 Days         250\n",
       "9-13 days         217\n",
       "3: 6-8 Days       191\n",
       "5: Every day      145\n",
       "6-8 day           136\n",
       "4: 9-13 Days      127\n",
       "3: 6-8 days       121\n",
       "9-13 day           86\n",
       "4: 9-13 days       73\n",
       "Name: NITESWE, dtype: int64"
      ]
     },
     "execution_count": 8,
     "metadata": {},
     "output_type": "execute_result"
    }
   ],
   "source": [
    "data['NITESWE'].value_counts()"
   ]
  },
  {
   "cell_type": "code",
   "execution_count": 9,
   "id": "86cb0871-ad60-4ac7-a66a-773ae6125ba9",
   "metadata": {},
   "outputs": [],
   "source": [
    "# Convert NITESWE to binary\n",
    "data['NITESWE'].replace([\"1-5 Days\" ,\"2: 1-5 days\" ,\"Every Day\" ,\"6-8 Days\" ,\"1-5 day\" ,\"5: Every day\" ,\"9-13 Days\" ,\"3: 6-8 days\" ,\"4: 9-13 days\" ,\"6-8 day\" ,\"9-13 day\",\n",
    "                         \"1-5 days\", \"2: 1-5 Days\", \"Every day\", \"5: Every Day\", \"6-8 days\", \"9-13 days\", \"3: 6-8 Days\", \"4: 9-13 Days\",\n",
    "                         # No problem variables below\n",
    "                         \"Not At All\", \"1: Not at all\", \"Not at all\",\"1: Not At All\"],\n",
    "                        [1,1,1,1,1,1,1,1,1,1,1,1,1,1,1,1,1,1,1,\n",
    "                         0,0,0,0], inplace=True)"
   ]
  },
  {
   "cell_type": "code",
   "execution_count": 10,
   "id": "f152e26d-1453-48af-9208-e3a1c27fe2b3",
   "metadata": {},
   "outputs": [
    {
     "data": {
      "text/plain": [
       "No, Not In The Past 2 Wks         4656\n",
       "No, not in the past 2 wks         4113\n",
       "No, not in the past 2 weeks       2699\n",
       "Yes, < Once A Wk                  1525\n",
       "Yes, < once a wk                  1270\n",
       "1: No, not in the past 2 weeks    1196\n",
       "Yes, 1-2 Times/Wk                 1183\n",
       "1: No, Not In The Past 2 Wks      1128\n",
       "Yes, 1-2 times/wk                 1035\n",
       "1: No, Not In The Past 2 Weeks    1033\n",
       "Yes, 3-4 times/wk                  570\n",
       "Yes, < once a week                 497\n",
       "Yes, 3-4 Times/Wk                  490\n",
       "Yes, 5 or more times/wk            467\n",
       "Yes, 5 or More Times/Wk            449\n",
       "Yes, 1-2 times/week                382\n",
       "Yes, less than once a week         377\n",
       "2: Yes, < Once A Week              366\n",
       "2: Yes, less than once a week      353\n",
       "3: Yes, 1-2 Times/Wk               343\n",
       "3: Yes, 1-2 Times/Week             340\n",
       "Yes, 1-2 times per week            336\n",
       "2: Yes, < Once A Wk                329\n",
       "3: Yes, 1-2 times/week             314\n",
       "Yes, 3-4 times/week                171\n",
       "4: Yes, 3-4 Times/Wk               167\n",
       "Yes, 3-4 times per week            166\n",
       "5: Yes, 5 or More Times/Wk         159\n",
       "4: Yes, 3-4 Times/Week             157\n",
       "5: Yes, 5 or more times/week       156\n",
       "5: Yes, 5 or More Times/Week       154\n",
       "Yes, 5 or more times per week      154\n",
       "4: Yes, 3-4 times/week             151\n",
       "Yes, 5 or more times/week          150\n",
       "Name: TRBLSLE, dtype: int64"
      ]
     },
     "execution_count": 10,
     "metadata": {},
     "output_type": "execute_result"
    }
   ],
   "source": [
    "# TRBLSLE WAKEARL and WAKEUP have the same distributions.\n",
    "data['TRBLSLE'].value_counts()"
   ]
  },
  {
   "cell_type": "code",
   "execution_count": 11,
   "id": "027ad804-a060-433b-a4c0-793764245c0d",
   "metadata": {},
   "outputs": [],
   "source": [
    "# Convert TRBLSLE to binary\n",
    "data['TRBLSLE'].replace([\"Yes, < Once A Wk\", \"Yes, < once a wk\", \"Yes, 1-2 Times/Wk\", \"Yes, 1-2 times/wk\", \"Yes, 3-4 times/wk\", \"Yes, < once a week\", \n",
    "                         \"Yes, 3-4 Times/Wk\", \"Yes, 5 or more times/wk\", \"Yes, 5 or More Times/Wk\", \"Yes, 1-2 times/week\", \"Yes, less than once a week\", \n",
    "                         \"2: Yes, < Once A Week\", \"2: Yes, less than once a week\", \"3: Yes, 1-2 Times/Wk\", \"3: Yes, 1-2 Times/Week\", \"Yes, 1-2 times per week\", \n",
    "                         \"2: Yes, < Once A Wk\", \"3: Yes, 1-2 times/week\", \"Yes, 3-4 times/week\", \"4: Yes, 3-4 Times/Wk\", \"Yes, 3-4 times per week\", \n",
    "                         \"5: Yes, 5 or More Times/Wk\", \"4: Yes, 3-4 Times/Week\", \"5: Yes, 5 or more times/week\", \"5: Yes, 5 or More Times/Week\", \n",
    "                         \"Yes, 5 or more times per week\", \"4: Yes, 3-4 times/week\", \"Yes, 5 or more times/week\",\n",
    "                          # No problem variables below\n",
    "                         \"No, Not In The Past 2 Wks\", \"No, not in the past 2 wks\", \"No, not in the past 2 weeks\", \"1: No, not in the past 2 weeks\", \n",
    "                         \"1: No, Not In The Past 2 Wks\", \"1: No, Not In The Past 2 Weeks\"],\n",
    "                        [1,1,1,1,1,1,1,1,1,1,1,1,1,1,1,1,1,1,1,1,1,1,1,1,1,1,1,1,\n",
    "                         0,0,0,0,0,0], inplace=True)\n",
    "\n",
    "# Convert WAKEUP to binary\n",
    "data['WAKEUP'].replace([\"Yes, < Once A Wk\", \"Yes, < once a wk\", \"Yes, 1-2 Times/Wk\", \"Yes, 1-2 times/wk\", \"Yes, 3-4 times/wk\", \"Yes, < once a week\", \n",
    "                         \"Yes, 3-4 Times/Wk\", \"Yes, 5 or more times/wk\", \"Yes, 5 or More Times/Wk\", \"Yes, 1-2 times/week\", \"Yes, less than once a week\", \n",
    "                         \"2: Yes, < Once A Week\", \"2: Yes, less than once a week\", \"3: Yes, 1-2 Times/Wk\", \"3: Yes, 1-2 Times/Week\", \"Yes, 1-2 times per week\", \n",
    "                         \"2: Yes, < Once A Wk\", \"3: Yes, 1-2 times/week\", \"Yes, 3-4 times/week\", \"4: Yes, 3-4 Times/Wk\", \"Yes, 3-4 times per week\", \n",
    "                         \"5: Yes, 5 or More Times/Wk\", \"4: Yes, 3-4 Times/Week\", \"5: Yes, 5 or more times/week\", \"5: Yes, 5 or More Times/Week\", \n",
    "                         \"Yes, 5 or more times per week\", \"4: Yes, 3-4 times/week\", \"Yes, 5 or more times/week\",\n",
    "                          # No problem variables below\n",
    "                         \"No, Not In The Past 2 Wks\", \"No, not in the past 2 wks\", \"No, not in the past 2 weeks\", \"1: No, not in the past 2 weeks\", \n",
    "                         \"1: No, Not In The Past 2 Wks\", \"1: No, Not In The Past 2 Weeks\"],\n",
    "                        [1,1,1,1,1,1,1,1,1,1,1,1,1,1,1,1,1,1,1,1,1,1,1,1,1,1,1,1,\n",
    "                         0,0,0,0,0,0], inplace=True)\n",
    "\n",
    "\n",
    "# Convert WAKEARL to binary\n",
    "data['WAKEARL'].replace([\"Yes, < Once A Wk\", \"Yes, < once a wk\", \"Yes, 1-2 Times/Wk\", \"Yes, 1-2 times/wk\", \"Yes, 3-4 times/wk\", \"Yes, < once a week\", \n",
    "                         \"Yes, 3-4 Times/Wk\", \"Yes, 5 or more times/wk\", \"Yes, 5 or More Times/Wk\", \"Yes, 1-2 times/week\", \"Yes, less than once a week\", \n",
    "                         \"2: Yes, < Once A Week\", \"2: Yes, less than once a week\", \"3: Yes, 1-2 Times/Wk\", \"3: Yes, 1-2 Times/Week\", \"Yes, 1-2 times per week\", \n",
    "                         \"2: Yes, < Once A Wk\", \"3: Yes, 1-2 times/week\", \"Yes, 3-4 times/week\", \"4: Yes, 3-4 Times/Wk\", \"Yes, 3-4 times per week\", \n",
    "                         \"5: Yes, 5 or More Times/Wk\", \"4: Yes, 3-4 Times/Week\", \"5: Yes, 5 or more times/week\", \"5: Yes, 5 or More Times/Week\", \n",
    "                         \"Yes, 5 or more times per week\", \"4: Yes, 3-4 times/week\", \"Yes, 5 or more times/week\",\n",
    "                          # No problem variables below\n",
    "                         \"No, Not In The Past 2 Wks\", \"No, not in the past 2 wks\", \"No, not in the past 2 weeks\", \"1: No, not in the past 2 weeks\", \n",
    "                         \"1: No, Not In The Past 2 Wks\", \"1: No, Not In The Past 2 Weeks\"],\n",
    "                        [1,1,1,1,1,1,1,1,1,1,1,1,1,1,1,1,1,1,1,1,1,1,1,1,1,1,1,1,\n",
    "                         0,0,0,0,0,0], inplace=True)\n",
    "                        "
   ]
  },
  {
   "cell_type": "code",
   "execution_count": 16,
   "id": "6ce580ef-ccf7-486d-bb57-c30a8501b2c3",
   "metadata": {},
   "outputs": [
    {
     "data": {
      "text/plain": [
       "Fairly good       6477\n",
       "2: Fairly good    3120\n",
       "Very good         2863\n",
       "Fairly bad        2063\n",
       "1: Very good      1290\n",
       "3: Fairly bad     1085\n",
       "Very bad           439\n",
       "4: Very bad        234\n",
       "Name: SLEEPQL, dtype: int64"
      ]
     },
     "execution_count": 16,
     "metadata": {},
     "output_type": "execute_result"
    }
   ],
   "source": [
    "data['SLEEPQL'].value_counts()"
   ]
  },
  {
   "cell_type": "code",
   "execution_count": 17,
   "id": "fc50276c-14e6-40b5-8d7c-33fa3bb80d48",
   "metadata": {},
   "outputs": [],
   "source": [
    "data['SLEEPQL'].replace([\"Fairly bad\" ,\"3: Fairly bad\" ,\"Very bad\" ,\"4: Very bad\",\n",
    "                         # No problem variables below\n",
    "                         \"Fairly good\", \"2: Fairly good\", \"Very good\",\"1: Very good\"],\n",
    "                        [1,1,1,1,\n",
    "                         0,0,0,0], inplace=True)"
   ]
  },
  {
   "cell_type": "code",
   "execution_count": 18,
   "id": "ba84d851-3712-4beb-8fde-8fa0a64abb12",
   "metadata": {},
   "outputs": [
    {
     "data": {
      "text/plain": [
       "0.0    13750\n",
       "1.0     3821\n",
       "Name: SLEEPQL, dtype: int64"
      ]
     },
     "execution_count": 18,
     "metadata": {},
     "output_type": "execute_result"
    }
   ],
   "source": [
    "data['SLEEPQL'].value_counts()"
   ]
  },
  {
   "cell_type": "code",
   "execution_count": 12,
   "id": "dab41da0-11c9-44d4-9060-53157d5bda3e",
   "metadata": {},
   "outputs": [
    {
     "data": {
      "text/plain": [
       "0.0    17904\n",
       "1.0    10110\n",
       "Name: NITESWE, dtype: int64"
      ]
     },
     "execution_count": 12,
     "metadata": {},
     "output_type": "execute_result"
    }
   ],
   "source": [
    "data['NITESWE'].value_counts()"
   ]
  },
  {
   "cell_type": "code",
   "execution_count": 13,
   "id": "909e3037-aebd-4037-9df8-0de299b4eaf3",
   "metadata": {},
   "outputs": [
    {
     "data": {
      "text/plain": [
       "0.0    14825\n",
       "1.0    12211\n",
       "Name: TRBLSLE, dtype: int64"
      ]
     },
     "execution_count": 13,
     "metadata": {},
     "output_type": "execute_result"
    }
   ],
   "source": [
    "data['TRBLSLE'].value_counts()"
   ]
  },
  {
   "cell_type": "code",
   "execution_count": 14,
   "id": "f1be2970-d8f5-4728-8682-cefb86665094",
   "metadata": {},
   "outputs": [
    {
     "data": {
      "text/plain": [
       "1.0    19144\n",
       "0.0     7885\n",
       "Name: WAKEUP, dtype: int64"
      ]
     },
     "execution_count": 14,
     "metadata": {},
     "output_type": "execute_result"
    }
   ],
   "source": [
    "data['WAKEUP'].value_counts()"
   ]
  },
  {
   "cell_type": "code",
   "execution_count": 15,
   "id": "456b4f9a-a54d-4672-a620-2d375ef6eb94",
   "metadata": {},
   "outputs": [
    {
     "data": {
      "text/plain": [
       "1.0    14072\n",
       "0.0    12960\n",
       "Name: WAKEARL, dtype: int64"
      ]
     },
     "execution_count": 15,
     "metadata": {},
     "output_type": "execute_result"
    }
   ],
   "source": [
    "data['WAKEARL'].value_counts()"
   ]
  },
  {
   "cell_type": "code",
   "execution_count": 19,
   "id": "9927c955-111f-47ef-afb1-6954d42e27a2",
   "metadata": {},
   "outputs": [],
   "source": [
    "## Build sleeping index ##\n",
    "data[\"sleepTarget\"] = data[['SLEEPQL', 'TRBLSLE', 'WAKEUP','WAKEARL']].mean(axis=1)\n"
   ]
  },
  {
   "cell_type": "code",
   "execution_count": 20,
   "id": "a46bfb72-14ce-401c-a49e-01b7699df755",
   "metadata": {},
   "outputs": [
    {
     "data": {
      "text/plain": [
       "1.000000    5308\n",
       "0.000000    5228\n",
       "0.500000    4110\n",
       "0.250000    3925\n",
       "0.750000    3878\n",
       "0.666667    2393\n",
       "0.333333    2210\n",
       "Name: sleepTarget, dtype: int64"
      ]
     },
     "execution_count": 20,
     "metadata": {},
     "output_type": "execute_result"
    }
   ],
   "source": [
    "data['sleepTarget'].value_counts()"
   ]
  },
  {
   "cell_type": "code",
   "execution_count": 21,
   "id": "ae0c8bcf-f72a-47fc-a6a8-302cbd25b15d",
   "metadata": {},
   "outputs": [],
   "source": [
    "# data.info()"
   ]
  },
  {
   "cell_type": "code",
   "execution_count": 22,
   "id": "b3b4e3de-563e-421a-b486-fe5b84f426df",
   "metadata": {},
   "outputs": [],
   "source": [
    "### As I look, it might be best to normalize all fields similar to above (but expanded) ###\n",
    "### Below will change all instances into one, based on the interval ###\n",
    "\n",
    "\n",
    "data = data.replace({\"Yes, 1-2 Times/Wk\":\"1-2 Times/Wk\",\n",
    "\"Yes, 1-2 times/wk\":\"1-2 Times/Wk\",\n",
    "\"Yes, 1-2 times/week\":\"1-2 Times/Wk\",\n",
    "\"3: Yes, 1-2 Times/Wk\":\"1-2 Times/Wk\",\n",
    "\"3: Yes, 1-2 Times/Week\":\"1-2 Times/Wk\",\n",
    "\"Yes, 1-2 times per week\":\"1-2 Times/Wk\",\n",
    "\"3: Yes, 1-2 times/week\":\"1-2 Times/Wk\",\n",
    "\"1-5 Days\":\"1-5 Days\",\n",
    "\"1-5 days\":\"1-5 Days\",\n",
    "\"1-5 day\":\"1-5 Days\",\n",
    "\"2: 1-5 Days\":\"1-5 Days\",\n",
    "\"2: 1-5 days\":\"1-5 Days\",\n",
    "\"Yes, 3-4 times/wk\":\"3-4 Times/Wk\",\n",
    "\"Yes, 3-4 Times/Wk\":\"3-4 Times/Wk\",\n",
    "\"Yes, 3-4 times/week\":\"3-4 Times/Wk\",\n",
    "\"4: Yes, 3-4 Times/Wk\":\"3-4 Times/Wk\",\n",
    "\"4: Yes, 3-4 Times/Week\":\"3-4 Times/Wk\",\n",
    "\"4: Yes, 3-4 times/week\":\"3-4 Times/Wk\",\n",
    "\"Yes, 3-4 times per week\":\"3-4 Times/Wk\",\n",
    "\"Yes, 5 or more times/wk\":\"5 or More Times/Wk\",\n",
    "\"Yes, 5 or More Times/Wk\":\"5 or More Times/Wk\",\n",
    "\"5: Yes, 5 or More Times/Wk\":\"5 or More Times/Wk\",\n",
    "\"5: Yes, 5 or more times/week\":\"5 or More Times/Wk\",\n",
    "\"5: Yes, 5 or More Times/Week\":\"5 or More Times/Wk\",\n",
    "\"Yes, 5 or more times per week\":\"5 or More Times/Wk\",\n",
    "\"Yes, 5 or more times/week\":\"5 or More Times/Wk\",\n",
    "\"6-8 Days\":\"6-8 Days\",\n",
    "\"6-8 days\":\"6-8 Days\",\n",
    "\"3: 6-8 Days\":\"6-8 Days\",\n",
    "\"6-8 day\":\"6-8 Days\",\n",
    "\"3: 6-8 days\":\"6-8 Days\",\n",
    "\"9-13 Days\":\"9-13 Days\",\n",
    "\"9-13 days\":\"9-13 Days\",\n",
    "\"4: 9-13 Days\":\"9-13 Days\",\n",
    "\"9-13 day\":\"9-13 Days\",\n",
    "\"4: 9-13 days\":\"9-13 Days\",\n",
    "\"Every day\":\"Daily\",\n",
    "\"5: Every Day\":\"Daily\",\n",
    "\"Every Day\":\"Daily\",\n",
    "\"5: Every day\":\"Daily\",\n",
    "\"Yes, < Once A Wk\":\"Less than 1/Week\",\n",
    "\"Yes, < once a wk\":\"Less than 1/Week\",\n",
    "\"Yes, < once a week\":\"Less than 1/Week\",\n",
    "\"2: Yes, < Once A Week\":\"Less than 1/Week\",\n",
    "\"2: Yes, less than once a week\":\"Less than 1/Week\",\n",
    "\"2: Yes, < Once A Wk\":\"Less than 1/Week\",\n",
    "\"Yes, less than once a week\":\"Less than 1/Week\",\n",
    "\"No, Not In The Past 2 Wks\":\"No, Not in Past 2 Weeks\",\n",
    "\"No, not in the past 2 wks\":\"No, Not in Past 2 Weeks\",\n",
    "\"No, not in the past 2 weeks\":\"No, Not in Past 2 Weeks\",\n",
    "\"1: No, not in the past 2 weeks\":\"No, Not in Past 2 Weeks\",\n",
    "\"1: No, Not In The Past 2 Wks\":\"No, Not in Past 2 Weeks\",\n",
    "\"1: No, Not In The Past 2 Weeks\":\"No, Not in Past 2 Weeks\",\n",
    "\"Not at all\":\"Not at All\",\n",
    "\"Not At All\":\"Not at All\",\n",
    "\"1: Not At All\":\"Not at All\",\n",
    "\"1: Not at all\":\"Not at All\",})\n",
    "\n"
   ]
  },
  {
   "cell_type": "code",
   "execution_count": 23,
   "id": "8d6ae1ad-009b-4e0c-925e-d80ba9a675f7",
   "metadata": {},
   "outputs": [],
   "source": [
    "## Running Sweet Viz, I found more to adjust ##\n",
    "\n",
    "data = data.replace({\n",
    "    \"1: No\":\"No\",\n",
    "    \"2: Yes\":\"Yes\",})\n",
    "\n"
   ]
  },
  {
   "cell_type": "code",
   "execution_count": 24,
   "id": "2771c173-3be0-4ab3-ae53-a631fc9f5cb5",
   "metadata": {},
   "outputs": [],
   "source": [
    "# Still more to adjust #"
   ]
  },
  {
   "cell_type": "code",
   "execution_count": 25,
   "id": "91d115be-af35-46de-89d3-621fa9bff59d",
   "metadata": {},
   "outputs": [],
   "source": [
    "data = data.replace({\n",
    "    \"Yes, somewhat upsetting\" : \"Yes, Somewhat Upsetting\",\n",
    "    \"3: Yes, Somewhat Upsetting\" : \"Yes, Somewhat Upsetting\",\n",
    "    \"Yes, Somewhat Upsetting\" : \"Yes, Somewhat Upsetting\",\n",
    "    \"3: Yes, somewhat upsetting\" : \"Yes, Somewhat Upsetting\",\n",
    "    \"Yes, very upsetting\" : \"Yes, Very Upsetting\",\n",
    "    \"4: Yes, Very Upsetting\" : \"Yes, Very Upsetting\",\n",
    "    \"Yes, Very Upsetting\" : \"Yes, Very Upsetting\",\n",
    "    \"4: Yes, very upsetting\" : \"Yes, Very Upsetting\",\n",
    "    \"Yes, Very Upsetting & Still Upsetting\" : \"Yes, Very Upsetting and Still Upsetting\",\n",
    "    \"5: Yes, very upsetting & still upsetting\" : \"Yes, Very Upsetting and Still Upsetting\",\n",
    "    \"Yes, very upsetting & still upsetting\" : \"Yes, Very Upsetting and Still Upsetting\",\n",
    "    \"5: Yes, Very Upsetting & Still Upsetting\" : \"Yes, Very Upsetting and Still Upsetting\",\n",
    "    \"Yes, very upsetting and still upsetting\" : \"Yes, Very Upsetting and Still Upsetting\",\n",
    "    \"Yes, not at all upsetting\" : \"Yes,Not Upsetting\",\n",
    "    \"2: Yes, Not At All Upsetting\" : \"Yes,Not Upsetting\",\n",
    "    \"Yes, Not At All Upsetting\" : \"Yes,Not Upsetting\",\n",
    "    \"2: Yes, not at all upsetting\" : \"Yes,Not Upsetting\",})"
   ]
  },
  {
   "cell_type": "code",
   "execution_count": 26,
   "id": "fd05f6e8-e118-4d98-92ad-51165f0d05b5",
   "metadata": {},
   "outputs": [],
   "source": [
    "data = data.replace({\n",
    "    \"None or <1/week\" : \"None or <1/week\",\n",
    "    \"1: None or <1/week\" : \"None or <1/week\",\n",
    "    \"1: None or less than 1/week\" : \"None or <1/week\",\n",
    "    \"3-4/week\" : \"3-4/week\",\n",
    "    \"1/week\" : \"1/week\",\n",
    "    \"2/week\" : \"2/week\",\n",
    "    \"4: 3-4/week\" : \"3-4/week\",\n",
    "    \"2: 1/week\" : \"1/week\",\n",
    "    \"3: 2/week\" : \"2/week\",\n",
    "    \"5-6/week\" : \"5-6/week\",\n",
    "    \"5: 5-6/week\" : \"5-6/week\",\n",
    "    \"6: >=7/week\" : \"6: >=7/week\",\n",
    "    \"6: Equal to or more than 7/week\" : \"6: >=7/week\",})"
   ]
  },
  {
   "cell_type": "code",
   "execution_count": 27,
   "id": "72d9e09b-7299-4e1a-854a-9d6ea1dc328f",
   "metadata": {},
   "outputs": [],
   "source": [
    "data = data.replace({\n",
    "    \"1: English\" : \"English\",\n",
    "    \"4: Japanese\" : \"Japanese\",\n",
    "    \"3: Cantonese\" : \"Cantonese\",\n",
    "    \"2: Spanish\" : \"Spanish\",})"
   ]
  },
  {
   "cell_type": "code",
   "execution_count": 28,
   "id": "5f00aad5-da7c-42e9-8115-088de780be65",
   "metadata": {},
   "outputs": [],
   "source": [
    "data = data.replace({\n",
    "\"Yes, as per protocol\" : \"Yes, as per protocol\",\n",
    "\"1: Yes, as per protocol\" : \"Yes, as per protocol\",\n",
    "\"Yes, menses too variable\" : \"Yes, menses too variable\",\n",
    "\"Yes, last attempt\" : \"Yes, Last attempt\",\n",
    "\"Yes, Last attempt\" : \"Yes, Last attempt\",\n",
    "\"2: Yes, menses too variable\" : \"Yes, menses too variable\",\n",
    "\"3: Yes, Last attempt\" : \"Yes, Last attempt\",\n",
    "\"3: Yes, last attempt\" : \"Yes, Last attempt\",\n",
    "\"No, Not fasting and/or not in window\" : \"No, Not fasting and/or not in window\",\n",
    "\"No, not fasting and/or not in window\" : \"No, Not fasting and/or not in window\",})\n"
   ]
  },
  {
   "cell_type": "code",
   "execution_count": 29,
   "id": "a888f358-f3d1-41a6-8e16-daccb41c5b52",
   "metadata": {},
   "outputs": [],
   "source": [
    "data = data.replace({\n",
    "\"All of the time\" : \"All of the Time\",\n",
    "\"All Of The Time\" : \"All of the Time\",\n",
    "\"Most of the time\" : \"Most of the Time\",\n",
    "\"Most Of The Time\" : \"Most of the Time\",\n",
    "\"5: All of the time\" : \"All of the Time\",\n",
    "\"5: All Of The Time\" : \"All of the Time\",\n",
    "\"Some of the time\" : \"Some of the Time\",\n",
    "\"Some Of The Time\" : \"Some of the Time\",\n",
    "\"4: Most of the time\" : \"Most of the Time\",\n",
    "\"4: Most Of The Time\" : \"Most of the Time\",\n",
    "\"A little of the time\" : \"A Little of the Time\",\n",
    "\"A Little Of The Time\" : \"A Little of the Time\",\n",
    "\"3: Some of the time\" : \"Some of the Time\",\n",
    "\"3: Some Of The Time\" : \"Some of the Time\",\n",
    "\"None Of The Time\" : \"None of the Time\",\n",
    "\"None of the time\" : \"None of the Time\",\n",
    "\"2: A little of the time\" : \"A Little of the Time\",\n",
    "\"2: A Little Of The Time\" : \"A Little of the Time\",\n",
    "\"1: None of the time\" : \"None of the Time\",\n",
    "\"1: None Of The Time\" : \"None of the Time\",})"
   ]
  },
  {
   "cell_type": "code",
   "execution_count": 30,
   "id": "f7f0f1ae-0447-4441-aff4-0d7196d51054",
   "metadata": {},
   "outputs": [],
   "source": [
    "data = data.replace({\n",
    "\"No Symptoms\" : \"No Symptoms\",\n",
    "\"Slightly\" : \"Slightly\",\n",
    "\"Moderately\" : \"Moderately\",\n",
    "\"2: Slightly\" : \"Slightly\",\n",
    "\"Quite a bit\" : \"Quite a Bit\",\n",
    "\"3: Moderately\" : \"Moderately\",\n",
    "\"Quite A Bit\" : \"Quite a Bit\",\n",
    "\"Extremely\" : \"Extremely\",\n",
    "\"4: Quite A Bit\" : \"Quite a Bit\",\n",
    "\"4: Quite a bit\" : \"Quite a Bit\",\n",
    "\"5: Extremely\" : \"Extremely\",})\n"
   ]
  },
  {
   "cell_type": "code",
   "execution_count": 31,
   "id": "bff5dcca-5ce7-4ee1-81b0-430f65c64f59",
   "metadata": {},
   "outputs": [],
   "source": [
    "data = data.replace({\n",
    "\"Mild\" : \"Mild\",\n",
    "\"Very mild\" : \"Very Mild\",\n",
    "\"Moderately\" : \"Moderately\",\n",
    "\"None\" : \"None\",\n",
    "\"Very Mild\" : \"Very Mild\",\n",
    "\"3: Mild\" : \"Mild\",\n",
    "\"Severe\" : \"Severe\",\n",
    "\"4: Moderately\" : \"Moderately\",\n",
    "\"2: Very mild\" : \"Very Mild\",\n",
    "\"1: None\" : \"None\",\n",
    "\"2: Very Mild\" : \"Very Mild\",\n",
    "\"5: Severe\" : \"Severe\",\n",
    "\"Very severe\" : \"Very Severe\",\n",
    "\"Very Severe\" : \"Very Severe\",\n",
    "\"6: Very Severe\" : \"Very Severe\",\n",
    "\"6: Very severe\" : \"Very Severe\",})\n"
   ]
  },
  {
   "cell_type": "code",
   "execution_count": 32,
   "id": "5e213892-afd8-4e4b-8434-94c65aed255c",
   "metadata": {},
   "outputs": [],
   "source": [
    "data = data.replace({\n",
    "\"Some of the Time\" : \"Some of the Time\",\n",
    "\"Most of the Time\" : \"Most of the Time\",\n",
    "\"A Little of the Time\" : \"A Little of the Time\",\n",
    "\"A good bit of the time\" : \"A Good Bit of the Time\",\n",
    "\"A Good Bit Of The Time\" : \"A Good Bit of the Time\",\n",
    "\"None of the Time\" : \"None of the Time\",\n",
    "\"4: Some of the time\" : \"Some of the Time\",\n",
    "\"2: Most Of The Time\" : \"Most of the Time\",\n",
    "\"4: Some Of The Time\" : \"Some of the Time\",\n",
    "\"3: A good bit of the time\" : \"A Good Bit of the Time\",\n",
    "\"2: Most of the time\" : \"Most of the Time\",\n",
    "\"3: A Good Bit Of The Time\" : \"A Good Bit of the Time\",\n",
    "\"All of the Time\" : \"All of the Time\",\n",
    "\"5: A little of the time\" : \"A Little of the Time\",\n",
    "\"5: A Little Of The Time\" : \"A Little of the Time\",\n",
    "\"6: None of the time\" : \"None of the Time\",\n",
    "\"6: None Of The Time\" : \"None of the Time\",\n",
    "\"1: All Of The Time\" : \"All of the Time\",\n",
    "\"1: All of the time\" : \"All of the Time\",})\n"
   ]
  },
  {
   "cell_type": "code",
   "execution_count": 33,
   "id": "1745ac8f-f155-4ba0-9966-502eea304d56",
   "metadata": {},
   "outputs": [],
   "source": [
    "data = data.replace({\n",
    "\"1-2 Hrs/Day\" : \"1-2 Hrs/Day\",\n",
    "\"2-4 Hrs/Day\" : \"2-4 Hrs/Day\",\n",
    "\"1-2 hrs/day\" : \"1-2 Hrs/Day\",\n",
    "\"At Least 1 Hr/Wk But < 1 Hr/Day\" : \"At Least 1 Hr/Wk But < 1 Hr/Day\",\n",
    "\"2-4 hrs/day\" : \"2-4 Hrs/Day\",\n",
    "\"1-2 hours/day\" : \"1-2 Hrs/Day\",\n",
    "\"At least 1 hr/wk but < 1 hr/day\" : \"At Least 1 Hr/Wk But < 1 Hr/Day\",\n",
    "\"More Than 4 Hrs/Day\" : \"More Than 4 Hrs/Day\",\n",
    "\"3: 1-2 hours/day\" : \"1-2 Hrs/Day\",\n",
    "\"3: 1-2 Hours/Day\" : \"1-2 Hrs/Day\",\n",
    "\"2-4 hours/day\" : \"2-4 Hrs/Day\",\n",
    "\"At least 1 hour/week but < 1 hour/day\" : \"At Least 1 Hr/Wk But < 1 Hr/Day\",\n",
    "\"More than 4 hrs/day\" : \"More Than 4 Hrs/Day\",\n",
    "\"4: 2-4 hours/day\" : \"2-4 Hrs/Day\",\n",
    "\"4: 2-4 Hours/Day\" : \"2-4 Hrs/Day\",\n",
    "\"Never Or Less Than 1 Hr/Wk\" : \"Never Or Less Than 1 Hr/Wk\",\n",
    "\"2: At least 1 hour/week but less than 1 hour/day\" : \"At Least 1 Hr/Wk But < 1 Hr/Day\",\n",
    "\"2: At Least 1 Hour/Week But < 1 Hour/Day\" : \"At Least 1 Hr/Wk But < 1 Hr/Day\",\n",
    "\"Never or less than 1 hr/wk\" : \"Never Or Less Than 1 Hr/Wk\",\n",
    "\"More than 4 hours/day\" : \"More Than 4 Hrs/Day\",\n",
    "\"5: More Than 4 Hours/Day\" : \"More Than 4 Hrs/Day\",\n",
    "\"5: More than 4 hour/day\" : \"More Than 4 Hrs/Day\",\n",
    "\"Never or less than 1 hour/week\" : \"Never Or Less Than 1 Hr/Wk\",\n",
    "\"1: Never or less than 1 hour/week\" : \"Never Or Less Than 1 Hr/Wk\",\n",
    "\"1: Never Or Less Than 1 Hour/Week\" : \"Never Or Less Than 1 Hr/Wk\",\n",
    "})"
   ]
  },
  {
   "cell_type": "code",
   "execution_count": 34,
   "id": "8928b2d1-cac6-4d55-9bb2-54b6e6b0fc62",
   "metadata": {},
   "outputs": [],
   "source": [
    "data = data.replace({\n",
    "\"Never/ < 5 Minutes Per Day\" : \"Never or less 5 minutes per day\",\n",
    "\"5-15 Minutes/Day\" : \"5-15 Minutes/Day\",\n",
    "\"Never or less 5 minutes per day\" : \"Never or less 5 minutes per day\",\n",
    "\"Never/ < 5 minutes per day\" : \"Never or less 5 minutes per day\",\n",
    "\"16-30 Minutes/Day\" : \"16-30 Minutes/Day\",\n",
    "\"1: Never/less than 5 minutes per day\" : \"Never or less 5 minutes per day\",\n",
    "\"5-15 minutes/day\" : \"5-15 Minutes/Day\",\n",
    "\"1: Never/ < 5 Minutes Per Day\" : \"Never or less 5 minutes per day\",\n",
    "\"16-30 minutes/day\" : \"16-30 Minutes/Day\",\n",
    "\"31-45 Minutes/Day\" : \"31-45 Minutes/Day\",\n",
    "\"2: 5-15 minutes/day\" : \"5-15 Minutes/Day\",\n",
    "\"More Than 45 Minutes/Day\" : \"More Than 45 Minutes/Day\",\n",
    "\"2: 5-15 Minutes/Day\" : \"5-15 Minutes/Day\",\n",
    "\"More than 45 minutes/day\" : \"More Than 45 Minutes/Day\",\n",
    "\"31-45 minutes/day\" : \"31-45 Minutes/Day\",\n",
    "\"3: 16-30 minutes/day\" : \"16-30 Minutes/Day\",\n",
    "\"3: 16-30 Minutes/Day\" : \"16-30 Minutes/Day\",\n",
    "\"4: 31-45 minutes/day\" : \"31-45 Minutes/Day\",\n",
    "\"4: 31-45 Minutes/Day\" : \"31-45 Minutes/Day\",\n",
    "\"5: More Than 45 Minutes/Day\" : \"More Than 45 Minutes/Day\",\n",
    "\"5: More than 45 minutes/day\" : \"More Than 45 Minutes/Day\",})\n"
   ]
  },
  {
   "cell_type": "code",
   "execution_count": 35,
   "id": "8fe7c4c0-250e-4e15-af03-bd6dc683cfd5",
   "metadata": {},
   "outputs": [],
   "source": [
    "data = data.replace({\"Never/Less Than Once A Month\" : \"Never or less than once a month\",\n",
    "\"More Than Once/Wk\" : \"More than once a week\",\n",
    "\"Never/less than once a month\" : \"Never or less than once a month\",\n",
    "\"More than once/wk\" : \"More than once a week\",\n",
    "\"2-3 times a month\" : \"2-3 times a month\",\n",
    "\"2-3 Times A Month\" : \"2-3 times a month\",\n",
    "\"Once A Month\" : \"Once A Month\",\n",
    "\"Never or less than once a month\" : \"Never or less than once a month\",\n",
    "\"Once/Wk\" : \"Once a week\",\n",
    "\"More than once/week\" : \"More than once a week\",\n",
    "\"Once a month\" : \"Once A Month\",\n",
    "\"1: Never/Less Than Once A Month\" : \"Never or less than once a month\",\n",
    "\"5: More than once a week\" : \"More than once a week\",\n",
    "\"1: Never/less than once a month\" : \"Never or less than once a month\",\n",
    "\"Once/wk\" : \"Once a week\",\n",
    "\"5: More Than Once/Week\" : \"More than once a week\",\n",
    "\"Once/week\" : \"Once a week\",\n",
    "\"3: 2-3 times a month\" : \"2-3 times a month\",\n",
    "\"3: 2-3 Times A Month\" : \"2-3 times a month\",\n",
    "\"4: Once a week\" : \"Once a week\",\n",
    "\"2: Once a month\" : \"Once A Month\",\n",
    "\"2: Once A Month\" : \"Once A Month\",\n",
    "\"4: Once/Week\" : \"Once a week\",})\n"
   ]
  },
  {
   "cell_type": "code",
   "execution_count": 36,
   "id": "b5f282a4-2772-4d69-bbf4-8f5bc2b7c11e",
   "metadata": {},
   "outputs": [],
   "source": [
    "data = data.replace({\"Moderately important\" : \"Moderately Important\",\n",
    "\"Moderately Important\" : \"Moderately Important\",\n",
    "\"Quite important\" : \"Quite Important\",\n",
    "\"Not very important\" : \"Not Very Important\",\n",
    "\"Quite Important\" : \"Quite Important\",\n",
    "\"Not Very Important\" : \"Not Very Important\",\n",
    "\"Not at all important\" : \"Not At All Important\",\n",
    "\"3: Moderately important\" : \"Moderately Important\",\n",
    "\"Extremely important\" : \"Extremely Important\",\n",
    "\"3: Moderately Important\" : \"Moderately Important\",\n",
    "\"Not Very important\" : \"Not Very Important\",\n",
    "\"4: Not very important\" : \"Not Very Important\",\n",
    "\"2: Quite important\" : \"Quite Important\",\n",
    "\"4: Not Very Important\" : \"Not Very Important\",\n",
    "\"Extremely Important\" : \"Extremely Important\",\n",
    "\"Not At All Important\" : \"Not At All Important\",\n",
    "\"2: Quite Important\" : \"Quite Important\",\n",
    "\"5: Not at all important\" : \"Not At All Important\",\n",
    "\"5: Not At All Important\" : \"Not At All Important\",\n",
    "\"1: Extremely important\" : \"Extremely Important\",\n",
    "\"1: Extremely Important\" : \"Extremely Important\",})\n"
   ]
  },
  {
   "cell_type": "code",
   "execution_count": 37,
   "id": "280be4b5-26ba-419c-a5a2-92bd39869b05",
   "metadata": {},
   "outputs": [],
   "source": [
    "data = data.replace({\"Very satisfying\" : \"Very Satisfying\",\n",
    "\"Very Satisfying\" : \"Very Satisfying\",\n",
    "\"Moderately satisfying\" : \"Moderately Satisfying\",\n",
    "\"Moderately Satisfying\" : \"Moderately Satisfying\",\n",
    "\"Extremely satisfying\" : \"Extremely Satisfying\",\n",
    "\"Extremely Satisfying\" : \"Extremely Satisfying\",\n",
    "\"Slightly satisfying\" : \"Slightly Satisfying\",\n",
    "\"Slightly Satisfying\" : \"Slightly Satisfying\",\n",
    "\"2: Very satisfying\" : \"Very Satisfying\",\n",
    "\"3: Moderately satisfying\" : \"Moderately Satisfying\",\n",
    "\"2: Very Satisfying\" : \"Very Satisfying\",\n",
    "\"3: Moderately Satisfying\" : \"Moderately Satisfying\",\n",
    "\"1: Extremely satisfying\" : \"Extremely Satisfying\",\n",
    "\"Not at all satisfying\" : \"Not At All Satisfying\",\n",
    "\"4: Slightly satisfying\" : \"Slightly Satisfying\",\n",
    "\"1: Extremely Satisfying\" : \"Extremely Satisfying\",\n",
    "\"Not At All Satisfying\" : \"Not At All Satisfying\",\n",
    "\"4: Slightly Satisfying\" : \"Slightly Satisfying\",\n",
    "\"5: Not at all satisfying\" : \"Not At All Satisfying\",\n",
    "\"5: Not At All Satisfying\" : \"Not At All Satisfying\",})\n"
   ]
  },
  {
   "cell_type": "code",
   "execution_count": 38,
   "id": "659f29bb-75a9-4285-bf1f-c2d4d7595c71",
   "metadata": {},
   "outputs": [],
   "source": [
    "data = data.replace({\"Daily\" : \"Daily\",\n",
    "\"More than once a week\" : \"More Than Once Per Week\",\n",
    "\"More than Once/Wk\" : \"More Than Once Per Week\",\n",
    "\"5: Daily\" : \"Daily\",\n",
    "\"Once or Twice/Mon\" : \"Once Or Twice/Month\",\n",
    "\"About Once/Wk\" : \"About Once Per Week\",\n",
    "\"No Symptoms\" : \"No Symptoms\",\n",
    "\"Once or twice/mon\" : \"Once Or Twice/Month\",\n",
    "\"About once/wk\" : \"About Once Per Week\",\n",
    "\"4: More than once/week\" : \"More Than Once Per Week\",\n",
    "\"Once or twice/month\" : \"Once Or Twice/Month\",\n",
    "\"About once/week\" : \"About Once Per Week\",\n",
    "\"More than once per week\" : \"More Than Once Per Week\",\n",
    "\"4: More than Once/Wk\" : \"More Than Once Per Week\",\n",
    "\"2: Once or twice/month\" : \"Once Or Twice/Month\",\n",
    "\"Once or twice per month\" : \"Once Or Twice/Month\",\n",
    "\"3: About once/week\" : \"About Once Per Week\",\n",
    "\"About once per week\" : \"About Once Per Week\",\n",
    "\"3: About Once/Wk\" : \"About Once Per Week\",\n",
    "\"2: Once or Twice/Mon\" : \"Once Or Twice/Month\",})\n"
   ]
  },
  {
   "cell_type": "code",
   "execution_count": 39,
   "id": "6dc89628-78da-4c65-9458-a8c4065f4a81",
   "metadata": {},
   "outputs": [],
   "source": [
    "data['KISSING'].replace([\"No Symptoms\"],[\"Never\"], inplace = True)"
   ]
  },
  {
   "cell_type": "code",
   "execution_count": 40,
   "id": "5683abde-3791-4a41-bd15-235d1a340ee5",
   "metadata": {},
   "outputs": [],
   "source": [
    "data['TOUCHIN'].replace([\"No Symptoms\"],[\"Never\"], inplace = True)"
   ]
  },
  {
   "cell_type": "code",
   "execution_count": 41,
   "id": "058b2cec-e46e-4f61-870c-ac0a6cbdbf90",
   "metadata": {},
   "outputs": [],
   "source": [
    "data['ORALSEX'].replace([\"No Symptoms\"],[\"Never\"], inplace = True)"
   ]
  },
  {
   "cell_type": "code",
   "execution_count": 42,
   "id": "9fa1b5f0-2af2-4e80-99b3-6525b19bf7dc",
   "metadata": {},
   "outputs": [],
   "source": [
    "data['INTCOUR'].replace([\"No Symptoms\"],[\"Never\"], inplace = True)"
   ]
  },
  {
   "cell_type": "code",
   "execution_count": 43,
   "id": "b54a1279-187b-487e-8e27-94a1604136b5",
   "metadata": {},
   "outputs": [],
   "source": [
    "data = data.replace({\"Always\" : \"Always\",\n",
    "\"Sometimes\" : \"Sometimes\",\n",
    "\"Almost always\" : \"Almost Always\",\n",
    "\"Almost Always\" : \"Almost Always\",\n",
    "\"3 : Sometimes\" : \"Sometimes\",\n",
    "\"1 : Always\" : \"Always\",\n",
    "\"2 : Almost always\" : \"Almost Always\",\n",
    "\"3Sometimes\" : \"Sometimes\",\n",
    "\"2 : Almost Always\" : \"Almost Always\",\n",
    "\"Almost never\" : \"Almost Never\",\n",
    "\"Almost Never\" : \"Almost Never\",\n",
    "\"Never\" : \"Never\",\n",
    "\"4 : Almost never\" : \"Almost Never\",\n",
    "\"4 : Almost Never\" : \"Almost Never\",\n",
    "\"5 : Never\" : \"Never\",})"
   ]
  },
  {
   "cell_type": "code",
   "execution_count": 44,
   "id": "3216e547-9d5d-48ea-9f37-8a29700411d8",
   "metadata": {},
   "outputs": [],
   "source": [
    "data = data.replace({\n",
    "\"No intercourse in last 6 months\" : \"No Intercourse In Last 6 Mons\",\n",
    "\"No intercourse in last 6 mons\" : \"No Intercourse In Last 6 Mons\",\n",
    "\"6 : No intercourse in last 6 months\" : \"No Intercourse In Last 6 Mons\",\n",
    "\"6 : No Intercourse In Last 6 Mons\" : \"No Intercourse In Last 6 Mons\",})\n"
   ]
  },
  {
   "cell_type": "code",
   "execution_count": 45,
   "id": "fb040e8d-ea9b-4a8d-923f-8ab816f9987f",
   "metadata": {},
   "outputs": [],
   "source": [
    "data = data.replace({\n",
    "\"5: None Of The Time\" : \"None of the Time\",\n",
    "\"4: A Little Of The Time\" : \"A Little of the Time\",})\n"
   ]
  },
  {
   "cell_type": "code",
   "execution_count": 46,
   "id": "e0a8c07b-820a-4ed6-a17e-d994ca466008",
   "metadata": {},
   "outputs": [],
   "source": [
    "data = data.replace({\"More Than Once Per Week\" : \"More Than Once Per Week\",\n",
    "\"Never or less than once a month\" : \"Never or less than once a month\",\n",
    "\"Never\" : \"Never\",\n",
    "\"Once a week\" : \"Once a week\",\n",
    "\"More Than Once A Week\" : \"More Than Once Per Week\",\n",
    "\"Never/LT Once a Month\" : \"Never or less than once a month\",\n",
    "\"1: Never\" : \"Never\",\n",
    "\"6: More than once a week\" : \"More Than Once Per Week\",\n",
    "\"6: More Than Once/Week\" : \"More Than Once Per Week\",\n",
    "\"2-3 times a month\" : \"2-3 times a month\",\n",
    "\"2-3 Times/Month\" : \"2-3 times a month\",\n",
    "\"Less Than Once A Month\" : \"Never or less than once a month\",\n",
    "\"Once A Month\" : \"Once A Month\",\n",
    "\"Once A Week\" : \"Once a week\",\n",
    "\"Once/Month\" : \"Once A Month\",\n",
    "\"2-3 times/month\" : \"2-3 times a month\",\n",
    "\"2: Less than once a month\" : \"Never or less than once a month\",\n",
    "\"LT Once/Month\" : \"Never or less than once a month\",\n",
    "\"2: LT Once/Month\" : \"Never or less than once a month\",\n",
    "\"5: Once a week\" : \"Once a week\",\n",
    "\"Once/month\" : \"Once A Month\",\n",
    "\"4: 2-3 times/month\" : \"2-3 times a month\",\n",
    "\"5: Once/Week\" : \"Once a week\",\n",
    "\"4: 2-3 Times/Month\" : \"2-3 times a month\",\n",
    "\"3: Once a month\" : \"Once A Month\",\n",
    "\"3: Once/Month\" : \"Once A Month\",})\n"
   ]
  },
  {
   "cell_type": "code",
   "execution_count": 47,
   "id": "9fe46312-cfd8-4275-8475-f5cfda397bb2",
   "metadata": {},
   "outputs": [],
   "source": [
    "data = data.replace({\"Not at All\" : \"Not at All\",\n",
    "\"Once Or Twice/Month\" : \"Once Or Twice/Month\",\n",
    "\"Less Than Once/Mon\" : \"Less Than Once/Mon\",\n",
    "\"About Once Per Week\" : \"About Once Per Week\",\n",
    "\"Less than once/month\" : \"Less Than Once/Mon\",\n",
    "\"Less Than once/mon\" : \"Less Than Once/Mon\",\n",
    "\"Less than once/mon\" : \"Less Than Once/Mon\",\n",
    "\"More Than Once Per Week\" : \"More Than Once Per Week\",\n",
    "\"2: Less than once/month\" : \"Less Than Once/Mon\",\n",
    "\"Less than once per month\" : \"Less Than Once/Mon\",\n",
    "\"3: Once or twice/month\" : \"Once Or Twice/Month\",\n",
    "\"2: Less Than Once/Mon\" : \"Less Than Once/Mon\",\n",
    "\"3: Once or Twice/Mon\" : \"Once Or Twice/Month\",\n",
    "\"4: About once/week\" : \"About Once Per Week\",\n",
    "\"4: About Once/Wk\" : \"About Once Per Week\",\n",
    "\"5: More than once/week\" : \"More Than Once Per Week\",\n",
    "\"Daily\" : \"Daily\",\n",
    "\"5: More than Once/Wk\" : \"More Than Once Per Week\",\n",
    "\"6: Daily\" : \"Daily\",})\n",
    "\n",
    "data['MASTURB'].replace([\"No Symptoms\"],[\"Not at All\"], inplace = True)\n"
   ]
  },
  {
   "cell_type": "code",
   "execution_count": 48,
   "id": "7df87154-ef71-4332-af3f-e05e63bea89e",
   "metadata": {},
   "outputs": [],
   "source": [
    "data = data.replace({\"Stadiometer\" : \"Stadiometer\",\n",
    "\"1: Stadiometer\" : \"Stadiometer\",\n",
    "\"Portable\" : \"Portable\",\n",
    "\"2: Portable\" : \"Portable\",\n",
    "\"3: Self-Reported\" : \"Self-reported\",\n",
    "\"Self-reported\" : \"Self-reported\",\n",
    "\"3: Self-reported\" : \"Self-reported\",\n",
    "\"Self-Reported\" : \"Self-reported\",})\n"
   ]
  },
  {
   "cell_type": "code",
   "execution_count": 49,
   "id": "16eba346-9385-4721-801f-1bb807002cd8",
   "metadata": {},
   "outputs": [],
   "source": [
    "data = data.replace({\"Balance beam\" : \"Balance Beam\",\n",
    "\"Portable\" : \"Portable\",\n",
    "\"Balance Beam\" : \"Balance Beam\",\n",
    "\"1: Balance Beam\" : \"Balance Beam\",\n",
    "\"Clinic digital\" : \"Clinic Digital\",\n",
    "\"3: Portable\" : \"Portable\",\n",
    "\"Clinic Digital\" : \"Clinic Digital\",\n",
    "\"1: Balance beam\" : \"Balance Beam\",\n",
    "\"4: Self-Reported\" : \"Self-reported\",\n",
    "\"2: Clinic Digital\" : \"Clinic Digital\",\n",
    "\"Self-reported\" : \"Self-reported\",\n",
    "\"2: Clinic digital\" : \"Clinic Digital\",\n",
    "\"4: Self-reported\" : \"Self-reported\",})\n"
   ]
  },
  {
   "cell_type": "code",
   "execution_count": 50,
   "id": "5ee530a4-08b0-4bca-93e6-5c4b7de85947",
   "metadata": {},
   "outputs": [],
   "source": [
    "data = data.replace({\"Undergarments\" : \"Undergarments\",\n",
    "\"1: Undergarments\" : \"Undergarments\",\n",
    "\"Light Clothing\" : \"Light Clothing\",\n",
    "\"Light clothing\" : \"Light Clothing\",\n",
    "\"2: Light Clothing\" : \"Light Clothing\",\n",
    "\"2: Light clothing\" : \"Light Clothing\",})"
   ]
  },
  {
   "cell_type": "code",
   "execution_count": 51,
   "id": "1f4ef96d-41a0-461d-9de6-97937ee89841",
   "metadata": {},
   "outputs": [],
   "source": [
    "data = data.replace({\n",
    "\"0: No\" : \"No\",\n",
    "\"1: Yes\" : \"Yes\",})\n"
   ]
  },
  {
   "cell_type": "code",
   "execution_count": 52,
   "id": "600ebc66-5b42-4767-a663-123156c5e7eb",
   "metadata": {},
   "outputs": [],
   "source": [
    "data = data.replace({\"4500 machine\" : \"4500 machine\",\n",
    "\"2000 machine\" : \"2000 machine\",\n",
    "\"11: 4500 machine\" : \"4500 machine\",\n",
    "\"14500 machine\" : \"14500 machine\",\n",
    "\"5: 2000 machine\" : \"2000 machine\",})\n"
   ]
  },
  {
   "cell_type": "code",
   "execution_count": 53,
   "id": "d484d5c7-90e6-41f8-a7fa-792dd553571a",
   "metadata": {},
   "outputs": [],
   "source": [
    "data = data.replace({\"Early Peri\" : \"Early perimenopause\",\n",
    "\"Pre-menopausal\" : \"Pre-menopausal\",\n",
    "\"Early peri\" : \"Early perimenopause\",\n",
    "\"2: Natural Post\" : \"Natural post\",\n",
    "\"Post-menopausal\" : \"Post-menopausal\",\n",
    "\"Natural post\" : \"Natural post\",\n",
    "\"Early perimenopause\" : \"Early perimenopause\",\n",
    "\"Unknown due to HT use\" : \"Unknown due to HT use\",\n",
    "\"2: Natural post\" : \"Natural Post\",\n",
    "\"4: Early peri\" : \"Early perimenopause\",\n",
    "\"Late peri\" : \"Late perimenopause\",\n",
    "\"4: Early Peri\" : \"Early perimenopause\",\n",
    "\"Late Peri\" : \"Late perimenopause\",\n",
    "\"3: Late Peri\" : \"Late perimenopause\",\n",
    "\"use\" : \"use\",\n",
    "\"Natural Post\" : \"Natural Post\",\n",
    "\"Unknown due to hysterectomy\" : \"Hysterectomy/both ovaries removed\",\n",
    "\"Late perimenopause\" : \"Late perimenopause\",\n",
    "\"1: Post by BSO\" : \"Post by BSO\",\n",
    "\"3: Late peri\" : \"Late perimenopause\",\n",
    "\"Hysterectomy/both ovaries removed\" : \"Hysterectomy/both ovaries removed\",\n",
    "\"Unknown due to hormone therapy use\" : \"Unknown due to hormone therapy use\",\n",
    "\"8: Unknown due to hysterectomy\" : \"Hysterectomy/both ovaries removed\",\n",
    "\"Post by BSO\" : \"Post by BSO\",\n",
    "\"7: Unknown due to HT use\" : \"Unknown due to HT use\",\n",
    "\"5: Pre-menopausal\" : \"Pre-menopausal\",\n",
    "\"Post by Bilateral Salpingo Oophorectomy\" : \"Post by Bilateral Salpingo Oophorectomy\",\n",
    "\"Pregnant/breastfeeding\" : \"Pregnant/breastfeeding\",})\n"
   ]
  },
  {
   "cell_type": "raw",
   "id": "9c74019b-10e0-4936-974a-b058cb7fc011",
   "metadata": {},
   "source": [
    "# Guessing here\n",
    "# Placing numeric values in order with categorical\n",
    "\n",
    "\n",
    "data['RACE'].value_counts()\n",
    "Caucasian/White Non-Hispanic     11600\n",
    "Black/African American            7372\n",
    "Japanese/Japanese American        2632\n",
    "Chinese/Chinese American          2251\n",
    "Hispanic                          1437\n",
    "Caucasian/ White Non-Hispanic     1252\n",
    "4                                 1114\n",
    "1                                  663\n",
    "3                                  250\n",
    "2                                  218"
   ]
  },
  {
   "cell_type": "code",
   "execution_count": 54,
   "id": "e0dd3084-d6f4-4408-96df-f75bdc78f3d1",
   "metadata": {},
   "outputs": [],
   "source": [
    "data = data.replace({\"Caucasian/White Non-Hispanic\" : \"Caucasian/White Non-Hispanic\",\n",
    "\"Black/African American\" : \"Black/African American\",\n",
    "\"Japanese/Japanese American\" : \"Japanese/Japanese American\",\n",
    "\"Chinese/Chinese American\" : \"Chinese/Chinese American\",\n",
    "\"Hispanic\" : \"Hispanic\",\n",
    "\"Caucasian/ White Non-Hispanic\" : \"Caucasian/White Non-Hispanic\",\n",
    "\"4\" : \"Caucasian/White Non-Hispanic\",\n",
    "\"1\" : \"Black/African American\",\n",
    "\"3\" : \"Japanese/Japanese American\",\n",
    "\"2\" : \"Chinese/Chinese American\",})\n"
   ]
  },
  {
   "cell_type": "code",
   "execution_count": 55,
   "id": "e6392bde-951a-400b-8762-b0701304ef21",
   "metadata": {},
   "outputs": [],
   "source": [
    "data = data.replace({\n",
    "\"0 times\" : \"0\",\n",
    "\"1 times\" : \"1\",\n",
    "\"2 times\" : \"2\"})"
   ]
  },
  {
   "cell_type": "code",
   "execution_count": 56,
   "id": "4cfc1c09-1b34-4ca8-a908-708acbf0b0de",
   "metadata": {},
   "outputs": [],
   "source": [
    "data = data.replace({\"Currently married/living as married\" : \"Currently Married/Living as Married\",\n",
    "\"Currently Married/Living as Married\" : \"Currently Married/Living as Married\",\n",
    "\"2: Currently Married/Living as Married\" : \"Currently Married/Living as Married\",\n",
    "\"Divorced\" : \"Divorced\",\n",
    "\"Single/never married\" : \"Single/Never Married\",\n",
    "\"2: Currently married/living as married\" : \"Currently Married/Living as Married\",\n",
    "\"5: Divorced\" : \"Divorced\",\n",
    "\"Separated\" : \"Separated\",\n",
    "\"Single/Never Married\" : \"Single/Never Married\",\n",
    "\"Widowed\" : \"Widowed\",\n",
    "\"1: Single/Never Married\" : \"Single/Never Married\",\n",
    "\"1: Single/never married\" : \"Single/Never Married\",\n",
    "\"4: Widowed\" : \"Widowed\",\n",
    "\"3: Separated\" : \"Separated\",})\n"
   ]
  },
  {
   "cell_type": "code",
   "execution_count": 57,
   "id": "8f7765dd-583f-4035-b8ca-61639d482149",
   "metadata": {},
   "outputs": [],
   "source": [
    "data = data.replace({\"Never\" : \"Never\",\n",
    "\"Almost Never\" : \"Almost Never\",\n",
    "\"Sometimes\" : \"Sometimes\",\n",
    "\"2: Almost Never\" : \"Almost Never\",\n",
    "\"3: Sometimes\" : \"Sometimes\",\n",
    "\"Fairly often\" : \"Fairly Often\",\n",
    "\"4: Fairly Often\" : \"Fairly Often\",\n",
    "\"Fairly Often\" : \"Fairly Often\",\n",
    "\"Very often\" : \"Very Often\",\n",
    "\"5: Very Often\" : \"Very Often\",\n",
    "\"Very Often\" : \"Very Often\",})\n"
   ]
  },
  {
   "cell_type": "code",
   "execution_count": 58,
   "id": "5a684edb-ba9d-45df-b3b7-e57a2502d73f",
   "metadata": {},
   "outputs": [],
   "source": [
    "data = data.replace({\"Very good\" : \"Very good\",\n",
    "\"Good\" : \"Good\",\n",
    "\"Excellent\" : \"Excellent\",\n",
    "\"2: Very good\" : \"Very good\",\n",
    "\"3: Good\" : \"Good\",\n",
    "\"Fair\" : \"Fair\",\n",
    "\"1: Excellent\" : \"Excellent\",\n",
    "\"4: Fair\" : \"Fair\",\n",
    "\"Poor\" : \"Poor\",\n",
    "\"5: Poor\" : \"Poor\",})\n"
   ]
  },
  {
   "cell_type": "code",
   "execution_count": 59,
   "id": "f3c07d40-e561-4f71-8281-6bfcd6a4f6d9",
   "metadata": {},
   "outputs": [],
   "source": [
    "data = data.replace({\"None or < 1/mo\" : \"None or < 1/mo\",\n",
    "\"1: None or < 1/mo\" : \"None or < 1/mo\",\n",
    "\"1-3/mo\" : \"1-3/mo\",\n",
    "\"None or < 1/month\" : \"None or < 1/mo\",\n",
    "\"1: None or less than 1/month\" : \"None or < 1/mo\",\n",
    "\"None or less than one per month\" : \"None or < 1/mo\",\n",
    "\"2: 1-3/month\" : \"1-3/mo\",\n",
    "\"1-3/month\" : \"1-3/mo\",\n",
    "\"2-4/wk\" : \"2-4/wk\",\n",
    "\"1-3 per month\" : \"1-3/mo\",\n",
    "\"1/wk\" : \"1/wk\",\n",
    "\"2: 1-3/mo\" : \"1-3/mo\",\n",
    "\"4: 2-4/week\" : \"2-4/wk\",\n",
    "\"3: 1/week\" : \"1/wk\",\n",
    "\"2-4/week\" : \"2-4/wk\",\n",
    "\"1 per week\" : \"1/wk\",\n",
    "\"1/week\" : \"1/wk\",\n",
    "\"5-6/wk\" : \"5-6/wk\",\n",
    "\"1/day\" : \"1/day\",\n",
    "\"2-3/day\" : \"2-3/day\",\n",
    "\"4: 2-4/wk\" : \"2-4/wk\",\n",
    "\"3: 1/wk\" : \"1/wk\",\n",
    "\"5-6/week\" : \"5-6/wk\",\n",
    "\"2-4 per week\" : \"2-4/wk\",\n",
    "\"6: 1/day\" : \"1/day\",\n",
    "\"7: 2-3/day\" : \"2-3/day\",\n",
    "\"1 per day\" : \"1/day\",\n",
    "\"5-6 per week\" : \"5-6/wk\",\n",
    "\"5: 5-6/wk\" : \"5-6/wk\",\n",
    "\"4/day\" : \"4/day\",\n",
    "\"2-3 per day\" : \"2-3/day\",\n",
    "\"8: 4/day\" : \"4/day\",\n",
    "\"9: >= 5/day\" : \">=5/day\",\n",
    "\"greater than or equal to 5 per day\" : \">=5/day\",})\n"
   ]
  },
  {
   "cell_type": "code",
   "execution_count": 60,
   "id": "6fb4f6b1-a608-4a5d-90e7-5c78ca38b735",
   "metadata": {},
   "outputs": [],
   "source": [
    "data = data.replace({\"Very Often\" : \"Very Often\",\n",
    "\"Fairly Often\" : \"Fairly Often\",\n",
    "\"Sometimes\" : \"Sometimes\",\n",
    "\"5: Very often\" : \"Very Often\",\n",
    "\"4: Fairly often\" : \"Fairly Often\",\n",
    "\"Almost Never\" : \"Almost Never\",\n",
    "\"Never\" : \"Never\",\n",
    "\"2: Almost never\" : \"Almost Never\",})\n"
   ]
  },
  {
   "cell_type": "code",
   "execution_count": 61,
   "id": "67e930c4-9ce6-45b2-9e84-4e603fe37664",
   "metadata": {},
   "outputs": [],
   "source": [
    "data = data.replace({\"The same\" : \"The Same\",\n",
    "\"The Same\" : \"The Same\",\n",
    "\"Somewhat more\" : \"Somewhat More\",\n",
    "\"Somewhat More\" : \"Somewhat More\",\n",
    "\"Somewhat Less\" : \"Somewhat Less\",\n",
    "\"Somewhat less\" : \"Somewhat Less\",\n",
    "\"3: The same\" : \"The Same\",\n",
    "\"2: Somewhat less\" : \"Somewhat Less\",\n",
    "\"3: The Same\" : \"The Same\",\n",
    "\"Much more\" : \"Much More\",\n",
    "\"2: Somewhat Less\" : \"Somewhat Less\",\n",
    "\"4: Somewhat More\" : \"Somewhat More\",\n",
    "\"Much Less\" : \"Much Less\",\n",
    "\"4: Somewhat more\" : \"Somewhat More\",\n",
    "\"Much More\" : \"Much More\",\n",
    "\"Much less\" : \"Much Less\",\n",
    "\"1: Much less\" : \"Much Less\",\n",
    "\"1: Much Less\" : \"Much Less\",\n",
    "\"5: Much more\" : \"Much More\",\n",
    "\"5: Much More\" : \"Much More\",})\n"
   ]
  },
  {
   "cell_type": "code",
   "execution_count": 62,
   "id": "720b9b51-674a-4d9e-a976-54ca721d289b",
   "metadata": {},
   "outputs": [],
   "source": [
    "# Dropping BROKEBO as 98% of the values are 0\n",
    "data = data.drop('BROKEBO',axis=1)"
   ]
  },
  {
   "cell_type": "code",
   "execution_count": 63,
   "id": "b2db62cc-145c-4116-9a33-b04b588ece50",
   "metadata": {},
   "outputs": [],
   "source": [
    "data = data.replace({\"Fairly good\" : \"Fairly good\",\n",
    "\"2: Fairly good\" : \"Fairly good\",\n",
    "\"Very good\" : \"Very good\",\n",
    "\"Fairly bad\" : \"Fairly bad\",\n",
    "\"1: Very good\" : \"Very good\",\n",
    "\"3: Fairly bad\" : \"Fairly bad\",\n",
    "\"Very bad\" : \"Very bad\",\n",
    "\"4: Very bad\" : \"Very bad\",})\n"
   ]
  },
  {
   "cell_type": "markdown",
   "id": "5dc30da9-df53-47fe-be5a-266543641e41",
   "metadata": {},
   "source": [
    "# Variable Wrangling Complete"
   ]
  },
  {
   "cell_type": "markdown",
   "id": "063645f3-2a49-496f-b16b-927cc73e5c59",
   "metadata": {},
   "source": [
    "# EDA"
   ]
  },
  {
   "cell_type": "code",
   "execution_count": null,
   "id": "37281ef2-b452-4976-991b-4790f6b8760e",
   "metadata": {},
   "outputs": [],
   "source": [
    "#analyze_report = sv.analyze(data, pairwise_analysis='on')\n",
    "#analyze_report.show_html()"
   ]
  },
  {
   "cell_type": "markdown",
   "id": "f4cbb9df-80be-4d84-99cc-44233983fc1c",
   "metadata": {},
   "source": [
    "# XGBoost Model"
   ]
  },
  {
   "cell_type": "code",
   "execution_count": 65,
   "id": "7b54d8dd-ba7b-45bd-a090-15e8984db051",
   "metadata": {},
   "outputs": [],
   "source": [
    "# new data\n",
    "# drop columns based on index build\n",
    "newData = data.drop(['NITESWE','TRBLSLE','WAKEUP','WAKEARL', 'SLEEPQL'], axis=1)"
   ]
  },
  {
   "cell_type": "code",
   "execution_count": 66,
   "id": "69360482-bf76-49d1-b857-6efcb05dc6a0",
   "metadata": {},
   "outputs": [],
   "source": [
    "categoryData = newData.select_dtypes(include = 'object')"
   ]
  },
  {
   "cell_type": "code",
   "execution_count": 67,
   "id": "08301c4b-c607-46f1-a166-4640cea5e0d8",
   "metadata": {},
   "outputs": [],
   "source": [
    "numericalData = newData.select_dtypes(include = ['float64', 'int64'])"
   ]
  },
  {
   "cell_type": "code",
   "execution_count": 68,
   "id": "5d155f47-460e-48c8-a904-30ed8ae585c9",
   "metadata": {},
   "outputs": [],
   "source": [
    "from sklearn.preprocessing import LabelEncoder, OneHotEncoder\n",
    "labeledData = categoryData.apply(LabelEncoder().fit_transform)"
   ]
  },
  {
   "cell_type": "code",
   "execution_count": 69,
   "id": "86c67288-91c5-4479-8f88-543ee542d908",
   "metadata": {},
   "outputs": [],
   "source": [
    "modelData = pd.concat([numericalData,labeledData], axis = 1)"
   ]
  },
  {
   "cell_type": "code",
   "execution_count": 70,
   "id": "e76fe6b5-6da6-46b7-83d2-fcdbf394eef8",
   "metadata": {},
   "outputs": [],
   "source": [
    "### Convert sleep target to a binary variable, where 1 means an individual is experiencing < 3 sleep issues.\n",
    "modelData[\"sleepTarget\"] = np.where(modelData[\"sleepTarget\"] >= .75, 1,0)\n"
   ]
  },
  {
   "cell_type": "code",
   "execution_count": 71,
   "id": "31c05578-3f9b-418f-b724-7c61798ca7e7",
   "metadata": {},
   "outputs": [
    {
     "data": {
      "text/plain": [
       "0    19603\n",
       "1     9186\n",
       "Name: sleepTarget, dtype: int64"
      ]
     },
     "execution_count": 71,
     "metadata": {},
     "output_type": "execute_result"
    }
   ],
   "source": [
    "modelData['sleepTarget'].value_counts()\n",
    "# Fairly balanced"
   ]
  },
  {
   "cell_type": "code",
   "execution_count": 72,
   "id": "cd3c1194-e263-409b-b45b-74fde76cb50b",
   "metadata": {},
   "outputs": [],
   "source": [
    "X = modelData.drop('sleepTarget', axis=1)\n",
    "y = modelData.sleepTarget"
   ]
  },
  {
   "cell_type": "code",
   "execution_count": 73,
   "id": "d0f38bc7-d555-4efd-b47d-b18e651d2631",
   "metadata": {},
   "outputs": [],
   "source": [
    "# split X and y into training and testing sets\n",
    "from sklearn.model_selection import train_test_split\n",
    "X_train,X_test,y_train,y_test=train_test_split(X,y,test_size=0.25,random_state=0)"
   ]
  },
  {
   "cell_type": "code",
   "execution_count": 74,
   "id": "f0dc06db-05bb-4bd8-a678-6e53d16f759a",
   "metadata": {},
   "outputs": [],
   "source": [
    "from sklearn.preprocessing import StandardScaler\n",
    "scaler = StandardScaler()\n",
    "scaler.fit(X_train)\n",
    "\n",
    "X_train = scaler.transform(X_train)\n",
    "X_test = scaler.transform(X_test)"
   ]
  },
  {
   "cell_type": "code",
   "execution_count": 75,
   "id": "909a80eb-46bb-4869-8056-a6fb2b78874d",
   "metadata": {},
   "outputs": [
    {
     "data": {
      "text/html": [
       "<style>#sk-container-id-1 {color: black;background-color: white;}#sk-container-id-1 pre{padding: 0;}#sk-container-id-1 div.sk-toggleable {background-color: white;}#sk-container-id-1 label.sk-toggleable__label {cursor: pointer;display: block;width: 100%;margin-bottom: 0;padding: 0.3em;box-sizing: border-box;text-align: center;}#sk-container-id-1 label.sk-toggleable__label-arrow:before {content: \"▸\";float: left;margin-right: 0.25em;color: #696969;}#sk-container-id-1 label.sk-toggleable__label-arrow:hover:before {color: black;}#sk-container-id-1 div.sk-estimator:hover label.sk-toggleable__label-arrow:before {color: black;}#sk-container-id-1 div.sk-toggleable__content {max-height: 0;max-width: 0;overflow: hidden;text-align: left;background-color: #f0f8ff;}#sk-container-id-1 div.sk-toggleable__content pre {margin: 0.2em;color: black;border-radius: 0.25em;background-color: #f0f8ff;}#sk-container-id-1 input.sk-toggleable__control:checked~div.sk-toggleable__content {max-height: 200px;max-width: 100%;overflow: auto;}#sk-container-id-1 input.sk-toggleable__control:checked~label.sk-toggleable__label-arrow:before {content: \"▾\";}#sk-container-id-1 div.sk-estimator input.sk-toggleable__control:checked~label.sk-toggleable__label {background-color: #d4ebff;}#sk-container-id-1 div.sk-label input.sk-toggleable__control:checked~label.sk-toggleable__label {background-color: #d4ebff;}#sk-container-id-1 input.sk-hidden--visually {border: 0;clip: rect(1px 1px 1px 1px);clip: rect(1px, 1px, 1px, 1px);height: 1px;margin: -1px;overflow: hidden;padding: 0;position: absolute;width: 1px;}#sk-container-id-1 div.sk-estimator {font-family: monospace;background-color: #f0f8ff;border: 1px dotted black;border-radius: 0.25em;box-sizing: border-box;margin-bottom: 0.5em;}#sk-container-id-1 div.sk-estimator:hover {background-color: #d4ebff;}#sk-container-id-1 div.sk-parallel-item::after {content: \"\";width: 100%;border-bottom: 1px solid gray;flex-grow: 1;}#sk-container-id-1 div.sk-label:hover label.sk-toggleable__label {background-color: #d4ebff;}#sk-container-id-1 div.sk-serial::before {content: \"\";position: absolute;border-left: 1px solid gray;box-sizing: border-box;top: 0;bottom: 0;left: 50%;z-index: 0;}#sk-container-id-1 div.sk-serial {display: flex;flex-direction: column;align-items: center;background-color: white;padding-right: 0.2em;padding-left: 0.2em;position: relative;}#sk-container-id-1 div.sk-item {position: relative;z-index: 1;}#sk-container-id-1 div.sk-parallel {display: flex;align-items: stretch;justify-content: center;background-color: white;position: relative;}#sk-container-id-1 div.sk-item::before, #sk-container-id-1 div.sk-parallel-item::before {content: \"\";position: absolute;border-left: 1px solid gray;box-sizing: border-box;top: 0;bottom: 0;left: 50%;z-index: -1;}#sk-container-id-1 div.sk-parallel-item {display: flex;flex-direction: column;z-index: 1;position: relative;background-color: white;}#sk-container-id-1 div.sk-parallel-item:first-child::after {align-self: flex-end;width: 50%;}#sk-container-id-1 div.sk-parallel-item:last-child::after {align-self: flex-start;width: 50%;}#sk-container-id-1 div.sk-parallel-item:only-child::after {width: 0;}#sk-container-id-1 div.sk-dashed-wrapped {border: 1px dashed gray;margin: 0 0.4em 0.5em 0.4em;box-sizing: border-box;padding-bottom: 0.4em;background-color: white;}#sk-container-id-1 div.sk-label label {font-family: monospace;font-weight: bold;display: inline-block;line-height: 1.2em;}#sk-container-id-1 div.sk-label-container {text-align: center;}#sk-container-id-1 div.sk-container {/* jupyter's `normalize.less` sets `[hidden] { display: none; }` but bootstrap.min.css set `[hidden] { display: none !important; }` so we also need the `!important` here to be able to override the default hidden behavior on the sphinx rendered scikit-learn.org. See: https://github.com/scikit-learn/scikit-learn/issues/21755 */display: inline-block !important;position: relative;}#sk-container-id-1 div.sk-text-repr-fallback {display: none;}</style><div id=\"sk-container-id-1\" class=\"sk-top-container\"><div class=\"sk-text-repr-fallback\"><pre>XGBClassifier(base_score=0.5, booster=&#x27;gbtree&#x27;, callbacks=None,\n",
       "              colsample_bylevel=1, colsample_bynode=1, colsample_bytree=1,\n",
       "              early_stopping_rounds=None, enable_categorical=False,\n",
       "              eval_metric=None, gamma=0, gpu_id=-1, grow_policy=&#x27;depthwise&#x27;,\n",
       "              importance_type=None, interaction_constraints=&#x27;&#x27;,\n",
       "              learning_rate=0.300000012, max_bin=256, max_cat_to_onehot=4,\n",
       "              max_delta_step=0, max_depth=6, max_leaves=0, min_child_weight=1,\n",
       "              missing=nan, monotone_constraints=&#x27;()&#x27;, n_estimators=100,\n",
       "              n_jobs=0, num_parallel_tree=1, predictor=&#x27;auto&#x27;, random_state=0,\n",
       "              reg_alpha=0, reg_lambda=1, ...)</pre><b>In a Jupyter environment, please rerun this cell to show the HTML representation or trust the notebook. <br />On GitHub, the HTML representation is unable to render, please try loading this page with nbviewer.org.</b></div><div class=\"sk-container\" hidden><div class=\"sk-item\"><div class=\"sk-estimator sk-toggleable\"><input class=\"sk-toggleable__control sk-hidden--visually\" id=\"sk-estimator-id-1\" type=\"checkbox\" checked><label for=\"sk-estimator-id-1\" class=\"sk-toggleable__label sk-toggleable__label-arrow\">XGBClassifier</label><div class=\"sk-toggleable__content\"><pre>XGBClassifier(base_score=0.5, booster=&#x27;gbtree&#x27;, callbacks=None,\n",
       "              colsample_bylevel=1, colsample_bynode=1, colsample_bytree=1,\n",
       "              early_stopping_rounds=None, enable_categorical=False,\n",
       "              eval_metric=None, gamma=0, gpu_id=-1, grow_policy=&#x27;depthwise&#x27;,\n",
       "              importance_type=None, interaction_constraints=&#x27;&#x27;,\n",
       "              learning_rate=0.300000012, max_bin=256, max_cat_to_onehot=4,\n",
       "              max_delta_step=0, max_depth=6, max_leaves=0, min_child_weight=1,\n",
       "              missing=nan, monotone_constraints=&#x27;()&#x27;, n_estimators=100,\n",
       "              n_jobs=0, num_parallel_tree=1, predictor=&#x27;auto&#x27;, random_state=0,\n",
       "              reg_alpha=0, reg_lambda=1, ...)</pre></div></div></div></div></div>"
      ],
      "text/plain": [
       "XGBClassifier(base_score=0.5, booster='gbtree', callbacks=None,\n",
       "              colsample_bylevel=1, colsample_bynode=1, colsample_bytree=1,\n",
       "              early_stopping_rounds=None, enable_categorical=False,\n",
       "              eval_metric=None, gamma=0, gpu_id=-1, grow_policy='depthwise',\n",
       "              importance_type=None, interaction_constraints='',\n",
       "              learning_rate=0.300000012, max_bin=256, max_cat_to_onehot=4,\n",
       "              max_delta_step=0, max_depth=6, max_leaves=0, min_child_weight=1,\n",
       "              missing=nan, monotone_constraints='()', n_estimators=100,\n",
       "              n_jobs=0, num_parallel_tree=1, predictor='auto', random_state=0,\n",
       "              reg_alpha=0, reg_lambda=1, ...)"
      ]
     },
     "execution_count": 75,
     "metadata": {},
     "output_type": "execute_result"
    }
   ],
   "source": [
    "from xgboost import XGBClassifier\n",
    "from sklearn.model_selection import train_test_split\n",
    "from sklearn.metrics import accuracy_score\n",
    "\n",
    "model = XGBClassifier()\n",
    "model.fit(X_train, y_train)"
   ]
  },
  {
   "cell_type": "code",
   "execution_count": 79,
   "id": "5961ef81-f089-42ed-928c-a8303429b94d",
   "metadata": {},
   "outputs": [
    {
     "name": "stdout",
     "output_type": "stream",
     "text": [
      "Accuracy: 72.52%\n"
     ]
    }
   ],
   "source": [
    "y_pred = model.predict(X_test)\n",
    "predictions = [round(value) for value in y_pred]\n",
    "# evaluate predictions\n",
    "accuracy = accuracy_score(y_test, predictions)\n",
    "print(\"Accuracy: %.2f%%\" % (accuracy * 100.0))"
   ]
  },
  {
   "cell_type": "code",
   "execution_count": 80,
   "id": "7a599ffc-fd7f-4de8-b402-6140a7e18cb1",
   "metadata": {},
   "outputs": [
    {
     "name": "stdout",
     "output_type": "stream",
     "text": [
      "              precision    recall  f1-score   support\n",
      "\n",
      "           0       0.76      0.86      0.81      4907\n",
      "           1       0.59      0.43      0.50      2291\n",
      "\n",
      "    accuracy                           0.73      7198\n",
      "   macro avg       0.68      0.65      0.65      7198\n",
      "weighted avg       0.71      0.73      0.71      7198\n",
      "\n"
     ]
    }
   ],
   "source": [
    "from sklearn.metrics import classification_report, confusion_matrix\n",
    "print(classification_report(y_test, y_pred))"
   ]
  },
  {
   "cell_type": "code",
   "execution_count": 87,
   "id": "5e80d601-aca7-4dd1-a949-c15fc6592962",
   "metadata": {},
   "outputs": [],
   "source": [
    "df = pd.DataFrame(model.feature_importances_)"
   ]
  },
  {
   "cell_type": "code",
   "execution_count": 89,
   "id": "5fe75e14-00b8-47a3-9f66-52b9f6eb8a23",
   "metadata": {},
   "outputs": [],
   "source": [
    "names = pd.DataFrame(X.columns)"
   ]
  },
  {
   "cell_type": "code",
   "execution_count": 90,
   "id": "c1c137cc-1196-4649-89ef-4a619f7134e7",
   "metadata": {},
   "outputs": [],
   "source": [
    "Features = pd.concat([names,df], axis = 1)"
   ]
  },
  {
   "cell_type": "code",
   "execution_count": 92,
   "id": "9db47e14-ca20-4ea9-a686-db77ed137034",
   "metadata": {},
   "outputs": [],
   "source": [
    "Features.columns =['Metric', 'Importance']"
   ]
  },
  {
   "cell_type": "code",
   "execution_count": 102,
   "id": "f520fa70-c483-4d9e-a012-12c7e22561ba",
   "metadata": {},
   "outputs": [],
   "source": [
    "# Most Important Features\n",
    "Features = Features.sort_values(by='Importance', ascending=False)"
   ]
  },
  {
   "cell_type": "code",
   "execution_count": 103,
   "id": "27fc752b-0afa-4bf9-8b97-5fe9517f087c",
   "metadata": {},
   "outputs": [
    {
     "data": {
      "text/html": [
       "<div>\n",
       "<style scoped>\n",
       "    .dataframe tbody tr th:only-of-type {\n",
       "        vertical-align: middle;\n",
       "    }\n",
       "\n",
       "    .dataframe tbody tr th {\n",
       "        vertical-align: top;\n",
       "    }\n",
       "\n",
       "    .dataframe thead th {\n",
       "        text-align: right;\n",
       "    }\n",
       "</style>\n",
       "<table border=\"1\" class=\"dataframe\">\n",
       "  <thead>\n",
       "    <tr style=\"text-align: right;\">\n",
       "      <th></th>\n",
       "      <th>Metric</th>\n",
       "      <th>Importance</th>\n",
       "    </tr>\n",
       "  </thead>\n",
       "  <tbody>\n",
       "    <tr>\n",
       "      <th>95</th>\n",
       "      <td>MOODCHG</td>\n",
       "      <td>0.074639</td>\n",
       "    </tr>\n",
       "    <tr>\n",
       "      <th>90</th>\n",
       "      <td>FEELBLU</td>\n",
       "      <td>0.030305</td>\n",
       "    </tr>\n",
       "    <tr>\n",
       "      <th>190</th>\n",
       "      <td>PRGNANT</td>\n",
       "      <td>0.028525</td>\n",
       "    </tr>\n",
       "    <tr>\n",
       "      <th>93</th>\n",
       "      <td>NRVOUS</td>\n",
       "      <td>0.025425</td>\n",
       "    </tr>\n",
       "    <tr>\n",
       "      <th>128</th>\n",
       "      <td>RESPCAR</td>\n",
       "      <td>0.019617</td>\n",
       "    </tr>\n",
       "    <tr>\n",
       "      <th>...</th>\n",
       "      <td>...</td>\n",
       "      <td>...</td>\n",
       "    </tr>\n",
       "    <tr>\n",
       "      <th>185</th>\n",
       "      <td>HYSTERE</td>\n",
       "      <td>0.000000</td>\n",
       "    </tr>\n",
       "    <tr>\n",
       "      <th>186</th>\n",
       "      <td>OOPHORE</td>\n",
       "      <td>0.000000</td>\n",
       "    </tr>\n",
       "    <tr>\n",
       "      <th>187</th>\n",
       "      <td>THYRREM</td>\n",
       "      <td>0.000000</td>\n",
       "    </tr>\n",
       "    <tr>\n",
       "      <th>54</th>\n",
       "      <td>STROKE</td>\n",
       "      <td>0.000000</td>\n",
       "    </tr>\n",
       "    <tr>\n",
       "      <th>181</th>\n",
       "      <td>HEARTAT</td>\n",
       "      <td>0.000000</td>\n",
       "    </tr>\n",
       "  </tbody>\n",
       "</table>\n",
       "<p>230 rows × 2 columns</p>\n",
       "</div>"
      ],
      "text/plain": [
       "      Metric  Importance\n",
       "95   MOODCHG    0.074639\n",
       "90   FEELBLU    0.030305\n",
       "190  PRGNANT    0.028525\n",
       "93    NRVOUS    0.025425\n",
       "128  RESPCAR    0.019617\n",
       "..       ...         ...\n",
       "185  HYSTERE    0.000000\n",
       "186  OOPHORE    0.000000\n",
       "187  THYRREM    0.000000\n",
       "54    STROKE    0.000000\n",
       "181  HEARTAT    0.000000\n",
       "\n",
       "[230 rows x 2 columns]"
      ]
     },
     "execution_count": 103,
     "metadata": {},
     "output_type": "execute_result"
    }
   ],
   "source": [
    "Features"
   ]
  },
  {
   "cell_type": "code",
   "execution_count": 95,
   "id": "bd179a8f-b171-4566-ba73-5fb17b3c4010",
   "metadata": {},
   "outputs": [],
   "source": [
    "import csv\n",
    "with open('cleanedDataFile', 'w') as file:\n",
    "    writer = csv.writer(file)\n",
    "    writer.writerows(data)"
   ]
  },
  {
   "cell_type": "code",
   "execution_count": 97,
   "id": "078b227e-8ff4-46da-8a64-86bf682e0939",
   "metadata": {},
   "outputs": [],
   "source": [
    "# Write file to share\n",
    "data.to_csv (r'C:\\Users\\e647371\\Desktop\\Predictive Analytics\\cleanData.csv', index = None, header=True) \n",
    "data.to_csv (r'C:\\Users\\e647371\\Desktop\\Predictive Analytics\\featureImportance.csv', index = None, header=True) "
   ]
  },
  {
   "cell_type": "code",
   "execution_count": 104,
   "id": "8a04bde4-a0bb-4433-adef-7e3f88e2eb1d",
   "metadata": {},
   "outputs": [],
   "source": [
    "import csv\n",
    "with open('cleanedDataFile', 'w') as file:\n",
    "    writer = csv.writer(file)\n",
    "    writer.writerows(Features)"
   ]
  },
  {
   "cell_type": "code",
   "execution_count": 105,
   "id": "13c646a8-b400-421c-ae8e-8733cfd23edf",
   "metadata": {},
   "outputs": [],
   "source": [
    "Features.to_csv (r'C:\\Users\\e647371\\Desktop\\Predictive Analytics\\featureImportance.csv', index = None, header=True) "
   ]
  },
  {
   "cell_type": "code",
   "execution_count": null,
   "id": "786e6440-9666-48cc-96ca-da6280f14d1d",
   "metadata": {},
   "outputs": [],
   "source": []
  },
  {
   "cell_type": "code",
   "execution_count": null,
   "id": "31f1f8c0-1beb-4938-b153-ec62d726e9f2",
   "metadata": {},
   "outputs": [],
   "source": []
  },
  {
   "cell_type": "raw",
   "id": "1d422023-499a-48e6-b8a8-e7619a71b4fc",
   "metadata": {},
   "source": [
    "# Sites to keep track of...\n",
    "https://machinelearningmastery.com/xgboost-python-mini-course/\n",
    "https://machinelearningmastery.com/handle-missing-data-python/\n",
    "https://towardsdatascience.com/random-forest-in-python-24d0893d51c0\n",
    "https://towardsdatascience.com/7-ways-to-handle-missing-values-in-machine-learning-1a6326adf79e"
   ]
  },
  {
   "cell_type": "code",
   "execution_count": null,
   "id": "d2ef3f25-1e8e-4a50-a69a-022036ab8a35",
   "metadata": {},
   "outputs": [],
   "source": []
  },
  {
   "cell_type": "code",
   "execution_count": null,
   "id": "0a33046f-ba38-43e4-a2e3-09e385bf73ef",
   "metadata": {},
   "outputs": [],
   "source": []
  },
  {
   "cell_type": "code",
   "execution_count": null,
   "id": "24b45fdb-dffb-4415-b75d-4e6e4e989fe0",
   "metadata": {},
   "outputs": [],
   "source": []
  }
 ],
 "metadata": {
  "kernelspec": {
   "display_name": "Python 3 (ipykernel)",
   "language": "python",
   "name": "python3"
  },
  "language_info": {
   "codemirror_mode": {
    "name": "ipython",
    "version": 3
   },
   "file_extension": ".py",
   "mimetype": "text/x-python",
   "name": "python",
   "nbconvert_exporter": "python",
   "pygments_lexer": "ipython3",
   "version": "3.9.7"
  }
 },
 "nbformat": 4,
 "nbformat_minor": 5
}
