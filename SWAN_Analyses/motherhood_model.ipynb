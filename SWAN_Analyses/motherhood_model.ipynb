{
 "cells": [
  {
   "cell_type": "code",
   "execution_count": 1,
   "id": "492dcef6-5383-4068-97ed-aa54430c949a",
   "metadata": {},
   "outputs": [],
   "source": [
    "# Laod misc Libraries\n",
    "import numpy as np\n",
    "import pandas as pd\n",
    "import matplotlib.pyplot as plt\n",
    "\n",
    "# EDA Visuals\n",
    "import sweetviz as sv"
   ]
  },
  {
   "cell_type": "code",
   "execution_count": 2,
   "id": "edf0a173-39b2-4704-bd6b-20eaf34a7990",
   "metadata": {},
   "outputs": [],
   "source": [
    "# Load data\n",
    "data = pd.read_csv('full_data_long.csv', low_memory = False)"
   ]
  },
  {
   "cell_type": "code",
   "execution_count": 3,
   "id": "7fc8d06f-87a6-4860-93db-cd4eb470b7e6",
   "metadata": {},
   "outputs": [
    {
     "data": {
      "text/html": [
       "<div>\n",
       "<style scoped>\n",
       "    .dataframe tbody tr th:only-of-type {\n",
       "        vertical-align: middle;\n",
       "    }\n",
       "\n",
       "    .dataframe tbody tr th {\n",
       "        vertical-align: top;\n",
       "    }\n",
       "\n",
       "    .dataframe thead th {\n",
       "        text-align: right;\n",
       "    }\n",
       "</style>\n",
       "<table border=\"1\" class=\"dataframe\">\n",
       "  <thead>\n",
       "    <tr style=\"text-align: right;\">\n",
       "      <th></th>\n",
       "      <th>SWANID</th>\n",
       "      <th>VISIT</th>\n",
       "      <th>INTDAY</th>\n",
       "      <th>AGE</th>\n",
       "      <th>PREGNAN</th>\n",
       "      <th>PREVBLO</th>\n",
       "      <th>ALCHL24</th>\n",
       "      <th>EATDRIN</th>\n",
       "      <th>STRTPER</th>\n",
       "      <th>BLDRWAT</th>\n",
       "      <th>...</th>\n",
       "      <th>MEALBAR</th>\n",
       "      <th>INSTSHK</th>\n",
       "      <th>CHOCOCD</th>\n",
       "      <th>ICECREA</th>\n",
       "      <th>SALADDR</th>\n",
       "      <th>DRKBEER</th>\n",
       "      <th>FLGHRMV</th>\n",
       "      <th>OSTN1MO1</th>\n",
       "      <th>OSTN1MO2</th>\n",
       "      <th>FLGCOG</th>\n",
       "    </tr>\n",
       "  </thead>\n",
       "  <tbody>\n",
       "    <tr>\n",
       "      <th>0</th>\n",
       "      <td>10005</td>\n",
       "      <td>0</td>\n",
       "      <td>0.0</td>\n",
       "      <td>48.0</td>\n",
       "      <td>No</td>\n",
       "      <td>NaN</td>\n",
       "      <td>No</td>\n",
       "      <td>No</td>\n",
       "      <td>Yes</td>\n",
       "      <td>Yes, as per protocol</td>\n",
       "      <td>...</td>\n",
       "      <td>NaN</td>\n",
       "      <td>NaN</td>\n",
       "      <td>NaN</td>\n",
       "      <td>NaN</td>\n",
       "      <td>NaN</td>\n",
       "      <td>NaN</td>\n",
       "      <td>NaN</td>\n",
       "      <td>NaN</td>\n",
       "      <td>NaN</td>\n",
       "      <td>NaN</td>\n",
       "    </tr>\n",
       "    <tr>\n",
       "      <th>1</th>\n",
       "      <td>10046</td>\n",
       "      <td>0</td>\n",
       "      <td>0.0</td>\n",
       "      <td>52.0</td>\n",
       "      <td>No</td>\n",
       "      <td>NaN</td>\n",
       "      <td>No</td>\n",
       "      <td>No</td>\n",
       "      <td>Yes</td>\n",
       "      <td>Yes, as per protocol</td>\n",
       "      <td>...</td>\n",
       "      <td>NaN</td>\n",
       "      <td>NaN</td>\n",
       "      <td>NaN</td>\n",
       "      <td>NaN</td>\n",
       "      <td>NaN</td>\n",
       "      <td>NaN</td>\n",
       "      <td>NaN</td>\n",
       "      <td>NaN</td>\n",
       "      <td>NaN</td>\n",
       "      <td>NaN</td>\n",
       "    </tr>\n",
       "    <tr>\n",
       "      <th>2</th>\n",
       "      <td>10056</td>\n",
       "      <td>0</td>\n",
       "      <td>0.0</td>\n",
       "      <td>51.0</td>\n",
       "      <td>No</td>\n",
       "      <td>No</td>\n",
       "      <td>Yes</td>\n",
       "      <td>No</td>\n",
       "      <td>Yes</td>\n",
       "      <td>Yes, as per protocol</td>\n",
       "      <td>...</td>\n",
       "      <td>NaN</td>\n",
       "      <td>NaN</td>\n",
       "      <td>NaN</td>\n",
       "      <td>NaN</td>\n",
       "      <td>NaN</td>\n",
       "      <td>NaN</td>\n",
       "      <td>NaN</td>\n",
       "      <td>NaN</td>\n",
       "      <td>NaN</td>\n",
       "      <td>NaN</td>\n",
       "    </tr>\n",
       "    <tr>\n",
       "      <th>3</th>\n",
       "      <td>10092</td>\n",
       "      <td>0</td>\n",
       "      <td>0.0</td>\n",
       "      <td>45.0</td>\n",
       "      <td>No</td>\n",
       "      <td>NaN</td>\n",
       "      <td>Yes</td>\n",
       "      <td>No</td>\n",
       "      <td>Yes</td>\n",
       "      <td>Yes, as per protocol</td>\n",
       "      <td>...</td>\n",
       "      <td>NaN</td>\n",
       "      <td>NaN</td>\n",
       "      <td>NaN</td>\n",
       "      <td>NaN</td>\n",
       "      <td>NaN</td>\n",
       "      <td>NaN</td>\n",
       "      <td>NaN</td>\n",
       "      <td>NaN</td>\n",
       "      <td>NaN</td>\n",
       "      <td>NaN</td>\n",
       "    </tr>\n",
       "    <tr>\n",
       "      <th>4</th>\n",
       "      <td>10126</td>\n",
       "      <td>0</td>\n",
       "      <td>0.0</td>\n",
       "      <td>48.0</td>\n",
       "      <td>No</td>\n",
       "      <td>NaN</td>\n",
       "      <td>No</td>\n",
       "      <td>No</td>\n",
       "      <td>Yes</td>\n",
       "      <td>Yes, as per protocol</td>\n",
       "      <td>...</td>\n",
       "      <td>NaN</td>\n",
       "      <td>NaN</td>\n",
       "      <td>NaN</td>\n",
       "      <td>NaN</td>\n",
       "      <td>NaN</td>\n",
       "      <td>NaN</td>\n",
       "      <td>NaN</td>\n",
       "      <td>NaN</td>\n",
       "      <td>NaN</td>\n",
       "      <td>NaN</td>\n",
       "    </tr>\n",
       "  </tbody>\n",
       "</table>\n",
       "<p>5 rows × 2102 columns</p>\n",
       "</div>"
      ],
      "text/plain": [
       "   SWANID  VISIT  INTDAY   AGE PREGNAN PREVBLO ALCHL24 EATDRIN STRTPER  \\\n",
       "0   10005      0     0.0  48.0      No     NaN      No      No     Yes   \n",
       "1   10046      0     0.0  52.0      No     NaN      No      No     Yes   \n",
       "2   10056      0     0.0  51.0      No      No     Yes      No     Yes   \n",
       "3   10092      0     0.0  45.0      No     NaN     Yes      No     Yes   \n",
       "4   10126      0     0.0  48.0      No     NaN      No      No     Yes   \n",
       "\n",
       "                BLDRWAT  ... MEALBAR INSTSHK CHOCOCD ICECREA SALADDR DRKBEER  \\\n",
       "0  Yes, as per protocol  ...     NaN     NaN     NaN     NaN     NaN     NaN   \n",
       "1  Yes, as per protocol  ...     NaN     NaN     NaN     NaN     NaN     NaN   \n",
       "2  Yes, as per protocol  ...     NaN     NaN     NaN     NaN     NaN     NaN   \n",
       "3  Yes, as per protocol  ...     NaN     NaN     NaN     NaN     NaN     NaN   \n",
       "4  Yes, as per protocol  ...     NaN     NaN     NaN     NaN     NaN     NaN   \n",
       "\n",
       "  FLGHRMV OSTN1MO1 OSTN1MO2 FLGCOG  \n",
       "0     NaN      NaN      NaN    NaN  \n",
       "1     NaN      NaN      NaN    NaN  \n",
       "2     NaN      NaN      NaN    NaN  \n",
       "3     NaN      NaN      NaN    NaN  \n",
       "4     NaN      NaN      NaN    NaN  \n",
       "\n",
       "[5 rows x 2102 columns]"
      ]
     },
     "execution_count": 3,
     "metadata": {},
     "output_type": "execute_result"
    }
   ],
   "source": [
    "data.head()"
   ]
  },
  {
   "cell_type": "markdown",
   "id": "64eb2764",
   "metadata": {},
   "source": [
    "# Creation of P_STRESS Variable"
   ]
  },
  {
   "cell_type": "code",
   "execution_count": 4,
   "id": "42822f15",
   "metadata": {},
   "outputs": [
    {
     "data": {
      "text/plain": [
       "CONTROL\n",
       "1: Never           3016\n",
       "2: Almost Never    2152\n",
       "3: Sometimes       1526\n",
       "4: Fairly Often     320\n",
       "5: Very Often       147\n",
       "Almost Never       1706\n",
       "Almost never       3799\n",
       "Fairly Often        250\n",
       "Fairly often        536\n",
       "Never              6678\n",
       "Sometimes          3657\n",
       "Very Often          114\n",
       "Very often          226\n",
       "Name: CONTROL, dtype: int64"
      ]
     },
     "execution_count": 4,
     "metadata": {},
     "output_type": "execute_result"
    }
   ],
   "source": [
    "# Look at categories of CONTROL\n",
    "df = data.groupby(['CONTROL'])['CONTROL'].count()\n",
    "df"
   ]
  },
  {
   "cell_type": "code",
   "execution_count": 5,
   "id": "e81abffd",
   "metadata": {},
   "outputs": [],
   "source": [
    "# Recode CONTROL to 1-5\n",
    "data['CONTROL'].replace([\"Never\", \"1: Never\", \"Almost Never\", \"Almost never\", \"2: Almost Never\", \n",
    "                                            \"3: Sometimes\", \"Sometimes\", \"Fairly often\", \"Fairly Often\", \"4: Fairly Often\", \n",
    "                                            \"Very often\", \"Very Often\", \"5: Very Often\"],\n",
    "                        [1,1,2,2,2,3,3,4,4,4,5,5,5], inplace=True)"
   ]
  },
  {
   "cell_type": "code",
   "execution_count": 6,
   "id": "86d22e34",
   "metadata": {},
   "outputs": [
    {
     "data": {
      "text/plain": [
       "1.0    9694\n",
       "2.0    7657\n",
       "3.0    5183\n",
       "4.0    1106\n",
       "5.0     487\n",
       "Name: CONTROL, dtype: int64"
      ]
     },
     "execution_count": 6,
     "metadata": {},
     "output_type": "execute_result"
    }
   ],
   "source": [
    "# New CONTROL distribution\n",
    "data['CONTROL'].value_counts()"
   ]
  },
  {
   "cell_type": "code",
   "execution_count": 7,
   "id": "00e00502",
   "metadata": {},
   "outputs": [
    {
     "data": {
      "text/plain": [
       "CONFIDE\n",
       "1: None Of The Time          21\n",
       "1: None of the time          23\n",
       "2: A Little Of The Time      47\n",
       "2: A little of the time      89\n",
       "3: Some Of The Time         208\n",
       "3: Some of the time         209\n",
       "4: Most Of The Time         749\n",
       "4: Most of the time         770\n",
       "5: All Of The Time         1115\n",
       "5: All of the time         1224\n",
       "A Little Of The Time        319\n",
       "A little of the time        335\n",
       "All Of The Time            4161\n",
       "All of the time            5208\n",
       "Most Of The Time           3007\n",
       "Most of the time           3603\n",
       "None Of The Time            104\n",
       "None of the time            117\n",
       "Some Of The Time            933\n",
       "Some of the time           1030\n",
       "Name: CONFIDE, dtype: int64"
      ]
     },
     "execution_count": 7,
     "metadata": {},
     "output_type": "execute_result"
    }
   ],
   "source": [
    "# Look at categories of CONFIDE\n",
    "df = data.groupby(['CONFIDE'])['CONFIDE'].count()\n",
    "df"
   ]
  },
  {
   "cell_type": "code",
   "execution_count": 8,
   "id": "136bfe0b",
   "metadata": {},
   "outputs": [],
   "source": [
    "# Recode CONFIDE to 1-5\n",
    "data['CONFIDE'].replace([\"1: None Of The Time\", \"1: None of the time\", \"None Of The Time\", \"None of the time\", \n",
    "                         \"2: A Little Of The Time\", \"2: A little of the time\", \"A Little Of The Time\", \"A little of the time\",\n",
    "                         \"3: Some Of The Time\", \"3: Some of the time\", \"Some Of The Time\", \"Some of the time\", \n",
    "                         \"4: Most Of The Time\", \"4: Most of the time\", \"Most Of The Time\", \"Most of the time\",\n",
    "                         \"5: All Of The Time\", \"5: All of the time\", \"All Of The Time\", \"All of the time\"],\n",
    "                        [5,5,5,5,4,4,4,4,3,3,3,3,2,2,2,2,1,1,1,1], inplace=True)"
   ]
  },
  {
   "cell_type": "code",
   "execution_count": 9,
   "id": "6bb0d9cc",
   "metadata": {
    "scrolled": true
   },
   "outputs": [
    {
     "data": {
      "text/plain": [
       "1.0    11708\n",
       "2.0     8129\n",
       "3.0     2380\n",
       "4.0      790\n",
       "5.0      265\n",
       "Name: CONFIDE, dtype: int64"
      ]
     },
     "execution_count": 9,
     "metadata": {},
     "output_type": "execute_result"
    }
   ],
   "source": [
    "# New CONFIDE distribution\n",
    "data['CONFIDE'].value_counts()"
   ]
  },
  {
   "cell_type": "code",
   "execution_count": 10,
   "id": "337023b0",
   "metadata": {},
   "outputs": [
    {
     "data": {
      "text/plain": [
       "YOURWAY\n",
       "1: Never             96\n",
       "2: Almost Never     200\n",
       "2: Almost never     119\n",
       "3: Sometimes       1820\n",
       "4: Fairly Often    2039\n",
       "4: Fairly often    1034\n",
       "5: Very Often      1235\n",
       "5: Very often       618\n",
       "Almost Never        231\n",
       "Almost never        489\n",
       "Fairly Often       2300\n",
       "Fairly often       4994\n",
       "Never               199\n",
       "Sometimes          4503\n",
       "Very Often         1219\n",
       "Very often         3029\n",
       "Name: YOURWAY, dtype: int64"
      ]
     },
     "execution_count": 10,
     "metadata": {},
     "output_type": "execute_result"
    }
   ],
   "source": [
    "# Look at categories of YOURWAY\n",
    "df = data.groupby(['YOURWAY'])['YOURWAY'].count()\n",
    "df"
   ]
  },
  {
   "cell_type": "code",
   "execution_count": 11,
   "id": "ad8000f4",
   "metadata": {},
   "outputs": [],
   "source": [
    "# Recode YOURWAY to 1-5\n",
    "data['YOURWAY'].replace([\"Never\", \"1: Never\", \"Almost Never\", \"Almost never\", \"2: Almost Never\", \"2: Almost never\",\n",
    "                         \"3: Sometimes\", \"Sometimes\", \"Fairly often\", \"Fairly Often\", \"4: Fairly Often\", \"4: Fairly often\", \n",
    "                                            \"Very often\", \"Very Often\", \"5: Very Often\", \"5: Very often\"],\n",
    "                        [5,5,4,4,4,4,3,3,2,2,2,2,1,1,1,1], inplace=True)"
   ]
  },
  {
   "cell_type": "code",
   "execution_count": 12,
   "id": "c790b3d2",
   "metadata": {},
   "outputs": [
    {
     "data": {
      "text/plain": [
       "2.0    10367\n",
       "3.0     6323\n",
       "1.0     6101\n",
       "4.0     1039\n",
       "5.0      295\n",
       "Name: YOURWAY, dtype: int64"
      ]
     },
     "execution_count": 12,
     "metadata": {},
     "output_type": "execute_result"
    }
   ],
   "source": [
    "# New YOURWAY distribution\n",
    "data['YOURWAY'].value_counts()"
   ]
  },
  {
   "cell_type": "code",
   "execution_count": 13,
   "id": "023c4050",
   "metadata": {},
   "outputs": [
    {
     "data": {
      "text/plain": [
       "PILING\n",
       "1: Never           3335\n",
       "2: Almost Never    1539\n",
       "2: Almost never     756\n",
       "3: Sometimes       1177\n",
       "4: Fairly Often     163\n",
       "4: Fairly often      89\n",
       "5: Very Often        59\n",
       "5: Very often        44\n",
       "Almost Never       1868\n",
       "Almost never       3908\n",
       "Fairly Often        240\n",
       "Fairly often        496\n",
       "Never              7228\n",
       "Sometimes          2986\n",
       "Very Often           79\n",
       "Very often          162\n",
       "Name: PILING, dtype: int64"
      ]
     },
     "execution_count": 13,
     "metadata": {},
     "output_type": "execute_result"
    }
   ],
   "source": [
    "# Look at categories of PILING\n",
    "df = data.groupby(['PILING'])['PILING'].count()\n",
    "df"
   ]
  },
  {
   "cell_type": "code",
   "execution_count": 14,
   "id": "a44c08b0",
   "metadata": {},
   "outputs": [],
   "source": [
    "# Recode PILING to 1-5\n",
    "data['PILING'].replace([\"Never\", \"1: Never\", \"Almost Never\", \"Almost never\", \"2: Almost Never\", \"2: Almost never\",\n",
    "                         \"3: Sometimes\", \"Sometimes\", \"Fairly often\", \"Fairly Often\", \"4: Fairly Often\", \"4: Fairly often\", \n",
    "                                            \"Very often\", \"Very Often\", \"5: Very Often\", \"5: Very often\"],\n",
    "                        [1,1,2,2,2,2,3,3,4,4,4,4,5,5,5,5], inplace=True)"
   ]
  },
  {
   "cell_type": "code",
   "execution_count": 15,
   "id": "eed795f0",
   "metadata": {},
   "outputs": [
    {
     "data": {
      "text/plain": [
       "1.0    10563\n",
       "2.0     8071\n",
       "3.0     4163\n",
       "4.0      988\n",
       "5.0      344\n",
       "Name: PILING, dtype: int64"
      ]
     },
     "execution_count": 15,
     "metadata": {},
     "output_type": "execute_result"
    }
   ],
   "source": [
    "# New PILING distribution\n",
    "data['PILING'].value_counts()"
   ]
  },
  {
   "cell_type": "code",
   "execution_count": 16,
   "id": "363f189c",
   "metadata": {},
   "outputs": [],
   "source": [
    "# Creation of P_STRESS variable from CONTROL, CONFIDE, YOURWAY, and PILING (OVERCOME)\n",
    "data['P_STRESS'] = data['CONTROL'] + data['CONFIDE'] + data['YOURWAY'] + data['PILING']"
   ]
  },
  {
   "cell_type": "code",
   "execution_count": 17,
   "id": "85b4acbe",
   "metadata": {},
   "outputs": [
    {
     "data": {
      "text/plain": [
       "6.0     2700\n",
       "7.0     2621\n",
       "5.0     2583\n",
       "8.0     2428\n",
       "4.0     2050\n",
       "9.0     1827\n",
       "10.0    1604\n",
       "11.0    1194\n",
       "12.0     740\n",
       "13.0     423\n",
       "14.0     262\n",
       "15.0     132\n",
       "16.0      88\n",
       "17.0      47\n",
       "18.0      30\n",
       "19.0      16\n",
       "20.0       1\n",
       "Name: P_STRESS, dtype: int64"
      ]
     },
     "execution_count": 17,
     "metadata": {},
     "output_type": "execute_result"
    }
   ],
   "source": [
    "# New P_STRESS distribution\n",
    "data['P_STRESS'].value_counts()"
   ]
  },
  {
   "cell_type": "code",
   "execution_count": 18,
   "id": "958e3520",
   "metadata": {},
   "outputs": [],
   "source": [
    "sub_data = data[[\"VISIT\",\"CONTROL\",\"CONFIDE\",\"YOURWAY\",\"PILING\",\"P_STRESS\"]]"
   ]
  },
  {
   "cell_type": "code",
   "execution_count": 19,
   "id": "6d212187",
   "metadata": {},
   "outputs": [
    {
     "data": {
      "text/html": [
       "<div>\n",
       "<style scoped>\n",
       "    .dataframe tbody tr th:only-of-type {\n",
       "        vertical-align: middle;\n",
       "    }\n",
       "\n",
       "    .dataframe tbody tr th {\n",
       "        vertical-align: top;\n",
       "    }\n",
       "\n",
       "    .dataframe thead th {\n",
       "        text-align: right;\n",
       "    }\n",
       "</style>\n",
       "<table border=\"1\" class=\"dataframe\">\n",
       "  <thead>\n",
       "    <tr style=\"text-align: right;\">\n",
       "      <th></th>\n",
       "      <th>VISIT</th>\n",
       "      <th>CONTROL</th>\n",
       "      <th>CONFIDE</th>\n",
       "      <th>YOURWAY</th>\n",
       "      <th>PILING</th>\n",
       "      <th>P_STRESS</th>\n",
       "    </tr>\n",
       "  </thead>\n",
       "  <tbody>\n",
       "    <tr>\n",
       "      <th>0</th>\n",
       "      <td>0</td>\n",
       "      <td>NaN</td>\n",
       "      <td>1.0</td>\n",
       "      <td>NaN</td>\n",
       "      <td>NaN</td>\n",
       "      <td>NaN</td>\n",
       "    </tr>\n",
       "    <tr>\n",
       "      <th>1</th>\n",
       "      <td>0</td>\n",
       "      <td>NaN</td>\n",
       "      <td>1.0</td>\n",
       "      <td>NaN</td>\n",
       "      <td>NaN</td>\n",
       "      <td>NaN</td>\n",
       "    </tr>\n",
       "    <tr>\n",
       "      <th>2</th>\n",
       "      <td>0</td>\n",
       "      <td>NaN</td>\n",
       "      <td>2.0</td>\n",
       "      <td>NaN</td>\n",
       "      <td>NaN</td>\n",
       "      <td>NaN</td>\n",
       "    </tr>\n",
       "    <tr>\n",
       "      <th>3</th>\n",
       "      <td>0</td>\n",
       "      <td>NaN</td>\n",
       "      <td>1.0</td>\n",
       "      <td>NaN</td>\n",
       "      <td>NaN</td>\n",
       "      <td>NaN</td>\n",
       "    </tr>\n",
       "    <tr>\n",
       "      <th>4</th>\n",
       "      <td>0</td>\n",
       "      <td>NaN</td>\n",
       "      <td>1.0</td>\n",
       "      <td>NaN</td>\n",
       "      <td>NaN</td>\n",
       "      <td>NaN</td>\n",
       "    </tr>\n",
       "    <tr>\n",
       "      <th>...</th>\n",
       "      <td>...</td>\n",
       "      <td>...</td>\n",
       "      <td>...</td>\n",
       "      <td>...</td>\n",
       "      <td>...</td>\n",
       "      <td>...</td>\n",
       "    </tr>\n",
       "    <tr>\n",
       "      <th>28784</th>\n",
       "      <td>10</td>\n",
       "      <td>1.0</td>\n",
       "      <td>2.0</td>\n",
       "      <td>1.0</td>\n",
       "      <td>1.0</td>\n",
       "      <td>5.0</td>\n",
       "    </tr>\n",
       "    <tr>\n",
       "      <th>28785</th>\n",
       "      <td>10</td>\n",
       "      <td>3.0</td>\n",
       "      <td>3.0</td>\n",
       "      <td>2.0</td>\n",
       "      <td>3.0</td>\n",
       "      <td>11.0</td>\n",
       "    </tr>\n",
       "    <tr>\n",
       "      <th>28786</th>\n",
       "      <td>10</td>\n",
       "      <td>4.0</td>\n",
       "      <td>1.0</td>\n",
       "      <td>4.0</td>\n",
       "      <td>5.0</td>\n",
       "      <td>14.0</td>\n",
       "    </tr>\n",
       "    <tr>\n",
       "      <th>28787</th>\n",
       "      <td>10</td>\n",
       "      <td>2.0</td>\n",
       "      <td>2.0</td>\n",
       "      <td>4.0</td>\n",
       "      <td>1.0</td>\n",
       "      <td>9.0</td>\n",
       "    </tr>\n",
       "    <tr>\n",
       "      <th>28788</th>\n",
       "      <td>10</td>\n",
       "      <td>2.0</td>\n",
       "      <td>1.0</td>\n",
       "      <td>2.0</td>\n",
       "      <td>2.0</td>\n",
       "      <td>7.0</td>\n",
       "    </tr>\n",
       "  </tbody>\n",
       "</table>\n",
       "<p>28789 rows × 6 columns</p>\n",
       "</div>"
      ],
      "text/plain": [
       "       VISIT  CONTROL  CONFIDE  YOURWAY  PILING  P_STRESS\n",
       "0          0      NaN      1.0      NaN     NaN       NaN\n",
       "1          0      NaN      1.0      NaN     NaN       NaN\n",
       "2          0      NaN      2.0      NaN     NaN       NaN\n",
       "3          0      NaN      1.0      NaN     NaN       NaN\n",
       "4          0      NaN      1.0      NaN     NaN       NaN\n",
       "...      ...      ...      ...      ...     ...       ...\n",
       "28784     10      1.0      2.0      1.0     1.0       5.0\n",
       "28785     10      3.0      3.0      2.0     3.0      11.0\n",
       "28786     10      4.0      1.0      4.0     5.0      14.0\n",
       "28787     10      2.0      2.0      4.0     1.0       9.0\n",
       "28788     10      2.0      1.0      2.0     2.0       7.0\n",
       "\n",
       "[28789 rows x 6 columns]"
      ]
     },
     "execution_count": 19,
     "metadata": {},
     "output_type": "execute_result"
    }
   ],
   "source": [
    "# COnfirm that P_STRESS is NA if any of the 4 other variables are NA\n",
    "sub_data"
   ]
  },
  {
   "cell_type": "code",
   "execution_count": 20,
   "id": "7d5cbc19",
   "metadata": {},
   "outputs": [],
   "source": [
    "new_data = data[[\"SWANID\",\"VISIT\",\"RACE\",\"RESPCAR\",\"STRSCAR\",\"CHILDRE\",\"REWRDMO\",\"STRSSMO\",\"STRSSJO\",\"STRSREL\",\"P_STRESS\"]]"
   ]
  },
  {
   "cell_type": "code",
   "execution_count": 21,
   "id": "4e0b7334",
   "metadata": {},
   "outputs": [
    {
     "data": {
      "text/plain": [
       "SWANID      0.000000\n",
       "VISIT       0.000000\n",
       "RACE        0.000000\n",
       "RESPCAR     0.060683\n",
       "STRSCAR     0.926708\n",
       "CHILDRE     0.418319\n",
       "REWRDMO     0.521623\n",
       "STRSSMO     0.521484\n",
       "STRSSJO     0.545139\n",
       "STRSREL     0.520407\n",
       "P_STRESS    0.348849\n",
       "dtype: float64"
      ]
     },
     "execution_count": 21,
     "metadata": {},
     "output_type": "execute_result"
    }
   ],
   "source": [
    "# How stressful is your caregiver role of an older adult or disabled family member is almost all NAs\n",
    "# The rest have less than 55% NAs\n",
    "new_data.isna().mean()"
   ]
  },
  {
   "cell_type": "code",
   "execution_count": 22,
   "id": "bedef09f",
   "metadata": {},
   "outputs": [
    {
     "data": {
      "text/plain": [
       "(28789, 11)"
      ]
     },
     "execution_count": 22,
     "metadata": {},
     "output_type": "execute_result"
    }
   ],
   "source": [
    "new_data.shape"
   ]
  },
  {
   "cell_type": "code",
   "execution_count": 23,
   "id": "e00ee730-1ed3-48cc-aef2-e2611157442a",
   "metadata": {},
   "outputs": [],
   "source": [
    "# Remove columns with >55% null values\n",
    "data = data.loc[:, data.isnull().mean() < .55]"
   ]
  },
  {
   "cell_type": "code",
   "execution_count": 24,
   "id": "98015c53-b45d-4397-beae-a13aedae3618",
   "metadata": {},
   "outputs": [
    {
     "data": {
      "text/html": [
       "<div>\n",
       "<style scoped>\n",
       "    .dataframe tbody tr th:only-of-type {\n",
       "        vertical-align: middle;\n",
       "    }\n",
       "\n",
       "    .dataframe tbody tr th {\n",
       "        vertical-align: top;\n",
       "    }\n",
       "\n",
       "    .dataframe thead th {\n",
       "        text-align: right;\n",
       "    }\n",
       "</style>\n",
       "<table border=\"1\" class=\"dataframe\">\n",
       "  <thead>\n",
       "    <tr style=\"text-align: right;\">\n",
       "      <th></th>\n",
       "      <th>SWANID</th>\n",
       "      <th>VISIT</th>\n",
       "      <th>INTDAY</th>\n",
       "      <th>AGE</th>\n",
       "      <th>PREGNAN</th>\n",
       "      <th>ALCHL24</th>\n",
       "      <th>EATDRIN</th>\n",
       "      <th>STRTPER</th>\n",
       "      <th>BLDRWAT</th>\n",
       "      <th>BLDDRAW</th>\n",
       "      <th>...</th>\n",
       "      <th>PELVCPN</th>\n",
       "      <th>FIBRUTR</th>\n",
       "      <th>PRVIDER</th>\n",
       "      <th>CHGHHLD</th>\n",
       "      <th>ARTHRT1</th>\n",
       "      <th>FORMSAA</th>\n",
       "      <th>NERVES</th>\n",
       "      <th>CRELDIE</th>\n",
       "      <th>BRSTPAI</th>\n",
       "      <th>P_STRESS</th>\n",
       "    </tr>\n",
       "  </thead>\n",
       "  <tbody>\n",
       "    <tr>\n",
       "      <th>0</th>\n",
       "      <td>10005</td>\n",
       "      <td>0</td>\n",
       "      <td>0.0</td>\n",
       "      <td>48.0</td>\n",
       "      <td>No</td>\n",
       "      <td>No</td>\n",
       "      <td>No</td>\n",
       "      <td>Yes</td>\n",
       "      <td>Yes, as per protocol</td>\n",
       "      <td>Yes</td>\n",
       "      <td>...</td>\n",
       "      <td>NaN</td>\n",
       "      <td>NaN</td>\n",
       "      <td>NaN</td>\n",
       "      <td>NaN</td>\n",
       "      <td>NaN</td>\n",
       "      <td>NaN</td>\n",
       "      <td>NaN</td>\n",
       "      <td>NaN</td>\n",
       "      <td>NaN</td>\n",
       "      <td>NaN</td>\n",
       "    </tr>\n",
       "    <tr>\n",
       "      <th>1</th>\n",
       "      <td>10046</td>\n",
       "      <td>0</td>\n",
       "      <td>0.0</td>\n",
       "      <td>52.0</td>\n",
       "      <td>No</td>\n",
       "      <td>No</td>\n",
       "      <td>No</td>\n",
       "      <td>Yes</td>\n",
       "      <td>Yes, as per protocol</td>\n",
       "      <td>Yes</td>\n",
       "      <td>...</td>\n",
       "      <td>NaN</td>\n",
       "      <td>NaN</td>\n",
       "      <td>NaN</td>\n",
       "      <td>NaN</td>\n",
       "      <td>NaN</td>\n",
       "      <td>NaN</td>\n",
       "      <td>NaN</td>\n",
       "      <td>NaN</td>\n",
       "      <td>NaN</td>\n",
       "      <td>NaN</td>\n",
       "    </tr>\n",
       "    <tr>\n",
       "      <th>2</th>\n",
       "      <td>10056</td>\n",
       "      <td>0</td>\n",
       "      <td>0.0</td>\n",
       "      <td>51.0</td>\n",
       "      <td>No</td>\n",
       "      <td>Yes</td>\n",
       "      <td>No</td>\n",
       "      <td>Yes</td>\n",
       "      <td>Yes, as per protocol</td>\n",
       "      <td>Yes</td>\n",
       "      <td>...</td>\n",
       "      <td>NaN</td>\n",
       "      <td>NaN</td>\n",
       "      <td>NaN</td>\n",
       "      <td>NaN</td>\n",
       "      <td>NaN</td>\n",
       "      <td>NaN</td>\n",
       "      <td>NaN</td>\n",
       "      <td>NaN</td>\n",
       "      <td>NaN</td>\n",
       "      <td>NaN</td>\n",
       "    </tr>\n",
       "    <tr>\n",
       "      <th>3</th>\n",
       "      <td>10092</td>\n",
       "      <td>0</td>\n",
       "      <td>0.0</td>\n",
       "      <td>45.0</td>\n",
       "      <td>No</td>\n",
       "      <td>Yes</td>\n",
       "      <td>No</td>\n",
       "      <td>Yes</td>\n",
       "      <td>Yes, as per protocol</td>\n",
       "      <td>Yes</td>\n",
       "      <td>...</td>\n",
       "      <td>NaN</td>\n",
       "      <td>NaN</td>\n",
       "      <td>NaN</td>\n",
       "      <td>NaN</td>\n",
       "      <td>NaN</td>\n",
       "      <td>NaN</td>\n",
       "      <td>NaN</td>\n",
       "      <td>NaN</td>\n",
       "      <td>NaN</td>\n",
       "      <td>NaN</td>\n",
       "    </tr>\n",
       "    <tr>\n",
       "      <th>4</th>\n",
       "      <td>10126</td>\n",
       "      <td>0</td>\n",
       "      <td>0.0</td>\n",
       "      <td>48.0</td>\n",
       "      <td>No</td>\n",
       "      <td>No</td>\n",
       "      <td>No</td>\n",
       "      <td>Yes</td>\n",
       "      <td>Yes, as per protocol</td>\n",
       "      <td>Yes</td>\n",
       "      <td>...</td>\n",
       "      <td>NaN</td>\n",
       "      <td>NaN</td>\n",
       "      <td>NaN</td>\n",
       "      <td>NaN</td>\n",
       "      <td>NaN</td>\n",
       "      <td>NaN</td>\n",
       "      <td>NaN</td>\n",
       "      <td>NaN</td>\n",
       "      <td>NaN</td>\n",
       "      <td>NaN</td>\n",
       "    </tr>\n",
       "  </tbody>\n",
       "</table>\n",
       "<p>5 rows × 259 columns</p>\n",
       "</div>"
      ],
      "text/plain": [
       "   SWANID  VISIT  INTDAY   AGE PREGNAN ALCHL24 EATDRIN STRTPER  \\\n",
       "0   10005      0     0.0  48.0      No      No      No     Yes   \n",
       "1   10046      0     0.0  52.0      No      No      No     Yes   \n",
       "2   10056      0     0.0  51.0      No     Yes      No     Yes   \n",
       "3   10092      0     0.0  45.0      No     Yes      No     Yes   \n",
       "4   10126      0     0.0  48.0      No      No      No     Yes   \n",
       "\n",
       "                BLDRWAT BLDDRAW  ... PELVCPN FIBRUTR PRVIDER CHGHHLD ARTHRT1  \\\n",
       "0  Yes, as per protocol     Yes  ...     NaN     NaN     NaN     NaN     NaN   \n",
       "1  Yes, as per protocol     Yes  ...     NaN     NaN     NaN     NaN     NaN   \n",
       "2  Yes, as per protocol     Yes  ...     NaN     NaN     NaN     NaN     NaN   \n",
       "3  Yes, as per protocol     Yes  ...     NaN     NaN     NaN     NaN     NaN   \n",
       "4  Yes, as per protocol     Yes  ...     NaN     NaN     NaN     NaN     NaN   \n",
       "\n",
       "  FORMSAA NERVES CRELDIE  BRSTPAI P_STRESS  \n",
       "0     NaN    NaN     NaN      NaN      NaN  \n",
       "1     NaN    NaN     NaN      NaN      NaN  \n",
       "2     NaN    NaN     NaN      NaN      NaN  \n",
       "3     NaN    NaN     NaN      NaN      NaN  \n",
       "4     NaN    NaN     NaN      NaN      NaN  \n",
       "\n",
       "[5 rows x 259 columns]"
      ]
     },
     "execution_count": 24,
     "metadata": {},
     "output_type": "execute_result"
    }
   ],
   "source": [
    "data.head()"
   ]
  },
  {
   "cell_type": "markdown",
   "id": "23c830a0",
   "metadata": {},
   "source": [
    "# Creation of Sleep Index"
   ]
  },
  {
   "cell_type": "raw",
   "id": "1aaa5114-555a-4a9f-b3b5-1eba39d76243",
   "metadata": {},
   "source": [
    "# Sleeping variables are messy... Begin with creating binary variables - did they have problems or not.  Can review extent of problems downline.\n",
    "\n",
    "Focusing on the below:\n",
    "NITESWE\n",
    "TRBLSLE\n",
    "WAKEUP\n",
    "WAKEARL\n",
    "\n",
    "\n",
    "# 09/01 Update\n",
    "# Remove NITESWE and add SLEEPQL"
   ]
  },
  {
   "cell_type": "code",
   "execution_count": 25,
   "id": "e687b65a-cbf4-4679-8507-e81e61e9d5ea",
   "metadata": {},
   "outputs": [
    {
     "data": {
      "text/plain": [
       "Not at all       8198\n",
       "Not At All       5514\n",
       "1: Not At All    2825\n",
       "1-5 Days         2562\n",
       "1-5 days         1868\n",
       "1: Not at all    1367\n",
       "2: 1-5 Days      1164\n",
       "1-5 day           623\n",
       "2: 1-5 days       620\n",
       "Every day         573\n",
       "6-8 Days          442\n",
       "5: Every Day      334\n",
       "6-8 days          322\n",
       "Every Day         256\n",
       "9-13 Days         250\n",
       "9-13 days         217\n",
       "3: 6-8 Days       191\n",
       "5: Every day      145\n",
       "6-8 day           136\n",
       "4: 9-13 Days      127\n",
       "3: 6-8 days       121\n",
       "9-13 day           86\n",
       "4: 9-13 days       73\n",
       "Name: NITESWE, dtype: int64"
      ]
     },
     "execution_count": 25,
     "metadata": {},
     "output_type": "execute_result"
    }
   ],
   "source": [
    "data['NITESWE'].value_counts()"
   ]
  },
  {
   "cell_type": "code",
   "execution_count": 26,
   "id": "86cb0871-ad60-4ac7-a66a-773ae6125ba9",
   "metadata": {},
   "outputs": [],
   "source": [
    "# Convert NITESWE to binary\n",
    "data['NITESWE'].replace([\"1-5 Days\" ,\"2: 1-5 days\" ,\"Every Day\" ,\"6-8 Days\" ,\"1-5 day\" ,\"5: Every day\" ,\"9-13 Days\" ,\"3: 6-8 days\" ,\"4: 9-13 days\" ,\"6-8 day\" ,\"9-13 day\",\n",
    "                         \"1-5 days\", \"2: 1-5 Days\", \"Every day\", \"5: Every Day\", \"6-8 days\", \"9-13 days\", \"3: 6-8 Days\", \"4: 9-13 Days\",\n",
    "                         # No problem variables below\n",
    "                         \"Not At All\", \"1: Not at all\", \"Not at all\",\"1: Not At All\"],\n",
    "                        [0,0,0,0,0,0,0,0,0,0,0,0,0,0,0,0,0,0,0,1,1,1,1], inplace=True)"
   ]
  },
  {
   "cell_type": "code",
   "execution_count": 27,
   "id": "f152e26d-1453-48af-9208-e3a1c27fe2b3",
   "metadata": {},
   "outputs": [
    {
     "data": {
      "text/plain": [
       "No, Not In The Past 2 Wks         4656\n",
       "No, not in the past 2 wks         4113\n",
       "No, not in the past 2 weeks       2699\n",
       "Yes, < Once A Wk                  1525\n",
       "Yes, < once a wk                  1270\n",
       "1: No, not in the past 2 weeks    1196\n",
       "Yes, 1-2 Times/Wk                 1183\n",
       "1: No, Not In The Past 2 Wks      1128\n",
       "Yes, 1-2 times/wk                 1035\n",
       "1: No, Not In The Past 2 Weeks    1033\n",
       "Yes, 3-4 times/wk                  570\n",
       "Yes, < once a week                 497\n",
       "Yes, 3-4 Times/Wk                  490\n",
       "Yes, 5 or more times/wk            467\n",
       "Yes, 5 or More Times/Wk            449\n",
       "Yes, 1-2 times/week                382\n",
       "Yes, less than once a week         377\n",
       "2: Yes, < Once A Week              366\n",
       "2: Yes, less than once a week      353\n",
       "3: Yes, 1-2 Times/Wk               343\n",
       "3: Yes, 1-2 Times/Week             340\n",
       "Yes, 1-2 times per week            336\n",
       "2: Yes, < Once A Wk                329\n",
       "3: Yes, 1-2 times/week             314\n",
       "Yes, 3-4 times/week                171\n",
       "4: Yes, 3-4 Times/Wk               167\n",
       "Yes, 3-4 times per week            166\n",
       "5: Yes, 5 or More Times/Wk         159\n",
       "4: Yes, 3-4 Times/Week             157\n",
       "5: Yes, 5 or more times/week       156\n",
       "5: Yes, 5 or More Times/Week       154\n",
       "Yes, 5 or more times per week      154\n",
       "4: Yes, 3-4 times/week             151\n",
       "Yes, 5 or more times/week          150\n",
       "Name: TRBLSLE, dtype: int64"
      ]
     },
     "execution_count": 27,
     "metadata": {},
     "output_type": "execute_result"
    }
   ],
   "source": [
    "# TRBLSLE WAKEARL and WAKEUP have the same distributions.\n",
    "data['TRBLSLE'].value_counts()"
   ]
  },
  {
   "cell_type": "code",
   "execution_count": 28,
   "id": "027ad804-a060-433b-a4c0-793764245c0d",
   "metadata": {},
   "outputs": [],
   "source": [
    "# Convert TRBLSLE to binary\n",
    "data['TRBLSLE'].replace([\"Yes, < Once A Wk\", \"Yes, < once a wk\", \"Yes, 1-2 Times/Wk\", \"Yes, 1-2 times/wk\", \"Yes, 3-4 times/wk\", \"Yes, < once a week\", \n",
    "                         \"Yes, 3-4 Times/Wk\", \"Yes, 5 or more times/wk\", \"Yes, 5 or More Times/Wk\", \"Yes, 1-2 times/week\", \"Yes, less than once a week\", \n",
    "                         \"2: Yes, < Once A Week\", \"2: Yes, less than once a week\", \"3: Yes, 1-2 Times/Wk\", \"3: Yes, 1-2 Times/Week\", \"Yes, 1-2 times per week\", \n",
    "                         \"2: Yes, < Once A Wk\", \"3: Yes, 1-2 times/week\", \"Yes, 3-4 times/week\", \"4: Yes, 3-4 Times/Wk\", \"Yes, 3-4 times per week\", \n",
    "                         \"5: Yes, 5 or More Times/Wk\", \"4: Yes, 3-4 Times/Week\", \"5: Yes, 5 or more times/week\", \"5: Yes, 5 or More Times/Week\", \n",
    "                         \"Yes, 5 or more times per week\", \"4: Yes, 3-4 times/week\", \"Yes, 5 or more times/week\",\n",
    "                          # No problem variables below\n",
    "                         \"No, Not In The Past 2 Wks\", \"No, not in the past 2 wks\", \"No, not in the past 2 weeks\", \"1: No, not in the past 2 weeks\", \n",
    "                         \"1: No, Not In The Past 2 Wks\", \"1: No, Not In The Past 2 Weeks\"],\n",
    "                        [0,0,0,0,0,0,0,0,0,0,0,0,0,0,0,0,0,0,0,0,0,0,0,0,0,0,0,0,\n",
    "                         1,1,1,1,1,1], inplace=True)\n",
    "\n",
    "# Convert WAKEUP to binary\n",
    "data['WAKEUP'].replace([\"Yes, < Once A Wk\", \"Yes, < once a wk\", \"Yes, 1-2 Times/Wk\", \"Yes, 1-2 times/wk\", \"Yes, 3-4 times/wk\", \"Yes, < once a week\", \n",
    "                         \"Yes, 3-4 Times/Wk\", \"Yes, 5 or more times/wk\", \"Yes, 5 or More Times/Wk\", \"Yes, 1-2 times/week\", \"Yes, less than once a week\", \n",
    "                         \"2: Yes, < Once A Week\", \"2: Yes, less than once a week\", \"3: Yes, 1-2 Times/Wk\", \"3: Yes, 1-2 Times/Week\", \"Yes, 1-2 times per week\", \n",
    "                         \"2: Yes, < Once A Wk\", \"3: Yes, 1-2 times/week\", \"Yes, 3-4 times/week\", \"4: Yes, 3-4 Times/Wk\", \"Yes, 3-4 times per week\", \n",
    "                         \"5: Yes, 5 or More Times/Wk\", \"4: Yes, 3-4 Times/Week\", \"5: Yes, 5 or more times/week\", \"5: Yes, 5 or More Times/Week\", \n",
    "                         \"Yes, 5 or more times per week\", \"4: Yes, 3-4 times/week\", \"Yes, 5 or more times/week\",\n",
    "                          # No problem variables below\n",
    "                         \"No, Not In The Past 2 Wks\", \"No, not in the past 2 wks\", \"No, not in the past 2 weeks\", \"1: No, not in the past 2 weeks\", \n",
    "                         \"1: No, Not In The Past 2 Wks\", \"1: No, Not In The Past 2 Weeks\"],\n",
    "                        [0,0,0,0,0,0,0,0,0,0,0,0,0,0,0,0,0,0,0,0,0,0,0,0,0,0,0,0,\n",
    "                         1,1,1,1,1,1], inplace=True)\n",
    "\n",
    "\n",
    "# Convert WAKEARL to binary\n",
    "data['WAKEARL'].replace([\"Yes, < Once A Wk\", \"Yes, < once a wk\", \"Yes, 1-2 Times/Wk\", \"Yes, 1-2 times/wk\", \"Yes, 3-4 times/wk\", \"Yes, < once a week\", \n",
    "                         \"Yes, 3-4 Times/Wk\", \"Yes, 5 or more times/wk\", \"Yes, 5 or More Times/Wk\", \"Yes, 1-2 times/week\", \"Yes, less than once a week\", \n",
    "                         \"2: Yes, < Once A Week\", \"2: Yes, less than once a week\", \"3: Yes, 1-2 Times/Wk\", \"3: Yes, 1-2 Times/Week\", \"Yes, 1-2 times per week\", \n",
    "                         \"2: Yes, < Once A Wk\", \"3: Yes, 1-2 times/week\", \"Yes, 3-4 times/week\", \"4: Yes, 3-4 Times/Wk\", \"Yes, 3-4 times per week\", \n",
    "                         \"5: Yes, 5 or More Times/Wk\", \"4: Yes, 3-4 Times/Week\", \"5: Yes, 5 or more times/week\", \"5: Yes, 5 or More Times/Week\", \n",
    "                         \"Yes, 5 or more times per week\", \"4: Yes, 3-4 times/week\", \"Yes, 5 or more times/week\",\n",
    "                          # No problem variables below\n",
    "                         \"No, Not In The Past 2 Wks\", \"No, not in the past 2 wks\", \"No, not in the past 2 weeks\", \"1: No, not in the past 2 weeks\", \n",
    "                         \"1: No, Not In The Past 2 Wks\", \"1: No, Not In The Past 2 Weeks\"],\n",
    "                        [0,0,0,0,0,0,0,0,0,0,0,0,0,0,0,0,0,0,0,0,0,0,0,0,0,0,0,0,\n",
    "                         1,1,1,1,1,1], inplace=True)\n",
    "                        "
   ]
  },
  {
   "cell_type": "code",
   "execution_count": 29,
   "id": "41919572",
   "metadata": {},
   "outputs": [
    {
     "data": {
      "text/plain": [
       "Fairly good       6477\n",
       "2: Fairly good    3120\n",
       "Very good         2863\n",
       "Fairly bad        2063\n",
       "1: Very good      1290\n",
       "3: Fairly bad     1085\n",
       "Very bad           439\n",
       "4: Very bad        234\n",
       "Name: SLEEPQL, dtype: int64"
      ]
     },
     "execution_count": 29,
     "metadata": {},
     "output_type": "execute_result"
    }
   ],
   "source": [
    "data['SLEEPQL'].value_counts()"
   ]
  },
  {
   "cell_type": "code",
   "execution_count": 30,
   "id": "9edb8cdd",
   "metadata": {},
   "outputs": [],
   "source": [
    "data['SLEEPQL'].replace([\"Fairly bad\" ,\"3: Fairly bad\" ,\"Very bad\" ,\"4: Very bad\",\n",
    "                         # No problem variables below\n",
    "                         \"Fairly good\", \"2: Fairly good\", \"Very good\",\"1: Very good\"],\n",
    "                        [1,1,1,1,\n",
    "                         0,0,0,0], inplace=True)"
   ]
  },
  {
   "cell_type": "code",
   "execution_count": 31,
   "id": "655a4aa6",
   "metadata": {},
   "outputs": [
    {
     "data": {
      "text/plain": [
       "0.0    13750\n",
       "1.0     3821\n",
       "Name: SLEEPQL, dtype: int64"
      ]
     },
     "execution_count": 31,
     "metadata": {},
     "output_type": "execute_result"
    }
   ],
   "source": [
    "data['SLEEPQL'].value_counts()"
   ]
  },
  {
   "cell_type": "code",
   "execution_count": 32,
   "id": "dab41da0-11c9-44d4-9060-53157d5bda3e",
   "metadata": {},
   "outputs": [
    {
     "data": {
      "text/plain": [
       "1.0    17904\n",
       "0.0    10110\n",
       "Name: NITESWE, dtype: int64"
      ]
     },
     "execution_count": 32,
     "metadata": {},
     "output_type": "execute_result"
    }
   ],
   "source": [
    "data['NITESWE'].value_counts()"
   ]
  },
  {
   "cell_type": "code",
   "execution_count": 33,
   "id": "909e3037-aebd-4037-9df8-0de299b4eaf3",
   "metadata": {},
   "outputs": [
    {
     "data": {
      "text/plain": [
       "1.0    14825\n",
       "0.0    12211\n",
       "Name: TRBLSLE, dtype: int64"
      ]
     },
     "execution_count": 33,
     "metadata": {},
     "output_type": "execute_result"
    }
   ],
   "source": [
    "data['TRBLSLE'].value_counts()"
   ]
  },
  {
   "cell_type": "code",
   "execution_count": 34,
   "id": "f1be2970-d8f5-4728-8682-cefb86665094",
   "metadata": {},
   "outputs": [
    {
     "data": {
      "text/plain": [
       "0.0    19144\n",
       "1.0     7885\n",
       "Name: WAKEUP, dtype: int64"
      ]
     },
     "execution_count": 34,
     "metadata": {},
     "output_type": "execute_result"
    }
   ],
   "source": [
    "data['WAKEUP'].value_counts()"
   ]
  },
  {
   "cell_type": "code",
   "execution_count": 35,
   "id": "456b4f9a-a54d-4672-a620-2d375ef6eb94",
   "metadata": {},
   "outputs": [
    {
     "data": {
      "text/plain": [
       "0.0    14072\n",
       "1.0    12960\n",
       "Name: WAKEARL, dtype: int64"
      ]
     },
     "execution_count": 35,
     "metadata": {},
     "output_type": "execute_result"
    }
   ],
   "source": [
    "data['WAKEARL'].value_counts()"
   ]
  },
  {
   "cell_type": "code",
   "execution_count": 36,
   "id": "9927c955-111f-47ef-afb1-6954d42e27a2",
   "metadata": {},
   "outputs": [],
   "source": [
    "## Build sleeping index ##\n",
    "data[\"sleepTarget\"] = data[['SLEEPQL', 'TRBLSLE', 'WAKEUP','WAKEARL']].mean(axis=1)\n"
   ]
  },
  {
   "cell_type": "code",
   "execution_count": 37,
   "id": "a46bfb72-14ce-401c-a49e-01b7699df755",
   "metadata": {},
   "outputs": [
    {
     "data": {
      "text/plain": [
       "0.250000    6386\n",
       "0.000000    5702\n",
       "0.500000    4820\n",
       "0.750000    3356\n",
       "0.333333    2395\n",
       "0.666667    2207\n",
       "1.000000    2186\n",
       "Name: sleepTarget, dtype: int64"
      ]
     },
     "execution_count": 37,
     "metadata": {},
     "output_type": "execute_result"
    }
   ],
   "source": [
    "data['sleepTarget'].value_counts()"
   ]
  },
  {
   "cell_type": "code",
   "execution_count": 38,
   "id": "ae0c8bcf-f72a-47fc-a6a8-302cbd25b15d",
   "metadata": {},
   "outputs": [],
   "source": [
    "#data.info()"
   ]
  },
  {
   "cell_type": "markdown",
   "id": "9d7938a7",
   "metadata": {},
   "source": [
    "# Making Column values consistent across all remaining variables"
   ]
  },
  {
   "cell_type": "code",
   "execution_count": 39,
   "id": "b3b4e3de-563e-421a-b486-fe5b84f426df",
   "metadata": {},
   "outputs": [],
   "source": [
    "### As I look, it might be best to normalize all fields similar to above (but expanded) ###\n",
    "### Below will change all instances into one, based on the interval ###\n",
    "\n",
    "\n",
    "data = data.replace({\"Yes, 1-2 Times/Wk\":\"1-2 Times/Wk\",\n",
    "\"Yes, 1-2 times/wk\":\"1-2 Times/Wk\",\n",
    "\"Yes, 1-2 times/week\":\"1-2 Times/Wk\",\n",
    "\"3: Yes, 1-2 Times/Wk\":\"1-2 Times/Wk\",\n",
    "\"3: Yes, 1-2 Times/Week\":\"1-2 Times/Wk\",\n",
    "\"Yes, 1-2 times per week\":\"1-2 Times/Wk\",\n",
    "\"3: Yes, 1-2 times/week\":\"1-2 Times/Wk\",\n",
    "\"1-5 Days\":\"1-5 Days\",\n",
    "\"1-5 days\":\"1-5 Days\",\n",
    "\"1-5 day\":\"1-5 Days\",\n",
    "\"2: 1-5 Days\":\"1-5 Days\",\n",
    "\"2: 1-5 days\":\"1-5 Days\",\n",
    "\"Yes, 3-4 times/wk\":\"3-4 Times/Wk\",\n",
    "\"Yes, 3-4 Times/Wk\":\"3-4 Times/Wk\",\n",
    "\"Yes, 3-4 times/week\":\"3-4 Times/Wk\",\n",
    "\"4: Yes, 3-4 Times/Wk\":\"3-4 Times/Wk\",\n",
    "\"4: Yes, 3-4 Times/Week\":\"3-4 Times/Wk\",\n",
    "\"4: Yes, 3-4 times/week\":\"3-4 Times/Wk\",\n",
    "\"Yes, 3-4 times per week\":\"3-4 Times/Wk\",\n",
    "\"Yes, 5 or more times/wk\":\"5 or More Times/Wk\",\n",
    "\"Yes, 5 or More Times/Wk\":\"5 or More Times/Wk\",\n",
    "\"5: Yes, 5 or More Times/Wk\":\"5 or More Times/Wk\",\n",
    "\"5: Yes, 5 or more times/week\":\"5 or More Times/Wk\",\n",
    "\"5: Yes, 5 or More Times/Week\":\"5 or More Times/Wk\",\n",
    "\"Yes, 5 or more times per week\":\"5 or More Times/Wk\",\n",
    "\"Yes, 5 or more times/week\":\"5 or More Times/Wk\",\n",
    "\"6-8 Days\":\"6-8 Days\",\n",
    "\"6-8 days\":\"6-8 Days\",\n",
    "\"3: 6-8 Days\":\"6-8 Days\",\n",
    "\"6-8 day\":\"6-8 Days\",\n",
    "\"3: 6-8 days\":\"6-8 Days\",\n",
    "\"9-13 Days\":\"9-13 Days\",\n",
    "\"9-13 days\":\"9-13 Days\",\n",
    "\"4: 9-13 Days\":\"9-13 Days\",\n",
    "\"9-13 day\":\"9-13 Days\",\n",
    "\"4: 9-13 days\":\"9-13 Days\",\n",
    "\"Every day\":\"Daily\",\n",
    "\"5: Every Day\":\"Daily\",\n",
    "\"Every Day\":\"Daily\",\n",
    "\"5: Every day\":\"Daily\",\n",
    "\"Yes, < Once A Wk\":\"Less than 1/Week\",\n",
    "\"Yes, < once a wk\":\"Less than 1/Week\",\n",
    "\"Yes, < once a week\":\"Less than 1/Week\",\n",
    "\"2: Yes, < Once A Week\":\"Less than 1/Week\",\n",
    "\"2: Yes, less than once a week\":\"Less than 1/Week\",\n",
    "\"2: Yes, < Once A Wk\":\"Less than 1/Week\",\n",
    "\"Yes, less than once a week\":\"Less than 1/Week\",\n",
    "\"No, Not In The Past 2 Wks\":\"No, Not in Past 2 Weeks\",\n",
    "\"No, not in the past 2 wks\":\"No, Not in Past 2 Weeks\",\n",
    "\"No, not in the past 2 weeks\":\"No, Not in Past 2 Weeks\",\n",
    "\"1: No, not in the past 2 weeks\":\"No, Not in Past 2 Weeks\",\n",
    "\"1: No, Not In The Past 2 Wks\":\"No, Not in Past 2 Weeks\",\n",
    "\"1: No, Not In The Past 2 Weeks\":\"No, Not in Past 2 Weeks\",\n",
    "\"Not at all\":\"Not at All\",\n",
    "\"Not At All\":\"Not at All\",\n",
    "\"1: Not At All\":\"Not at All\",\n",
    "\"1: Not at all\":\"Not at All\",})\n",
    "\n"
   ]
  },
  {
   "cell_type": "code",
   "execution_count": 40,
   "id": "8d6ae1ad-009b-4e0c-925e-d80ba9a675f7",
   "metadata": {},
   "outputs": [],
   "source": [
    "## Running Sweet Viz, I found more to adjust ##\n",
    "\n",
    "data = data.replace({\n",
    "    \"1: No\":\"No\",\n",
    "    \"2: Yes\":\"Yes\",})\n",
    "\n"
   ]
  },
  {
   "cell_type": "code",
   "execution_count": 41,
   "id": "2771c173-3be0-4ab3-ae53-a631fc9f5cb5",
   "metadata": {},
   "outputs": [],
   "source": [
    "# Still more to adjust #"
   ]
  },
  {
   "cell_type": "code",
   "execution_count": 42,
   "id": "91d115be-af35-46de-89d3-621fa9bff59d",
   "metadata": {},
   "outputs": [],
   "source": [
    "data = data.replace({\n",
    "    \"Yes, somewhat upsetting\" : \"Yes, Somewhat Upsetting\",\n",
    "    \"3: Yes, Somewhat Upsetting\" : \"Yes, Somewhat Upsetting\",\n",
    "    \"Yes, Somewhat Upsetting\" : \"Yes, Somewhat Upsetting\",\n",
    "    \"3: Yes, somewhat upsetting\" : \"Yes, Somewhat Upsetting\",\n",
    "    \"Yes, very upsetting\" : \"Yes, Very Upsetting\",\n",
    "    \"4: Yes, Very Upsetting\" : \"Yes, Very Upsetting\",\n",
    "    \"Yes, Very Upsetting\" : \"Yes, Very Upsetting\",\n",
    "    \"4: Yes, very upsetting\" : \"Yes, Very Upsetting\",\n",
    "    \"Yes, Very Upsetting & Still Upsetting\" : \"Yes, Very Upsetting and Still Upsetting\",\n",
    "    \"5: Yes, very upsetting & still upsetting\" : \"Yes, Very Upsetting and Still Upsetting\",\n",
    "    \"Yes, very upsetting & still upsetting\" : \"Yes, Very Upsetting and Still Upsetting\",\n",
    "    \"5: Yes, Very Upsetting & Still Upsetting\" : \"Yes, Very Upsetting and Still Upsetting\",\n",
    "    \"Yes, very upsetting and still upsetting\" : \"Yes, Very Upsetting and Still Upsetting\",\n",
    "    \"Yes, not at all upsetting\" : \"Yes,Not Upsetting\",\n",
    "    \"2: Yes, Not At All Upsetting\" : \"Yes,Not Upsetting\",\n",
    "    \"Yes, Not At All Upsetting\" : \"Yes,Not Upsetting\",\n",
    "    \"2: Yes, not at all upsetting\" : \"Yes,Not Upsetting\",})"
   ]
  },
  {
   "cell_type": "code",
   "execution_count": 43,
   "id": "fd05f6e8-e118-4d98-92ad-51165f0d05b5",
   "metadata": {},
   "outputs": [],
   "source": [
    "data = data.replace({\n",
    "    \"None or <1/week\" : \"None or <1/week\",\n",
    "    \"1: None or <1/week\" : \"None or <1/week\",\n",
    "    \"1: None or less than 1/week\" : \"None or <1/week\",\n",
    "    \"3-4/week\" : \"3-4/week\",\n",
    "    \"1/week\" : \"1/week\",\n",
    "    \"2/week\" : \"2/week\",\n",
    "    \"4: 3-4/week\" : \"3-4/week\",\n",
    "    \"2: 1/week\" : \"1/week\",\n",
    "    \"3: 2/week\" : \"2/week\",\n",
    "    \"5-6/week\" : \"5-6/week\",\n",
    "    \"5: 5-6/week\" : \"5-6/week\",\n",
    "    \"6: >=7/week\" : \"6: >=7/week\",\n",
    "    \"6: Equal to or more than 7/week\" : \"6: >=7/week\",})"
   ]
  },
  {
   "cell_type": "code",
   "execution_count": 44,
   "id": "72d9e09b-7299-4e1a-854a-9d6ea1dc328f",
   "metadata": {},
   "outputs": [],
   "source": [
    "data = data.replace({\n",
    "    \"1: English\" : \"English\",\n",
    "    \"4: Japanese\" : \"Japanese\",\n",
    "    \"3: Cantonese\" : \"Cantonese\",\n",
    "    \"2: Spanish\" : \"Spanish\",})"
   ]
  },
  {
   "cell_type": "code",
   "execution_count": 45,
   "id": "5f00aad5-da7c-42e9-8115-088de780be65",
   "metadata": {},
   "outputs": [],
   "source": [
    "data = data.replace({\n",
    "\"Yes, as per protocol\" : \"Yes, as per protocol\",\n",
    "\"1: Yes, as per protocol\" : \"Yes, as per protocol\",\n",
    "\"Yes, menses too variable\" : \"Yes, menses too variable\",\n",
    "\"Yes, last attempt\" : \"Yes, Last attempt\",\n",
    "\"Yes, Last attempt\" : \"Yes, Last attempt\",\n",
    "\"2: Yes, menses too variable\" : \"Yes, menses too variable\",\n",
    "\"3: Yes, Last attempt\" : \"Yes, Last attempt\",\n",
    "\"3: Yes, last attempt\" : \"Yes, Last attempt\",\n",
    "\"No, Not fasting and/or not in window\" : \"No, Not fasting and/or not in window\",\n",
    "\"No, not fasting and/or not in window\" : \"No, Not fasting and/or not in window\",})\n"
   ]
  },
  {
   "cell_type": "code",
   "execution_count": 46,
   "id": "a888f358-f3d1-41a6-8e16-daccb41c5b52",
   "metadata": {},
   "outputs": [],
   "source": [
    "data = data.replace({\n",
    "\"All of the time\" : \"All of the Time\",\n",
    "\"All Of The Time\" : \"All of the Time\",\n",
    "\"Most of the time\" : \"Most of the Time\",\n",
    "\"Most Of The Time\" : \"Most of the Time\",\n",
    "\"5: All of the time\" : \"All of the Time\",\n",
    "\"5: All Of The Time\" : \"All of the Time\",\n",
    "\"Some of the time\" : \"Some of the Time\",\n",
    "\"Some Of The Time\" : \"Some of the Time\",\n",
    "\"4: Most of the time\" : \"Most of the Time\",\n",
    "\"4: Most Of The Time\" : \"Most of the Time\",\n",
    "\"A little of the time\" : \"A Little of the Time\",\n",
    "\"A Little Of The Time\" : \"A Little of the Time\",\n",
    "\"3: Some of the time\" : \"Some of the Time\",\n",
    "\"3: Some Of The Time\" : \"Some of the Time\",\n",
    "\"None Of The Time\" : \"None of the Time\",\n",
    "\"None of the time\" : \"None of the Time\",\n",
    "\"2: A little of the time\" : \"A Little of the Time\",\n",
    "\"2: A Little Of The Time\" : \"A Little of the Time\",\n",
    "\"1: None of the time\" : \"None of the Time\",\n",
    "\"1: None Of The Time\" : \"None of the Time\",})"
   ]
  },
  {
   "cell_type": "code",
   "execution_count": 47,
   "id": "f7f0f1ae-0447-4441-aff4-0d7196d51054",
   "metadata": {},
   "outputs": [],
   "source": [
    "data = data.replace({\n",
    "\"No Symptoms\" : \"No Symptoms\",\n",
    "\"Slightly\" : \"Slightly\",\n",
    "\"Moderately\" : \"Moderately\",\n",
    "\"2: Slightly\" : \"Slightly\",\n",
    "\"Quite a bit\" : \"Quite a Bit\",\n",
    "\"3: Moderately\" : \"Moderately\",\n",
    "\"Quite A Bit\" : \"Quite a Bit\",\n",
    "\"Extremely\" : \"Extremely\",\n",
    "\"4: Quite A Bit\" : \"Quite a Bit\",\n",
    "\"4: Quite a bit\" : \"Quite a Bit\",\n",
    "\"5: Extremely\" : \"Extremely\",})\n"
   ]
  },
  {
   "cell_type": "code",
   "execution_count": 48,
   "id": "bff5dcca-5ce7-4ee1-81b0-430f65c64f59",
   "metadata": {},
   "outputs": [],
   "source": [
    "data = data.replace({\n",
    "\"Mild\" : \"Mild\",\n",
    "\"Very mild\" : \"Very Mild\",\n",
    "\"Moderately\" : \"Moderately\",\n",
    "\"None\" : \"None\",\n",
    "\"Very Mild\" : \"Very Mild\",\n",
    "\"3: Mild\" : \"Mild\",\n",
    "\"Severe\" : \"Severe\",\n",
    "\"4: Moderately\" : \"Moderately\",\n",
    "\"2: Very mild\" : \"Very Mild\",\n",
    "\"1: None\" : \"None\",\n",
    "\"2: Very Mild\" : \"Very Mild\",\n",
    "\"5: Severe\" : \"Severe\",\n",
    "\"Very severe\" : \"Very Severe\",\n",
    "\"Very Severe\" : \"Very Severe\",\n",
    "\"6: Very Severe\" : \"Very Severe\",\n",
    "\"6: Very severe\" : \"Very Severe\",})\n"
   ]
  },
  {
   "cell_type": "code",
   "execution_count": 49,
   "id": "5e213892-afd8-4e4b-8434-94c65aed255c",
   "metadata": {},
   "outputs": [],
   "source": [
    "data = data.replace({\n",
    "\"Some of the Time\" : \"Some of the Time\",\n",
    "\"Most of the Time\" : \"Most of the Time\",\n",
    "\"A Little of the Time\" : \"A Little of the Time\",\n",
    "\"A good bit of the time\" : \"A Good Bit of the Time\",\n",
    "\"A Good Bit Of The Time\" : \"A Good Bit of the Time\",\n",
    "\"None of the Time\" : \"None of the Time\",\n",
    "\"4: Some of the time\" : \"Some of the Time\",\n",
    "\"2: Most Of The Time\" : \"Most of the Time\",\n",
    "\"4: Some Of The Time\" : \"Some of the Time\",\n",
    "\"3: A good bit of the time\" : \"A Good Bit of the Time\",\n",
    "\"2: Most of the time\" : \"Most of the Time\",\n",
    "\"3: A Good Bit Of The Time\" : \"A Good Bit of the Time\",\n",
    "\"All of the Time\" : \"All of the Time\",\n",
    "\"5: A little of the time\" : \"A Little of the Time\",\n",
    "\"5: A Little Of The Time\" : \"A Little of the Time\",\n",
    "\"6: None of the time\" : \"None of the Time\",\n",
    "\"6: None Of The Time\" : \"None of the Time\",\n",
    "\"1: All Of The Time\" : \"All of the Time\",\n",
    "\"1: All of the time\" : \"All of the Time\",})\n"
   ]
  },
  {
   "cell_type": "code",
   "execution_count": 50,
   "id": "1745ac8f-f155-4ba0-9966-502eea304d56",
   "metadata": {},
   "outputs": [],
   "source": [
    "data = data.replace({\n",
    "\"1-2 Hrs/Day\" : \"1-2 Hrs/Day\",\n",
    "\"2-4 Hrs/Day\" : \"2-4 Hrs/Day\",\n",
    "\"1-2 hrs/day\" : \"1-2 Hrs/Day\",\n",
    "\"At Least 1 Hr/Wk But < 1 Hr/Day\" : \"At Least 1 Hr/Wk But < 1 Hr/Day\",\n",
    "\"2-4 hrs/day\" : \"2-4 Hrs/Day\",\n",
    "\"1-2 hours/day\" : \"1-2 Hrs/Day\",\n",
    "\"At least 1 hr/wk but < 1 hr/day\" : \"At Least 1 Hr/Wk But < 1 Hr/Day\",\n",
    "\"More Than 4 Hrs/Day\" : \"More Than 4 Hrs/Day\",\n",
    "\"3: 1-2 hours/day\" : \"1-2 Hrs/Day\",\n",
    "\"3: 1-2 Hours/Day\" : \"1-2 Hrs/Day\",\n",
    "\"2-4 hours/day\" : \"2-4 Hrs/Day\",\n",
    "\"At least 1 hour/week but < 1 hour/day\" : \"At Least 1 Hr/Wk But < 1 Hr/Day\",\n",
    "\"More than 4 hrs/day\" : \"More Than 4 Hrs/Day\",\n",
    "\"4: 2-4 hours/day\" : \"2-4 Hrs/Day\",\n",
    "\"4: 2-4 Hours/Day\" : \"2-4 Hrs/Day\",\n",
    "\"Never Or Less Than 1 Hr/Wk\" : \"Never Or Less Than 1 Hr/Wk\",\n",
    "\"2: At least 1 hour/week but less than 1 hour/day\" : \"At Least 1 Hr/Wk But < 1 Hr/Day\",\n",
    "\"2: At Least 1 Hour/Week But < 1 Hour/Day\" : \"At Least 1 Hr/Wk But < 1 Hr/Day\",\n",
    "\"Never or less than 1 hr/wk\" : \"Never Or Less Than 1 Hr/Wk\",\n",
    "\"More than 4 hours/day\" : \"More Than 4 Hrs/Day\",\n",
    "\"5: More Than 4 Hours/Day\" : \"More Than 4 Hrs/Day\",\n",
    "\"5: More than 4 hour/day\" : \"More Than 4 Hrs/Day\",\n",
    "\"Never or less than 1 hour/week\" : \"Never Or Less Than 1 Hr/Wk\",\n",
    "\"1: Never or less than 1 hour/week\" : \"Never Or Less Than 1 Hr/Wk\",\n",
    "\"1: Never Or Less Than 1 Hour/Week\" : \"Never Or Less Than 1 Hr/Wk\",\n",
    "})"
   ]
  },
  {
   "cell_type": "code",
   "execution_count": 51,
   "id": "8928b2d1-cac6-4d55-9bb2-54b6e6b0fc62",
   "metadata": {},
   "outputs": [],
   "source": [
    "data = data.replace({\n",
    "\"Never/ < 5 Minutes Per Day\" : \"Never or less 5 minutes per day\",\n",
    "\"5-15 Minutes/Day\" : \"5-15 Minutes/Day\",\n",
    "\"Never or less 5 minutes per day\" : \"Never or less 5 minutes per day\",\n",
    "\"Never/ < 5 minutes per day\" : \"Never or less 5 minutes per day\",\n",
    "\"16-30 Minutes/Day\" : \"16-30 Minutes/Day\",\n",
    "\"1: Never/less than 5 minutes per day\" : \"Never or less 5 minutes per day\",\n",
    "\"5-15 minutes/day\" : \"5-15 Minutes/Day\",\n",
    "\"1: Never/ < 5 Minutes Per Day\" : \"Never or less 5 minutes per day\",\n",
    "\"16-30 minutes/day\" : \"16-30 Minutes/Day\",\n",
    "\"31-45 Minutes/Day\" : \"31-45 Minutes/Day\",\n",
    "\"2: 5-15 minutes/day\" : \"5-15 Minutes/Day\",\n",
    "\"More Than 45 Minutes/Day\" : \"More Than 45 Minutes/Day\",\n",
    "\"2: 5-15 Minutes/Day\" : \"5-15 Minutes/Day\",\n",
    "\"More than 45 minutes/day\" : \"More Than 45 Minutes/Day\",\n",
    "\"31-45 minutes/day\" : \"31-45 Minutes/Day\",\n",
    "\"3: 16-30 minutes/day\" : \"16-30 Minutes/Day\",\n",
    "\"3: 16-30 Minutes/Day\" : \"16-30 Minutes/Day\",\n",
    "\"4: 31-45 minutes/day\" : \"31-45 Minutes/Day\",\n",
    "\"4: 31-45 Minutes/Day\" : \"31-45 Minutes/Day\",\n",
    "\"5: More Than 45 Minutes/Day\" : \"More Than 45 Minutes/Day\",\n",
    "\"5: More than 45 minutes/day\" : \"More Than 45 Minutes/Day\",})\n"
   ]
  },
  {
   "cell_type": "code",
   "execution_count": 52,
   "id": "8fe7c4c0-250e-4e15-af03-bd6dc683cfd5",
   "metadata": {},
   "outputs": [],
   "source": [
    "data = data.replace({\"Never/Less Than Once A Month\" : \"Never or less than once a month\",\n",
    "\"More Than Once/Wk\" : \"More than once a week\",\n",
    "\"Never/less than once a month\" : \"Never or less than once a month\",\n",
    "\"More than once/wk\" : \"More than once a week\",\n",
    "\"2-3 times a month\" : \"2-3 times a month\",\n",
    "\"2-3 Times A Month\" : \"2-3 times a month\",\n",
    "\"Once A Month\" : \"Once A Month\",\n",
    "\"Never or less than once a month\" : \"Never or less than once a month\",\n",
    "\"Once/Wk\" : \"Once a week\",\n",
    "\"More than once/week\" : \"More than once a week\",\n",
    "\"Once a month\" : \"Once A Month\",\n",
    "\"1: Never/Less Than Once A Month\" : \"Never or less than once a month\",\n",
    "\"5: More than once a week\" : \"More than once a week\",\n",
    "\"1: Never/less than once a month\" : \"Never or less than once a month\",\n",
    "\"Once/wk\" : \"Once a week\",\n",
    "\"5: More Than Once/Week\" : \"More than once a week\",\n",
    "\"Once/week\" : \"Once a week\",\n",
    "\"3: 2-3 times a month\" : \"2-3 times a month\",\n",
    "\"3: 2-3 Times A Month\" : \"2-3 times a month\",\n",
    "\"4: Once a week\" : \"Once a week\",\n",
    "\"2: Once a month\" : \"Once A Month\",\n",
    "\"2: Once A Month\" : \"Once A Month\",\n",
    "\"4: Once/Week\" : \"Once a week\",})\n"
   ]
  },
  {
   "cell_type": "code",
   "execution_count": 53,
   "id": "b5f282a4-2772-4d69-bbf4-8f5bc2b7c11e",
   "metadata": {},
   "outputs": [],
   "source": [
    "data = data.replace({\"Moderately important\" : \"Moderately Important\",\n",
    "\"Moderately Important\" : \"Moderately Important\",\n",
    "\"Quite important\" : \"Quite Important\",\n",
    "\"Not very important\" : \"Not Very Important\",\n",
    "\"Quite Important\" : \"Quite Important\",\n",
    "\"Not Very Important\" : \"Not Very Important\",\n",
    "\"Not at all important\" : \"Not At All Important\",\n",
    "\"3: Moderately important\" : \"Moderately Important\",\n",
    "\"Extremely important\" : \"Extremely Important\",\n",
    "\"3: Moderately Important\" : \"Moderately Important\",\n",
    "\"Not Very important\" : \"Not Very Important\",\n",
    "\"4: Not very important\" : \"Not Very Important\",\n",
    "\"2: Quite important\" : \"Quite Important\",\n",
    "\"4: Not Very Important\" : \"Not Very Important\",\n",
    "\"Extremely Important\" : \"Extremely Important\",\n",
    "\"Not At All Important\" : \"Not At All Important\",\n",
    "\"2: Quite Important\" : \"Quite Important\",\n",
    "\"5: Not at all important\" : \"Not At All Important\",\n",
    "\"5: Not At All Important\" : \"Not At All Important\",\n",
    "\"1: Extremely important\" : \"Extremely Important\",\n",
    "\"1: Extremely Important\" : \"Extremely Important\",})\n"
   ]
  },
  {
   "cell_type": "code",
   "execution_count": 54,
   "id": "280be4b5-26ba-419c-a5a2-92bd39869b05",
   "metadata": {},
   "outputs": [],
   "source": [
    "data = data.replace({\"Very satisfying\" : \"Very Satisfying\",\n",
    "\"Very Satisfying\" : \"Very Satisfying\",\n",
    "\"Moderately satisfying\" : \"Moderately Satisfying\",\n",
    "\"Moderately Satisfying\" : \"Moderately Satisfying\",\n",
    "\"Extremely satisfying\" : \"Extremely Satisfying\",\n",
    "\"Extremely Satisfying\" : \"Extremely Satisfying\",\n",
    "\"Slightly satisfying\" : \"Slightly Satisfying\",\n",
    "\"Slightly Satisfying\" : \"Slightly Satisfying\",\n",
    "\"2: Very satisfying\" : \"Very Satisfying\",\n",
    "\"3: Moderately satisfying\" : \"Moderately Satisfying\",\n",
    "\"2: Very Satisfying\" : \"Very Satisfying\",\n",
    "\"3: Moderately Satisfying\" : \"Moderately Satisfying\",\n",
    "\"1: Extremely satisfying\" : \"Extremely Satisfying\",\n",
    "\"Not at all satisfying\" : \"Not At All Satisfying\",\n",
    "\"4: Slightly satisfying\" : \"Slightly Satisfying\",\n",
    "\"1: Extremely Satisfying\" : \"Extremely Satisfying\",\n",
    "\"Not At All Satisfying\" : \"Not At All Satisfying\",\n",
    "\"4: Slightly Satisfying\" : \"Slightly Satisfying\",\n",
    "\"5: Not at all satisfying\" : \"Not At All Satisfying\",\n",
    "\"5: Not At All Satisfying\" : \"Not At All Satisfying\",})\n"
   ]
  },
  {
   "cell_type": "code",
   "execution_count": 55,
   "id": "659f29bb-75a9-4285-bf1f-c2d4d7595c71",
   "metadata": {},
   "outputs": [],
   "source": [
    "data = data.replace({\"Daily\" : \"Daily\",\n",
    "\"More than once a week\" : \"More Than Once Per Week\",\n",
    "\"More than Once/Wk\" : \"More Than Once Per Week\",\n",
    "\"5: Daily\" : \"Daily\",\n",
    "\"Once or Twice/Mon\" : \"Once Or Twice/Month\",\n",
    "\"About Once/Wk\" : \"About Once Per Week\",\n",
    "\"No Symptoms\" : \"No Symptoms\",\n",
    "\"Once or twice/mon\" : \"Once Or Twice/Month\",\n",
    "\"About once/wk\" : \"About Once Per Week\",\n",
    "\"4: More than once/week\" : \"More Than Once Per Week\",\n",
    "\"Once or twice/month\" : \"Once Or Twice/Month\",\n",
    "\"About once/week\" : \"About Once Per Week\",\n",
    "\"More than once per week\" : \"More Than Once Per Week\",\n",
    "\"4: More than Once/Wk\" : \"More Than Once Per Week\",\n",
    "\"2: Once or twice/month\" : \"Once Or Twice/Month\",\n",
    "\"Once or twice per month\" : \"Once Or Twice/Month\",\n",
    "\"3: About once/week\" : \"About Once Per Week\",\n",
    "\"About once per week\" : \"About Once Per Week\",\n",
    "\"3: About Once/Wk\" : \"About Once Per Week\",\n",
    "\"2: Once or Twice/Mon\" : \"Once Or Twice/Month\",})\n"
   ]
  },
  {
   "cell_type": "code",
   "execution_count": 56,
   "id": "6dc89628-78da-4c65-9458-a8c4065f4a81",
   "metadata": {},
   "outputs": [],
   "source": [
    "data['KISSING'].replace([\"No Symptoms\"],[\"Never\"], inplace = True)"
   ]
  },
  {
   "cell_type": "code",
   "execution_count": 57,
   "id": "5683abde-3791-4a41-bd15-235d1a340ee5",
   "metadata": {},
   "outputs": [],
   "source": [
    "data['TOUCHIN'].replace([\"No Symptoms\"],[\"Never\"], inplace = True)"
   ]
  },
  {
   "cell_type": "code",
   "execution_count": 58,
   "id": "058b2cec-e46e-4f61-870c-ac0a6cbdbf90",
   "metadata": {},
   "outputs": [],
   "source": [
    "data['ORALSEX'].replace([\"No Symptoms\"],[\"Never\"], inplace = True)"
   ]
  },
  {
   "cell_type": "code",
   "execution_count": 59,
   "id": "9fa1b5f0-2af2-4e80-99b3-6525b19bf7dc",
   "metadata": {},
   "outputs": [],
   "source": [
    "data['INTCOUR'].replace([\"No Symptoms\"],[\"Never\"], inplace = True)"
   ]
  },
  {
   "cell_type": "code",
   "execution_count": 60,
   "id": "b54a1279-187b-487e-8e27-94a1604136b5",
   "metadata": {},
   "outputs": [],
   "source": [
    "data = data.replace({\"Always\" : \"Always\",\n",
    "\"Sometimes\" : \"Sometimes\",\n",
    "\"Almost always\" : \"Almost Always\",\n",
    "\"Almost Always\" : \"Almost Always\",\n",
    "\"3 : Sometimes\" : \"Sometimes\",\n",
    "\"1 : Always\" : \"Always\",\n",
    "\"2 : Almost always\" : \"Almost Always\",\n",
    "\"3Sometimes\" : \"Sometimes\",\n",
    "\"2 : Almost Always\" : \"Almost Always\",\n",
    "\"Almost never\" : \"Almost Never\",\n",
    "\"Almost Never\" : \"Almost Never\",\n",
    "\"Never\" : \"Never\",\n",
    "\"4 : Almost never\" : \"Almost Never\",\n",
    "\"4 : Almost Never\" : \"Almost Never\",\n",
    "\"5 : Never\" : \"Never\",})"
   ]
  },
  {
   "cell_type": "code",
   "execution_count": 61,
   "id": "3216e547-9d5d-48ea-9f37-8a29700411d8",
   "metadata": {},
   "outputs": [],
   "source": [
    "data = data.replace({\n",
    "\"No intercourse in last 6 months\" : \"No Intercourse In Last 6 Mons\",\n",
    "\"No intercourse in last 6 mons\" : \"No Intercourse In Last 6 Mons\",\n",
    "\"6 : No intercourse in last 6 months\" : \"No Intercourse In Last 6 Mons\",\n",
    "\"6 : No Intercourse In Last 6 Mons\" : \"No Intercourse In Last 6 Mons\",})\n"
   ]
  },
  {
   "cell_type": "code",
   "execution_count": 62,
   "id": "fb040e8d-ea9b-4a8d-923f-8ab816f9987f",
   "metadata": {},
   "outputs": [],
   "source": [
    "data = data.replace({\n",
    "\"5: None Of The Time\" : \"None of the Time\",\n",
    "\"4: A Little Of The Time\" : \"A Little of the Time\",})\n"
   ]
  },
  {
   "cell_type": "code",
   "execution_count": 63,
   "id": "e0a8c07b-820a-4ed6-a17e-d994ca466008",
   "metadata": {},
   "outputs": [],
   "source": [
    "data = data.replace({\"More Than Once Per Week\" : \"More Than Once Per Week\",\n",
    "\"Never or less than once a month\" : \"Never or less than once a month\",\n",
    "\"Never\" : \"Never\",\n",
    "\"Once a week\" : \"Once a week\",\n",
    "\"More Than Once A Week\" : \"More Than Once Per Week\",\n",
    "\"Never/LT Once a Month\" : \"Never or less than once a month\",\n",
    "\"1: Never\" : \"Never\",\n",
    "\"6: More than once a week\" : \"More Than Once Per Week\",\n",
    "\"6: More Than Once/Week\" : \"More Than Once Per Week\",\n",
    "\"2-3 times a month\" : \"2-3 times a month\",\n",
    "\"2-3 Times/Month\" : \"2-3 times a month\",\n",
    "\"Less Than Once A Month\" : \"Never or less than once a month\",\n",
    "\"Once A Month\" : \"Once A Month\",\n",
    "\"Once A Week\" : \"Once a week\",\n",
    "\"Once/Month\" : \"Once A Month\",\n",
    "\"2-3 times/month\" : \"2-3 times a month\",\n",
    "\"2: Less than once a month\" : \"Never or less than once a month\",\n",
    "\"LT Once/Month\" : \"Never or less than once a month\",\n",
    "\"2: LT Once/Month\" : \"Never or less than once a month\",\n",
    "\"5: Once a week\" : \"Once a week\",\n",
    "\"Once/month\" : \"Once A Month\",\n",
    "\"4: 2-3 times/month\" : \"2-3 times a month\",\n",
    "\"5: Once/Week\" : \"Once a week\",\n",
    "\"4: 2-3 Times/Month\" : \"2-3 times a month\",\n",
    "\"3: Once a month\" : \"Once A Month\",\n",
    "\"3: Once/Month\" : \"Once A Month\",})\n"
   ]
  },
  {
   "cell_type": "code",
   "execution_count": 64,
   "id": "9fe46312-cfd8-4275-8475-f5cfda397bb2",
   "metadata": {},
   "outputs": [],
   "source": [
    "data = data.replace({\"Not at All\" : \"Not at All\",\n",
    "\"Once Or Twice/Month\" : \"Once Or Twice/Month\",\n",
    "\"Less Than Once/Mon\" : \"Less Than Once/Mon\",\n",
    "\"About Once Per Week\" : \"About Once Per Week\",\n",
    "\"Less than once/month\" : \"Less Than Once/Mon\",\n",
    "\"Less Than once/mon\" : \"Less Than Once/Mon\",\n",
    "\"Less than once/mon\" : \"Less Than Once/Mon\",\n",
    "\"More Than Once Per Week\" : \"More Than Once Per Week\",\n",
    "\"2: Less than once/month\" : \"Less Than Once/Mon\",\n",
    "\"Less than once per month\" : \"Less Than Once/Mon\",\n",
    "\"3: Once or twice/month\" : \"Once Or Twice/Month\",\n",
    "\"2: Less Than Once/Mon\" : \"Less Than Once/Mon\",\n",
    "\"3: Once or Twice/Mon\" : \"Once Or Twice/Month\",\n",
    "\"4: About once/week\" : \"About Once Per Week\",\n",
    "\"4: About Once/Wk\" : \"About Once Per Week\",\n",
    "\"5: More than once/week\" : \"More Than Once Per Week\",\n",
    "\"Daily\" : \"Daily\",\n",
    "\"5: More than Once/Wk\" : \"More Than Once Per Week\",\n",
    "\"6: Daily\" : \"Daily\",})\n",
    "\n",
    "data['MASTURB'].replace([\"No Symptoms\"],[\"Not at All\"], inplace = True)\n"
   ]
  },
  {
   "cell_type": "code",
   "execution_count": 65,
   "id": "7df87154-ef71-4332-af3f-e05e63bea89e",
   "metadata": {},
   "outputs": [],
   "source": [
    "data = data.replace({\"Stadiometer\" : \"Stadiometer\",\n",
    "\"1: Stadiometer\" : \"Stadiometer\",\n",
    "\"Portable\" : \"Portable\",\n",
    "\"2: Portable\" : \"Portable\",\n",
    "\"3: Self-Reported\" : \"Self-reported\",\n",
    "\"Self-reported\" : \"Self-reported\",\n",
    "\"3: Self-reported\" : \"Self-reported\",\n",
    "\"Self-Reported\" : \"Self-reported\",})\n"
   ]
  },
  {
   "cell_type": "code",
   "execution_count": 66,
   "id": "16eba346-9385-4721-801f-1bb807002cd8",
   "metadata": {},
   "outputs": [],
   "source": [
    "data = data.replace({\"Balance beam\" : \"Balance Beam\",\n",
    "\"Portable\" : \"Portable\",\n",
    "\"Balance Beam\" : \"Balance Beam\",\n",
    "\"1: Balance Beam\" : \"Balance Beam\",\n",
    "\"Clinic digital\" : \"Clinic Digital\",\n",
    "\"3: Portable\" : \"Portable\",\n",
    "\"Clinic Digital\" : \"Clinic Digital\",\n",
    "\"1: Balance beam\" : \"Balance Beam\",\n",
    "\"4: Self-Reported\" : \"Self-reported\",\n",
    "\"2: Clinic Digital\" : \"Clinic Digital\",\n",
    "\"Self-reported\" : \"Self-reported\",\n",
    "\"2: Clinic digital\" : \"Clinic Digital\",\n",
    "\"4: Self-reported\" : \"Self-reported\",})\n"
   ]
  },
  {
   "cell_type": "code",
   "execution_count": 67,
   "id": "5ee530a4-08b0-4bca-93e6-5c4b7de85947",
   "metadata": {},
   "outputs": [],
   "source": [
    "data = data.replace({\"Undergarments\" : \"Undergarments\",\n",
    "\"1: Undergarments\" : \"Undergarments\",\n",
    "\"Light Clothing\" : \"Light Clothing\",\n",
    "\"Light clothing\" : \"Light Clothing\",\n",
    "\"2: Light Clothing\" : \"Light Clothing\",\n",
    "\"2: Light clothing\" : \"Light Clothing\",})"
   ]
  },
  {
   "cell_type": "code",
   "execution_count": 68,
   "id": "1f4ef96d-41a0-461d-9de6-97937ee89841",
   "metadata": {},
   "outputs": [],
   "source": [
    "data = data.replace({\n",
    "\"0: No\" : \"No\",\n",
    "\"1: Yes\" : \"Yes\",})\n"
   ]
  },
  {
   "cell_type": "code",
   "execution_count": 69,
   "id": "600ebc66-5b42-4767-a663-123156c5e7eb",
   "metadata": {},
   "outputs": [],
   "source": [
    "data = data.replace({\"4500 machine\" : \"4500 machine\",\n",
    "\"2000 machine\" : \"2000 machine\",\n",
    "\"11: 4500 machine\" : \"4500 machine\",\n",
    "\"14500 machine\" : \"14500 machine\",\n",
    "\"5: 2000 machine\" : \"2000 machine\",})\n"
   ]
  },
  {
   "cell_type": "code",
   "execution_count": 70,
   "id": "d484d5c7-90e6-41f8-a7fa-792dd553571a",
   "metadata": {},
   "outputs": [],
   "source": [
    "data = data.replace({\"Early Peri\" : \"Early perimenopause\",\n",
    "\"Pre-menopausal\" : \"Pre-menopausal\",\n",
    "\"Early peri\" : \"Early perimenopause\",\n",
    "\"2: Natural Post\" : \"Natural post\",\n",
    "\"Post-menopausal\" : \"Post-menopausal\",\n",
    "\"Natural post\" : \"Natural post\",\n",
    "\"Early perimenopause\" : \"Early perimenopause\",\n",
    "\"Unknown due to HT use\" : \"Unknown due to HT use\",\n",
    "\"2: Natural post\" : \"Natural Post\",\n",
    "\"4: Early peri\" : \"Early perimenopause\",\n",
    "\"Late peri\" : \"Late perimenopause\",\n",
    "\"4: Early Peri\" : \"Early perimenopause\",\n",
    "\"Late Peri\" : \"Late perimenopause\",\n",
    "\"3: Late Peri\" : \"Late perimenopause\",\n",
    "\"use\" : \"use\",\n",
    "\"Natural Post\" : \"Natural Post\",\n",
    "\"Unknown due to hysterectomy\" : \"Hysterectomy/both ovaries removed\",\n",
    "\"Late perimenopause\" : \"Late perimenopause\",\n",
    "\"1: Post by BSO\" : \"Post by BSO\",\n",
    "\"3: Late peri\" : \"Late perimenopause\",\n",
    "\"Hysterectomy/both ovaries removed\" : \"Hysterectomy/both ovaries removed\",\n",
    "\"Unknown due to hormone therapy use\" : \"Unknown due to hormone therapy use\",\n",
    "\"8: Unknown due to hysterectomy\" : \"Hysterectomy/both ovaries removed\",\n",
    "\"Post by BSO\" : \"Post by BSO\",\n",
    "\"7: Unknown due to HT use\" : \"Unknown due to HT use\",\n",
    "\"5: Pre-menopausal\" : \"Pre-menopausal\",\n",
    "\"Post by Bilateral Salpingo Oophorectomy\" : \"Post by Bilateral Salpingo Oophorectomy\",\n",
    "\"Pregnant/breastfeeding\" : \"Pregnant/breastfeeding\",})\n"
   ]
  },
  {
   "cell_type": "raw",
   "id": "9c74019b-10e0-4936-974a-b058cb7fc011",
   "metadata": {},
   "source": [
    "# Guessing here\n",
    "# Placing numeric values in order with categorical\n",
    "\n",
    "\n",
    "data['RACE'].value_counts()\n",
    "Caucasian/White Non-Hispanic     11600\n",
    "Black/African American            7372\n",
    "Japanese/Japanese American        2632\n",
    "Chinese/Chinese American          2251\n",
    "Hispanic                          1437\n",
    "Caucasian/ White Non-Hispanic     1252\n",
    "4                                 1114\n",
    "1                                  663\n",
    "3                                  250\n",
    "2                                  218"
   ]
  },
  {
   "cell_type": "code",
   "execution_count": 71,
   "id": "e0dd3084-d6f4-4408-96df-f75bdc78f3d1",
   "metadata": {},
   "outputs": [],
   "source": [
    "data = data.replace({\"Caucasian/White Non-Hispanic\" : \"Caucasian/White Non-Hispanic\",\n",
    "\"Black/African American\" : \"Black/African American\",\n",
    "\"Japanese/Japanese American\" : \"Japanese/Japanese American\",\n",
    "\"Chinese/Chinese American\" : \"Chinese/Chinese American\",\n",
    "\"Hispanic\" : \"Hispanic\",\n",
    "\"Caucasian/ White Non-Hispanic\" : \"Caucasian/White Non-Hispanic\",\n",
    "\"4\" : \"Caucasian/White Non-Hispanic\",\n",
    "\"1\" : \"Black/African American\",\n",
    "\"3\" : \"Japanese/Japanese American\",\n",
    "\"2\" : \"Chinese/Chinese American\",})\n"
   ]
  },
  {
   "cell_type": "code",
   "execution_count": 72,
   "id": "e6392bde-951a-400b-8762-b0701304ef21",
   "metadata": {},
   "outputs": [],
   "source": [
    "data = data.replace({\n",
    "\"0 times\" : \"0\",\n",
    "\"1 times\" : \"1\",\n",
    "\"2 times\" : \"2\"})"
   ]
  },
  {
   "cell_type": "code",
   "execution_count": 73,
   "id": "4cfc1c09-1b34-4ca8-a908-708acbf0b0de",
   "metadata": {},
   "outputs": [],
   "source": [
    "data = data.replace({\"Currently married/living as married\" : \"Currently Married/Living as Married\",\n",
    "\"Currently Married/Living as Married\" : \"Currently Married/Living as Married\",\n",
    "\"2: Currently Married/Living as Married\" : \"Currently Married/Living as Married\",\n",
    "\"Divorced\" : \"Divorced\",\n",
    "\"Single/never married\" : \"Single/Never Married\",\n",
    "\"2: Currently married/living as married\" : \"Currently Married/Living as Married\",\n",
    "\"5: Divorced\" : \"Divorced\",\n",
    "\"Separated\" : \"Separated\",\n",
    "\"Single/Never Married\" : \"Single/Never Married\",\n",
    "\"Widowed\" : \"Widowed\",\n",
    "\"1: Single/Never Married\" : \"Single/Never Married\",\n",
    "\"1: Single/never married\" : \"Single/Never Married\",\n",
    "\"4: Widowed\" : \"Widowed\",\n",
    "\"3: Separated\" : \"Separated\",})\n"
   ]
  },
  {
   "cell_type": "code",
   "execution_count": 74,
   "id": "8f7765dd-583f-4035-b8ca-61639d482149",
   "metadata": {},
   "outputs": [],
   "source": [
    "data = data.replace({\"Never\" : \"Never\",\n",
    "\"Almost Never\" : \"Almost Never\",\n",
    "\"Sometimes\" : \"Sometimes\",\n",
    "\"2: Almost Never\" : \"Almost Never\",\n",
    "\"3: Sometimes\" : \"Sometimes\",\n",
    "\"Fairly often\" : \"Fairly Often\",\n",
    "\"4: Fairly Often\" : \"Fairly Often\",\n",
    "\"Fairly Often\" : \"Fairly Often\",\n",
    "\"Very often\" : \"Very Often\",\n",
    "\"5: Very Often\" : \"Very Often\",\n",
    "\"Very Often\" : \"Very Often\",})\n"
   ]
  },
  {
   "cell_type": "code",
   "execution_count": 75,
   "id": "5a684edb-ba9d-45df-b3b7-e57a2502d73f",
   "metadata": {},
   "outputs": [],
   "source": [
    "data = data.replace({\"Very good\" : \"Very good\",\n",
    "\"Good\" : \"Good\",\n",
    "\"Excellent\" : \"Excellent\",\n",
    "\"2: Very good\" : \"Very good\",\n",
    "\"3: Good\" : \"Good\",\n",
    "\"Fair\" : \"Fair\",\n",
    "\"1: Excellent\" : \"Excellent\",\n",
    "\"4: Fair\" : \"Fair\",\n",
    "\"Poor\" : \"Poor\",\n",
    "\"5: Poor\" : \"Poor\",})\n"
   ]
  },
  {
   "cell_type": "code",
   "execution_count": 76,
   "id": "f3c07d40-e561-4f71-8281-6bfcd6a4f6d9",
   "metadata": {},
   "outputs": [],
   "source": [
    "data = data.replace({\"None or < 1/mo\" : \"None or < 1/mo\",\n",
    "\"1: None or < 1/mo\" : \"None or < 1/mo\",\n",
    "\"1-3/mo\" : \"1-3/mo\",\n",
    "\"None or < 1/month\" : \"None or < 1/mo\",\n",
    "\"1: None or less than 1/month\" : \"None or < 1/mo\",\n",
    "\"None or less than one per month\" : \"None or < 1/mo\",\n",
    "\"2: 1-3/month\" : \"1-3/mo\",\n",
    "\"1-3/month\" : \"1-3/mo\",\n",
    "\"2-4/wk\" : \"2-4/wk\",\n",
    "\"1-3 per month\" : \"1-3/mo\",\n",
    "\"1/wk\" : \"1/wk\",\n",
    "\"2: 1-3/mo\" : \"1-3/mo\",\n",
    "\"4: 2-4/week\" : \"2-4/wk\",\n",
    "\"3: 1/week\" : \"1/wk\",\n",
    "\"2-4/week\" : \"2-4/wk\",\n",
    "\"1 per week\" : \"1/wk\",\n",
    "\"1/week\" : \"1/wk\",\n",
    "\"5-6/wk\" : \"5-6/wk\",\n",
    "\"1/day\" : \"1/day\",\n",
    "\"2-3/day\" : \"2-3/day\",\n",
    "\"4: 2-4/wk\" : \"2-4/wk\",\n",
    "\"3: 1/wk\" : \"1/wk\",\n",
    "\"5-6/week\" : \"5-6/wk\",\n",
    "\"2-4 per week\" : \"2-4/wk\",\n",
    "\"6: 1/day\" : \"1/day\",\n",
    "\"7: 2-3/day\" : \"2-3/day\",\n",
    "\"1 per day\" : \"1/day\",\n",
    "\"5-6 per week\" : \"5-6/wk\",\n",
    "\"5: 5-6/wk\" : \"5-6/wk\",\n",
    "\"4/day\" : \"4/day\",\n",
    "\"2-3 per day\" : \"2-3/day\",\n",
    "\"8: 4/day\" : \"4/day\",\n",
    "\"9: >= 5/day\" : \">=5/day\",\n",
    "\"greater than or equal to 5 per day\" : \">=5/day\",})\n"
   ]
  },
  {
   "cell_type": "code",
   "execution_count": 77,
   "id": "6fb4f6b1-a608-4a5d-90e7-5c78ca38b735",
   "metadata": {},
   "outputs": [],
   "source": [
    "data = data.replace({\"Very Often\" : \"Very Often\",\n",
    "\"Fairly Often\" : \"Fairly Often\",\n",
    "\"Sometimes\" : \"Sometimes\",\n",
    "\"5: Very often\" : \"Very Often\",\n",
    "\"4: Fairly often\" : \"Fairly Often\",\n",
    "\"Almost Never\" : \"Almost Never\",\n",
    "\"Never\" : \"Never\",\n",
    "\"2: Almost never\" : \"Almost Never\",})\n"
   ]
  },
  {
   "cell_type": "code",
   "execution_count": 78,
   "id": "67e930c4-9ce6-45b2-9e84-4e603fe37664",
   "metadata": {},
   "outputs": [],
   "source": [
    "data = data.replace({\"The same\" : \"The Same\",\n",
    "\"The Same\" : \"The Same\",\n",
    "\"Somewhat more\" : \"Somewhat More\",\n",
    "\"Somewhat More\" : \"Somewhat More\",\n",
    "\"Somewhat Less\" : \"Somewhat Less\",\n",
    "\"Somewhat less\" : \"Somewhat Less\",\n",
    "\"3: The same\" : \"The Same\",\n",
    "\"2: Somewhat less\" : \"Somewhat Less\",\n",
    "\"3: The Same\" : \"The Same\",\n",
    "\"Much more\" : \"Much More\",\n",
    "\"2: Somewhat Less\" : \"Somewhat Less\",\n",
    "\"4: Somewhat More\" : \"Somewhat More\",\n",
    "\"Much Less\" : \"Much Less\",\n",
    "\"4: Somewhat more\" : \"Somewhat More\",\n",
    "\"Much More\" : \"Much More\",\n",
    "\"Much less\" : \"Much Less\",\n",
    "\"1: Much less\" : \"Much Less\",\n",
    "\"1: Much Less\" : \"Much Less\",\n",
    "\"5: Much more\" : \"Much More\",\n",
    "\"5: Much More\" : \"Much More\",})\n"
   ]
  },
  {
   "cell_type": "code",
   "execution_count": 79,
   "id": "720b9b51-674a-4d9e-a976-54ca721d289b",
   "metadata": {},
   "outputs": [],
   "source": [
    "# Dropping BROKEBO as 98% of the values are 0\n",
    "data = data.drop('BROKEBO',axis=1)"
   ]
  },
  {
   "cell_type": "code",
   "execution_count": 80,
   "id": "b2db62cc-145c-4116-9a33-b04b588ece50",
   "metadata": {},
   "outputs": [],
   "source": [
    "data = data.replace({\"Fairly good\" : \"Fairly good\",\n",
    "\"2: Fairly good\" : \"Fairly good\",\n",
    "\"Very good\" : \"Very good\",\n",
    "\"Fairly bad\" : \"Fairly bad\",\n",
    "\"1: Very good\" : \"Very good\",\n",
    "\"3: Fairly bad\" : \"Fairly bad\",\n",
    "\"Very bad\" : \"Very bad\",\n",
    "\"4: Very bad\" : \"Very bad\",})\n"
   ]
  },
  {
   "cell_type": "markdown",
   "id": "235d5c3d",
   "metadata": {},
   "source": [
    "RESPCAR - Have you taken on responsibility for the care of another child, grandchild, parent, other family member or friend?\n",
    "            If yes, how upsetting was it? (Visits 0-10)\n",
    "CHILDRE - Do you have any children or stepchildren? (Visits 1-6, 8)\n",
    "REWRDMO - How rewarding is your role as a mother, if you have children or stepchildren? (Visits 1-6, 8)\n",
    "STRSSMO - How stressful is your role as a mother, if you have children or stepchildren? (Visits 1-6, 8)\n",
    "STRSSJO - How stressful is your current job? (Visits 1-6, 8)\n",
    "STRSREL - If you are currently married or in a committed relationship, how stressful is this relationship? (Visits 1-6, 8, 10)\n",
    "P_STRESS - Perceived stress score (Cross-sectional study, can be applied to all visits, but was collected 1995-97, the same time \n",
    "            frame as the baseline)"
   ]
  },
  {
   "cell_type": "code",
   "execution_count": 81,
   "id": "d0500457",
   "metadata": {},
   "outputs": [],
   "source": [
    "data = data.replace({\"3: Somewhat\" : \"Somewhat\",\n",
    "\"A little\" : \"A Little\",\n",
    "\"2: A little\" : \"A Little\",\n",
    "\"2: A Little\" : \"A Little\"})\n"
   ]
  },
  {
   "cell_type": "markdown",
   "id": "5dc30da9-df53-47fe-be5a-266543641e41",
   "metadata": {},
   "source": [
    "# Variable Wrangling Complete"
   ]
  },
  {
   "cell_type": "markdown",
   "id": "063645f3-2a49-496f-b16b-927cc73e5c59",
   "metadata": {},
   "source": [
    "# EDA"
   ]
  },
  {
   "cell_type": "code",
   "execution_count": null,
   "id": "37281ef2-b452-4976-991b-4790f6b8760e",
   "metadata": {},
   "outputs": [],
   "source": [
    "# Creating distribution plot for each individual variable, will take a long time to run.\n",
    "#analyze_report = sv.analyze(data, pairwise_analysis='on')\n",
    "#analyze_report.show_html()"
   ]
  },
  {
   "cell_type": "markdown",
   "id": "f4cbb9df-80be-4d84-99cc-44233983fc1c",
   "metadata": {},
   "source": [
    "# XGBoost Model"
   ]
  },
  {
   "cell_type": "code",
   "execution_count": 82,
   "id": "7b54d8dd-ba7b-45bd-a090-15e8984db051",
   "metadata": {},
   "outputs": [],
   "source": [
    "# new data\n",
    "# drop columns based on index build\n",
    "newData = data.drop(['NITESWE','TRBLSLE','WAKEUP','WAKEARL','SLEEPQL'], axis=1)"
   ]
  },
  {
   "cell_type": "code",
   "execution_count": 83,
   "id": "eb63c262",
   "metadata": {},
   "outputs": [],
   "source": [
    "# Only include perimenopause observations\n",
    "newData = newData.query('STATUS in [\"Early perimenopause\", \"Late perimenopause\"]')"
   ]
  },
  {
   "cell_type": "code",
   "execution_count": 84,
   "id": "35993b6a",
   "metadata": {},
   "outputs": [],
   "source": [
    "# Only use variables of interest in this model\n",
    "newData2 = newData[[\"RACE\",\"RESPCAR\",\"CHILDRE\",\"REWRDMO\",\"STRSSMO\",\"STRSSJO\",\"STRSREL\",\"P_STRESS\",\"sleepTarget\"]]"
   ]
  },
  {
   "cell_type": "code",
   "execution_count": 85,
   "id": "69360482-bf76-49d1-b857-6efcb05dc6a0",
   "metadata": {},
   "outputs": [],
   "source": [
    "categoryData = newData2.select_dtypes(include = 'object')"
   ]
  },
  {
   "cell_type": "code",
   "execution_count": 86,
   "id": "08301c4b-c607-46f1-a166-4640cea5e0d8",
   "metadata": {},
   "outputs": [],
   "source": [
    "numericalData = newData2.select_dtypes(include = ['float64', 'int64'])"
   ]
  },
  {
   "cell_type": "code",
   "execution_count": 87,
   "id": "5d155f47-460e-48c8-a904-30ed8ae585c9",
   "metadata": {},
   "outputs": [],
   "source": [
    "from sklearn.preprocessing import LabelEncoder, OneHotEncoder\n",
    "labeledData = categoryData.apply(LabelEncoder().fit_transform)"
   ]
  },
  {
   "cell_type": "code",
   "execution_count": 88,
   "id": "86c67288-91c5-4479-8f88-543ee542d908",
   "metadata": {},
   "outputs": [],
   "source": [
    "modelData = pd.concat([numericalData,labeledData], axis = 1)"
   ]
  },
  {
   "cell_type": "code",
   "execution_count": 89,
   "id": "e76fe6b5-6da6-46b7-83d2-fcdbf394eef8",
   "metadata": {},
   "outputs": [],
   "source": [
    "### Convert sleep target to a binary variable, where 1 means an individual is experiencing 3 or 4 sleep issues.\n",
    "modelData[\"sleepTarget\"] = np.where(modelData[\"sleepTarget\"] >= .75, 1,0)\n"
   ]
  },
  {
   "cell_type": "code",
   "execution_count": 90,
   "id": "31c05578-3f9b-418f-b724-7c61798ca7e7",
   "metadata": {},
   "outputs": [
    {
     "data": {
      "text/plain": [
       "0    10127\n",
       "1     2579\n",
       "Name: sleepTarget, dtype: int64"
      ]
     },
     "execution_count": 90,
     "metadata": {},
     "output_type": "execute_result"
    }
   ],
   "source": [
    "modelData['sleepTarget'].value_counts()\n",
    "# Not super balanced"
   ]
  },
  {
   "cell_type": "code",
   "execution_count": 91,
   "id": "cd3c1194-e263-409b-b45b-74fde76cb50b",
   "metadata": {},
   "outputs": [],
   "source": [
    "X = modelData.drop('sleepTarget', axis=1)\n",
    "y = modelData.sleepTarget"
   ]
  },
  {
   "cell_type": "code",
   "execution_count": 92,
   "id": "d0f38bc7-d555-4efd-b47d-b18e651d2631",
   "metadata": {},
   "outputs": [],
   "source": [
    "# split X and y into training and testing sets\n",
    "from sklearn.model_selection import train_test_split\n",
    "X_train,X_test,y_train,y_test=train_test_split(X,y,test_size=0.25,random_state=0)"
   ]
  },
  {
   "cell_type": "code",
   "execution_count": 93,
   "id": "f0dc06db-05bb-4bd8-a678-6e53d16f759a",
   "metadata": {},
   "outputs": [],
   "source": [
    "from sklearn.preprocessing import StandardScaler\n",
    "scaler = StandardScaler()\n",
    "scaler.fit(X_train)\n",
    "\n",
    "X_train = scaler.transform(X_train)\n",
    "X_test = scaler.transform(X_test)"
   ]
  },
  {
   "cell_type": "code",
   "execution_count": 94,
   "id": "909a80eb-46bb-4869-8056-a6fb2b78874d",
   "metadata": {},
   "outputs": [
    {
     "data": {
      "text/plain": [
       "XGBClassifier(base_score=0.5, booster='gbtree', callbacks=None,\n",
       "              colsample_bylevel=1, colsample_bynode=1, colsample_bytree=1,\n",
       "              early_stopping_rounds=None, enable_categorical=False,\n",
       "              eval_metric=None, gamma=0, gpu_id=-1, grow_policy='depthwise',\n",
       "              importance_type=None, interaction_constraints='',\n",
       "              learning_rate=0.300000012, max_bin=256, max_cat_to_onehot=4,\n",
       "              max_delta_step=0, max_depth=6, max_leaves=0, min_child_weight=1,\n",
       "              missing=nan, monotone_constraints='()', n_estimators=100,\n",
       "              n_jobs=0, num_parallel_tree=1, predictor='auto', random_state=0,\n",
       "              reg_alpha=0, reg_lambda=1, ...)"
      ]
     },
     "execution_count": 94,
     "metadata": {},
     "output_type": "execute_result"
    }
   ],
   "source": [
    "from xgboost import XGBClassifier\n",
    "from sklearn.model_selection import train_test_split\n",
    "from sklearn.metrics import accuracy_score\n",
    "\n",
    "model = XGBClassifier()\n",
    "model.fit(X_train, y_train)"
   ]
  },
  {
   "cell_type": "code",
   "execution_count": 95,
   "id": "5961ef81-f089-42ed-928c-a8303429b94d",
   "metadata": {},
   "outputs": [
    {
     "name": "stdout",
     "output_type": "stream",
     "text": [
      "Accuracy: 78.72%\n"
     ]
    }
   ],
   "source": [
    "y_pred = model.predict(X_test)\n",
    "predictions = [round(value) for value in y_pred]\n",
    "# evaluate predictions\n",
    "accuracy = accuracy_score(y_test, predictions)\n",
    "print(\"Accuracy: %.2f%%\" % (accuracy * 100.0))"
   ]
  },
  {
   "cell_type": "code",
   "execution_count": 96,
   "id": "7a599ffc-fd7f-4de8-b402-6140a7e18cb1",
   "metadata": {},
   "outputs": [
    {
     "name": "stdout",
     "output_type": "stream",
     "text": [
      "              precision    recall  f1-score   support\n",
      "\n",
      "           0       0.81      0.96      0.88      2517\n",
      "           1       0.46      0.12      0.20       660\n",
      "\n",
      "    accuracy                           0.79      3177\n",
      "   macro avg       0.63      0.54      0.54      3177\n",
      "weighted avg       0.73      0.79      0.74      3177\n",
      "\n"
     ]
    }
   ],
   "source": [
    "from sklearn.metrics import classification_report, confusion_matrix\n",
    "print(classification_report(y_test, y_pred))"
   ]
  },
  {
   "cell_type": "code",
   "execution_count": 97,
   "id": "2f3e0cb4",
   "metadata": {},
   "outputs": [
    {
     "data": {
      "text/html": [
       "<div>\n",
       "<style scoped>\n",
       "    .dataframe tbody tr th:only-of-type {\n",
       "        vertical-align: middle;\n",
       "    }\n",
       "\n",
       "    .dataframe tbody tr th {\n",
       "        vertical-align: top;\n",
       "    }\n",
       "\n",
       "    .dataframe thead th {\n",
       "        text-align: right;\n",
       "    }\n",
       "</style>\n",
       "<table border=\"1\" class=\"dataframe\">\n",
       "  <thead>\n",
       "    <tr style=\"text-align: right;\">\n",
       "      <th></th>\n",
       "      <th>label</th>\n",
       "      <th>importance</th>\n",
       "    </tr>\n",
       "  </thead>\n",
       "  <tbody>\n",
       "    <tr>\n",
       "      <th>5</th>\n",
       "      <td>STRSSMO</td>\n",
       "      <td>0.111271</td>\n",
       "    </tr>\n",
       "    <tr>\n",
       "      <th>0</th>\n",
       "      <td>P_STRESS</td>\n",
       "      <td>0.114072</td>\n",
       "    </tr>\n",
       "    <tr>\n",
       "      <th>3</th>\n",
       "      <td>CHILDRE</td>\n",
       "      <td>0.115836</td>\n",
       "    </tr>\n",
       "    <tr>\n",
       "      <th>1</th>\n",
       "      <td>RACE</td>\n",
       "      <td>0.158802</td>\n",
       "    </tr>\n",
       "    <tr>\n",
       "      <th>2</th>\n",
       "      <td>RESPCAR</td>\n",
       "      <td>0.182513</td>\n",
       "    </tr>\n",
       "  </tbody>\n",
       "</table>\n",
       "</div>"
      ],
      "text/plain": [
       "      label  importance\n",
       "5   STRSSMO    0.111271\n",
       "0  P_STRESS    0.114072\n",
       "3   CHILDRE    0.115836\n",
       "1      RACE    0.158802\n",
       "2   RESPCAR    0.182513"
      ]
     },
     "execution_count": 97,
     "metadata": {},
     "output_type": "execute_result"
    }
   ],
   "source": [
    "# Pull feature weights for identifying importance to the XGBoost model\n",
    "dataset = pd.DataFrame({'label' : list(X.columns.values), 'importance' : list(model.feature_importances_)}, \n",
    "                       columns = ['label', 'importance'])\n",
    "\n",
    "dataset = dataset.sort_values(by = ['importance'])\n",
    "dataset.tail()"
   ]
  },
  {
   "cell_type": "code",
   "execution_count": 98,
   "id": "b898aed1",
   "metadata": {},
   "outputs": [
    {
     "data": {
      "text/plain": [
       "<BarContainer object of 8 artists>"
      ]
     },
     "execution_count": 98,
     "metadata": {},
     "output_type": "execute_result"
    },
    {
     "data": {
      "image/png": "[encoded data removed]",
      "text/plain": [
       "<Figure size 432x288 with 1 Axes>"
      ]
     },
     "metadata": {
      "needs_background": "light"
     },
     "output_type": "display_data"
    }
   ],
   "source": [
    "plt.barh(dataset['label'], dataset['importance'])"
   ]
  },
  {
   "cell_type": "markdown",
   "id": "85b49f79",
   "metadata": {},
   "source": [
    "# Top 4 variables of interest broken down by sleep index"
   ]
  },
  {
   "cell_type": "code",
   "execution_count": 99,
   "id": "b715c177",
   "metadata": {},
   "outputs": [
    {
     "data": {
      "text/plain": [
       "<BarContainer object of 5 artists>"
      ]
     },
     "execution_count": 99,
     "metadata": {},
     "output_type": "execute_result"
    },
    {
     "data": {
      "image/png": "[encoded data removed]",
      "text/plain": [
       "<Figure size 432x288 with 1 Axes>"
      ]
     },
     "metadata": {
      "needs_background": "light"
     },
     "output_type": "display_data"
    }
   ],
   "source": [
    "df = pd.DataFrame(newData2.groupby('RACE')['sleepTarget'].mean().reset_index())\n",
    "plt.barh(df['RACE'], df['sleepTarget'])"
   ]
  },
  {
   "cell_type": "code",
   "execution_count": 100,
   "id": "7bfa2df5",
   "metadata": {},
   "outputs": [
    {
     "data": {
      "text/plain": [
       "<BarContainer object of 5 artists>"
      ]
     },
     "execution_count": 100,
     "metadata": {},
     "output_type": "execute_result"
    },
    {
     "data": {
      "image/png": "[encoded data removed]",
      "text/plain": [
       "<Figure size 432x288 with 1 Axes>"
      ]
     },
     "metadata": {
      "needs_background": "light"
     },
     "output_type": "display_data"
    }
   ],
   "source": [
    "cats = ['No', 'Yes,Not Upsetting', 'Yes, Somewhat Upsetting', 'Yes, Very Upsetting', 'Yes, Very Upsetting and Still Upsetting']\n",
    "df = pd.DataFrame(newData2.groupby('RESPCAR')['sleepTarget'].mean().reindex(cats))\n",
    "plt.barh(df.index, df['sleepTarget'])"
   ]
  },
  {
   "cell_type": "code",
   "execution_count": 101,
   "id": "ea6c3cd8",
   "metadata": {},
   "outputs": [
    {
     "data": {
      "text/plain": [
       "<BarContainer object of 17 artists>"
      ]
     },
     "execution_count": 101,
     "metadata": {},
     "output_type": "execute_result"
    },
    {
     "data": {
      "image/png": "[encoded data removed]",
      "text/plain": [
       "<Figure size 432x288 with 1 Axes>"
      ]
     },
     "metadata": {
      "needs_background": "light"
     },
     "output_type": "display_data"
    }
   ],
   "source": [
    "df = pd.DataFrame(newData2.groupby('P_STRESS')['sleepTarget'].mean().reset_index())\n",
    "plt.barh(df['P_STRESS'], df['sleepTarget'])"
   ]
  },
  {
   "cell_type": "code",
   "execution_count": 102,
   "id": "5eeccdef",
   "metadata": {},
   "outputs": [
    {
     "data": {
      "text/plain": [
       "<BarContainer object of 2 artists>"
      ]
     },
     "execution_count": 102,
     "metadata": {},
     "output_type": "execute_result"
    },
    {
     "data": {
      "image/png": "[encoded data removed]",
      "text/plain": [
       "<Figure size 432x288 with 1 Axes>"
      ]
     },
     "metadata": {
      "needs_background": "light"
     },
     "output_type": "display_data"
    }
   ],
   "source": [
    "df = pd.DataFrame(newData2.groupby('CHILDRE')['sleepTarget'].mean().reset_index())\n",
    "plt.barh(df['CHILDRE'], df['sleepTarget'])"
   ]
  },
  {
   "cell_type": "markdown",
   "id": "0eac25bf",
   "metadata": {},
   "source": [
    "# Recreating above plots using binary version of sleepTarget"
   ]
  },
  {
   "cell_type": "code",
   "execution_count": 103,
   "id": "d1c55124",
   "metadata": {},
   "outputs": [
    {
     "name": "stderr",
     "output_type": "stream",
     "text": [
      "C:\\Users\\cole\\AppData\\Local\\Temp/ipykernel_20384/1419896694.py:2: SettingWithCopyWarning: \n",
      "A value is trying to be set on a copy of a slice from a DataFrame.\n",
      "Try using .loc[row_indexer,col_indexer] = value instead\n",
      "\n",
      "See the caveats in the documentation: https://pandas.pydata.org/pandas-docs/stable/user_guide/indexing.html#returning-a-view-versus-a-copy\n",
      "  newData3[\"sleepTarget2\"] = np.where(newData2[\"sleepTarget\"] >= .75, 1,0)\n"
     ]
    }
   ],
   "source": [
    "newData3 = newData2\n",
    "newData3[\"sleepTarget2\"] = np.where(newData2[\"sleepTarget\"] >= .75, 1,0)"
   ]
  },
  {
   "cell_type": "code",
   "execution_count": 104,
   "id": "5d992b95",
   "metadata": {},
   "outputs": [
    {
     "data": {
      "text/plain": [
       "<BarContainer object of 5 artists>"
      ]
     },
     "execution_count": 104,
     "metadata": {},
     "output_type": "execute_result"
    },
    {
     "data": {
      "image/png": "[encoded data removed]",
      "text/plain": [
       "<Figure size 432x288 with 1 Axes>"
      ]
     },
     "metadata": {
      "needs_background": "light"
     },
     "output_type": "display_data"
    }
   ],
   "source": [
    "df = pd.DataFrame(newData3.groupby('RACE')['sleepTarget2'].mean().reset_index())\n",
    "plt.barh(df['RACE'], df['sleepTarget2'])"
   ]
  },
  {
   "cell_type": "code",
   "execution_count": 105,
   "id": "971072f5",
   "metadata": {},
   "outputs": [
    {
     "data": {
      "text/plain": [
       "<BarContainer object of 5 artists>"
      ]
     },
     "execution_count": 105,
     "metadata": {},
     "output_type": "execute_result"
    },
    {
     "data": {
      "image/png": "[encoded data removed]",
      "text/plain": [
       "<Figure size 432x288 with 1 Axes>"
      ]
     },
     "metadata": {
      "needs_background": "light"
     },
     "output_type": "display_data"
    }
   ],
   "source": [
    "cats = ['Not at All', 'A Little', 'Somewhat', 'Quite a Bit', 'Extremely']\n",
    "df = pd.DataFrame(newData3.groupby('STRSSMO')['sleepTarget2'].mean().reindex(cats))\n",
    "plt.barh(df.index, df['sleepTarget2'])"
   ]
  },
  {
   "cell_type": "code",
   "execution_count": 106,
   "id": "409ef402",
   "metadata": {},
   "outputs": [
    {
     "data": {
      "text/plain": [
       "<BarContainer object of 17 artists>"
      ]
     },
     "execution_count": 106,
     "metadata": {},
     "output_type": "execute_result"
    },
    {
     "data": {
      "image/png": "[encoded data removed]",
      "text/plain": [
       "<Figure size 432x288 with 1 Axes>"
      ]
     },
     "metadata": {
      "needs_background": "light"
     },
     "output_type": "display_data"
    }
   ],
   "source": [
    "df = pd.DataFrame(newData3.groupby('P_STRESS')['sleepTarget'].mean().reset_index())\n",
    "plt.barh(df['P_STRESS'], df['sleepTarget'])"
   ]
  },
  {
   "cell_type": "code",
   "execution_count": 107,
   "id": "3bb2e1ec",
   "metadata": {},
   "outputs": [
    {
     "data": {
      "text/plain": [
       "<BarContainer object of 2 artists>"
      ]
     },
     "execution_count": 107,
     "metadata": {},
     "output_type": "execute_result"
    },
    {
     "data": {
      "image/png": "[encoded data removed]",
      "text/plain": [
       "<Figure size 432x288 with 1 Axes>"
      ]
     },
     "metadata": {
      "needs_background": "light"
     },
     "output_type": "display_data"
    }
   ],
   "source": [
    "df = pd.DataFrame(newData3.groupby('CHILDRE')['sleepTarget2'].mean().reset_index())\n",
    "plt.barh(df['CHILDRE'], df['sleepTarget2'])"
   ]
  },
  {
   "cell_type": "markdown",
   "id": "8d1c7363",
   "metadata": {},
   "source": [
    "# Looking at Stress from Responsibility broken down by Perimenopause stage or Not"
   ]
  },
  {
   "cell_type": "code",
   "execution_count": 108,
   "id": "64bb0468",
   "metadata": {},
   "outputs": [
    {
     "data": {
      "text/plain": [
       "Text(0.5, 1.0, 'How Upsetting is taking on the responsibility of another family member/friend? (During PeriM)')"
      ]
     },
     "execution_count": 108,
     "metadata": {},
     "output_type": "execute_result"
    },
    {
     "data": {
      "image/png": "[encoded data removed]",
      "text/plain": [
       "<Figure size 432x288 with 1 Axes>"
      ]
     },
     "metadata": {
      "needs_background": "light"
     },
     "output_type": "display_data"
    }
   ],
   "source": [
    "cats = ['No', 'Yes,Not Upsetting', 'Yes, Somewhat Upsetting', 'Yes, Very Upsetting', 'Yes, Very Upsetting and Still Upsetting']\n",
    "df = pd.DataFrame(newData2['RESPCAR'].value_counts(normalize = True).mul(100).reindex(cats))\n",
    "plt.barh(df.index, df['RESPCAR'])\n",
    "plt.xlabel(\"Percent of People who Responded\")\n",
    "plt.title(\"How Upsetting is taking on the responsibility of another family member/friend? (During PeriM)\")"
   ]
  },
  {
   "cell_type": "code",
   "execution_count": 109,
   "id": "8fef1c20",
   "metadata": {},
   "outputs": [
    {
     "data": {
      "text/plain": [
       "STATUS\n",
       "Hysterectomy/both ovaries removed           693\n",
       "Natural Post                               1328\n",
       "Natural post                               5050\n",
       "Post by BSO                                 414\n",
       "Post by Bilateral Salpingo Oophorectomy      18\n",
       "Post-menopausal                            2500\n",
       "Pre-menopausal                             3736\n",
       "Pregnant/breastfeeding                        5\n",
       "Unknown due to HT use                      1356\n",
       "Unknown due to hormone therapy use          215\n",
       "use                                         369\n",
       "Name: STATUS, dtype: int64"
      ]
     },
     "execution_count": 109,
     "metadata": {},
     "output_type": "execute_result"
    }
   ],
   "source": [
    "# Most of the 'not perimenopause' group left is Natural Post-menopausal\n",
    "newData4 = data[data['STATUS'] != 'Early perimenopause']\n",
    "newData4 = newData4[newData4['STATUS'] != 'Late perimenopause']\n",
    "df2 = newData4.groupby(['STATUS'])['STATUS'].count()\n",
    "df2"
   ]
  },
  {
   "cell_type": "code",
   "execution_count": 110,
   "id": "2bd491ab",
   "metadata": {},
   "outputs": [
    {
     "data": {
      "text/plain": [
       "Text(0.5, 1.0, 'How Upsetting is taking on the responsibility of another family member/friend? (Not During PeriM)')"
      ]
     },
     "execution_count": 110,
     "metadata": {},
     "output_type": "execute_result"
    },
    {
     "data": {
      "image/png": "[encoded data removed]",
      "text/plain": [
       "<Figure size 432x288 with 1 Axes>"
      ]
     },
     "metadata": {
      "needs_background": "light"
     },
     "output_type": "display_data"
    }
   ],
   "source": [
    "cats = ['No', 'Yes,Not Upsetting', 'Yes, Somewhat Upsetting', 'Yes, Very Upsetting', 'Yes, Very Upsetting and Still Upsetting']\n",
    "df = pd.DataFrame(newData4['RESPCAR'].value_counts(normalize = True).mul(100).reindex(cats))\n",
    "plt.barh(df.index, df['RESPCAR'])\n",
    "plt.xlabel(\"Percent of People who Responded\")\n",
    "plt.title(\"How Upsetting is taking on the responsibility of another family member/friend? (Not During PeriM)\")"
   ]
  },
  {
   "cell_type": "markdown",
   "id": "f3491dd8",
   "metadata": {},
   "source": [
    "# Looking at Stress from Role as Mother broken down by Perimenopause stage or Not"
   ]
  },
  {
   "cell_type": "code",
   "execution_count": 111,
   "id": "6e21d7f1",
   "metadata": {},
   "outputs": [
    {
     "data": {
      "text/plain": [
       "Text(0.5, 1.0, 'How Stressful is your role as a Mother? (During PeriM)')"
      ]
     },
     "execution_count": 111,
     "metadata": {},
     "output_type": "execute_result"
    },
    {
     "data": {
      "image/png": "[encoded data removed]",
      "text/plain": [
       "<Figure size 432x288 with 1 Axes>"
      ]
     },
     "metadata": {
      "needs_background": "light"
     },
     "output_type": "display_data"
    }
   ],
   "source": [
    "cats = ['Not at All', 'A Little', 'Somewhat', 'Quite a Bit', 'Extremely']\n",
    "df = pd.DataFrame(newData2['STRSSMO'].value_counts(normalize = True).mul(100).reindex(cats))\n",
    "plt.barh(df.index, df['STRSSMO'])\n",
    "plt.xlabel(\"Percent of People who Responded\")\n",
    "plt.title(\"How Stressful is your role as a Mother? (During PeriM)\")"
   ]
  },
  {
   "cell_type": "code",
   "execution_count": 112,
   "id": "fd5581ea",
   "metadata": {},
   "outputs": [
    {
     "data": {
      "text/plain": [
       "Text(0.5, 1.0, 'How Stressful is your role as a Mother? (Not During PeriM)')"
      ]
     },
     "execution_count": 112,
     "metadata": {},
     "output_type": "execute_result"
    },
    {
     "data": {
      "image/png": "[encoded data removed]",
      "text/plain": [
       "<Figure size 432x288 with 1 Axes>"
      ]
     },
     "metadata": {
      "needs_background": "light"
     },
     "output_type": "display_data"
    }
   ],
   "source": [
    "cats = ['Not at All', 'A Little', 'Somewhat', 'Quite a Bit', 'Extremely']\n",
    "df = pd.DataFrame(newData4['STRSSMO'].value_counts(normalize = True).mul(100).reindex(cats))\n",
    "plt.barh(df.index, df['STRSSMO'])\n",
    "plt.xlabel(\"Percent of People who Responded\")\n",
    "plt.title(\"How Stressful is your role as a Mother? (Not During PeriM)\")"
   ]
  },
  {
   "cell_type": "markdown",
   "id": "4f2955ae",
   "metadata": {},
   "source": [
    "# Looking at Stress from Career broken down by Perimenopause stage or Not"
   ]
  },
  {
   "cell_type": "code",
   "execution_count": 113,
   "id": "310fedc7",
   "metadata": {},
   "outputs": [
    {
     "data": {
      "text/plain": [
       "Text(0.5, 1.0, 'How Stressful is your current Job? (During PeriM)')"
      ]
     },
     "execution_count": 113,
     "metadata": {},
     "output_type": "execute_result"
    },
    {
     "data": {
      "image/png": "[encoded data removed]",
      "text/plain": [
       "<Figure size 432x288 with 1 Axes>"
      ]
     },
     "metadata": {
      "needs_background": "light"
     },
     "output_type": "display_data"
    }
   ],
   "source": [
    "cats = ['Not at All', 'A Little', 'Somewhat', 'Quite a Bit', 'Extremely']\n",
    "df = pd.DataFrame(newData2['STRSSJO'].value_counts(normalize = True).mul(100).reindex(cats))\n",
    "plt.barh(df.index, df['STRSSJO'])\n",
    "plt.xlabel(\"Percent of People who Responded\")\n",
    "plt.title(\"How Stressful is your current Job? (During PeriM)\")"
   ]
  },
  {
   "cell_type": "code",
   "execution_count": 114,
   "id": "44806382",
   "metadata": {},
   "outputs": [
    {
     "data": {
      "text/plain": [
       "Text(0.5, 1.0, 'How Stressful is your current Job? (Not During PeriM)')"
      ]
     },
     "execution_count": 114,
     "metadata": {},
     "output_type": "execute_result"
    },
    {
     "data": {
      "image/png": "[encoded data removed]",
      "text/plain": [
       "<Figure size 432x288 with 1 Axes>"
      ]
     },
     "metadata": {
      "needs_background": "light"
     },
     "output_type": "display_data"
    }
   ],
   "source": [
    "cats = ['Not at All', 'A Little', 'Somewhat', 'Quite a Bit', 'Extremely']\n",
    "df = pd.DataFrame(newData4['STRSSJO'].value_counts(normalize = True).mul(100).reindex(cats))\n",
    "plt.barh(df.index, df['STRSSJO'])\n",
    "plt.xlabel(\"Percent of People who Responded\")\n",
    "plt.title(\"How Stressful is your current Job? (Not During PeriM)\")"
   ]
  },
  {
   "cell_type": "markdown",
   "id": "c89d3eea",
   "metadata": {},
   "source": [
    "# Looking at Stress from Relationship broken down by Perimenopause stage or Not"
   ]
  },
  {
   "cell_type": "code",
   "execution_count": 115,
   "id": "c9f347b3",
   "metadata": {},
   "outputs": [
    {
     "data": {
      "text/plain": [
       "Text(0.5, 1.0, 'How Stressful is your current Relationship? (During PeriM)')"
      ]
     },
     "execution_count": 115,
     "metadata": {},
     "output_type": "execute_result"
    },
    {
     "data": {
      "image/png": "[encoded data removed]",
      "text/plain": [
       "<Figure size 432x288 with 1 Axes>"
      ]
     },
     "metadata": {
      "needs_background": "light"
     },
     "output_type": "display_data"
    }
   ],
   "source": [
    "cats = ['Not at All', 'A Little', 'Somewhat', 'Quite a Bit', 'Extremely']\n",
    "df = pd.DataFrame(newData2['STRSREL'].value_counts(normalize = True).mul(100).reindex(cats))\n",
    "plt.barh(df.index, df['STRSREL'])\n",
    "plt.xlabel(\"Percent of People who Responded\")\n",
    "plt.title(\"How Stressful is your current Relationship? (During PeriM)\")"
   ]
  },
  {
   "cell_type": "code",
   "execution_count": 116,
   "id": "b35a01f2",
   "metadata": {},
   "outputs": [
    {
     "data": {
      "text/plain": [
       "Text(0.5, 1.0, 'How Stressful is your current Relationship? (Not During PeriM)')"
      ]
     },
     "execution_count": 116,
     "metadata": {},
     "output_type": "execute_result"
    },
    {
     "data": {
      "image/png": "[encoded data removed]",
      "text/plain": [
       "<Figure size 432x288 with 1 Axes>"
      ]
     },
     "metadata": {
      "needs_background": "light"
     },
     "output_type": "display_data"
    }
   ],
   "source": [
    "cats = ['Not at All', 'A Little', 'Somewhat', 'Quite a Bit', 'Extremely']\n",
    "df = pd.DataFrame(newData4['STRSREL'].value_counts(normalize = True).mul(100).reindex(cats))\n",
    "plt.barh(df.index, df['STRSREL'])\n",
    "plt.xlabel(\"Percent of People who Responded\")\n",
    "plt.title(\"How Stressful is your current Relationship? (Not During PeriM)\")"
   ]
  },
  {
   "cell_type": "code",
   "execution_count": null,
   "id": "8a604809",
   "metadata": {},
   "outputs": [],
   "source": []
  },
  {
   "cell_type": "code",
   "execution_count": null,
   "id": "a05ba950",
   "metadata": {},
   "outputs": [],
   "source": []
  }
 ],
 "metadata": {
  "kernelspec": {
   "display_name": "Python 3 (ipykernel)",
   "language": "python",
   "name": "python3"
  },
  "language_info": {
   "codemirror_mode": {
    "name": "ipython",
    "version": 3
   },
   "file_extension": ".py",
   "mimetype": "text/x-python",
   "name": "python",
   "nbconvert_exporter": "python",
   "pygments_lexer": "ipython3",
   "version": "3.9.7"
  }
 },
 "nbformat": 4,
 "nbformat_minor": 5
}
